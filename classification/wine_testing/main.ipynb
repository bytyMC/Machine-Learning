{
 "cells": [
  {
   "cell_type": "markdown",
   "metadata": {},
   "source": [
    "# **Using different classification techniques for predicting wine quality**"
   ]
  },
  {
   "cell_type": "markdown",
   "metadata": {},
   "source": [
    "(1) Necessary imports and data loading"
   ]
  },
  {
   "cell_type": "code",
   "execution_count": 52,
   "metadata": {},
   "outputs": [
    {
     "data": {
      "text/html": [
       "<div>\n",
       "<style scoped>\n",
       "    .dataframe tbody tr th:only-of-type {\n",
       "        vertical-align: middle;\n",
       "    }\n",
       "\n",
       "    .dataframe tbody tr th {\n",
       "        vertical-align: top;\n",
       "    }\n",
       "\n",
       "    .dataframe thead th {\n",
       "        text-align: right;\n",
       "    }\n",
       "</style>\n",
       "<table border=\"1\" class=\"dataframe\">\n",
       "  <thead>\n",
       "    <tr style=\"text-align: right;\">\n",
       "      <th></th>\n",
       "      <th>type</th>\n",
       "      <th>fixed acidity</th>\n",
       "      <th>volatile acidity</th>\n",
       "      <th>citric acid</th>\n",
       "      <th>residual sugar</th>\n",
       "      <th>chlorides</th>\n",
       "      <th>free sulfur dioxide</th>\n",
       "      <th>total sulfur dioxide</th>\n",
       "      <th>density</th>\n",
       "      <th>pH</th>\n",
       "      <th>sulphates</th>\n",
       "      <th>alcohol</th>\n",
       "      <th>quality</th>\n",
       "    </tr>\n",
       "  </thead>\n",
       "  <tbody>\n",
       "    <tr>\n",
       "      <th>0</th>\n",
       "      <td>white</td>\n",
       "      <td>7.0</td>\n",
       "      <td>0.27</td>\n",
       "      <td>0.36</td>\n",
       "      <td>20.7</td>\n",
       "      <td>0.045</td>\n",
       "      <td>45.0</td>\n",
       "      <td>170.0</td>\n",
       "      <td>1.0010</td>\n",
       "      <td>3.00</td>\n",
       "      <td>0.45</td>\n",
       "      <td>8.8</td>\n",
       "      <td>6</td>\n",
       "    </tr>\n",
       "    <tr>\n",
       "      <th>1</th>\n",
       "      <td>white</td>\n",
       "      <td>6.3</td>\n",
       "      <td>0.30</td>\n",
       "      <td>0.34</td>\n",
       "      <td>1.6</td>\n",
       "      <td>0.049</td>\n",
       "      <td>14.0</td>\n",
       "      <td>132.0</td>\n",
       "      <td>0.9940</td>\n",
       "      <td>3.30</td>\n",
       "      <td>0.49</td>\n",
       "      <td>9.5</td>\n",
       "      <td>6</td>\n",
       "    </tr>\n",
       "    <tr>\n",
       "      <th>2</th>\n",
       "      <td>white</td>\n",
       "      <td>8.1</td>\n",
       "      <td>0.28</td>\n",
       "      <td>0.40</td>\n",
       "      <td>6.9</td>\n",
       "      <td>0.050</td>\n",
       "      <td>30.0</td>\n",
       "      <td>97.0</td>\n",
       "      <td>0.9951</td>\n",
       "      <td>3.26</td>\n",
       "      <td>0.44</td>\n",
       "      <td>10.1</td>\n",
       "      <td>6</td>\n",
       "    </tr>\n",
       "    <tr>\n",
       "      <th>3</th>\n",
       "      <td>white</td>\n",
       "      <td>7.2</td>\n",
       "      <td>0.23</td>\n",
       "      <td>0.32</td>\n",
       "      <td>8.5</td>\n",
       "      <td>0.058</td>\n",
       "      <td>47.0</td>\n",
       "      <td>186.0</td>\n",
       "      <td>0.9956</td>\n",
       "      <td>3.19</td>\n",
       "      <td>0.40</td>\n",
       "      <td>9.9</td>\n",
       "      <td>6</td>\n",
       "    </tr>\n",
       "    <tr>\n",
       "      <th>4</th>\n",
       "      <td>white</td>\n",
       "      <td>7.2</td>\n",
       "      <td>0.23</td>\n",
       "      <td>0.32</td>\n",
       "      <td>8.5</td>\n",
       "      <td>0.058</td>\n",
       "      <td>47.0</td>\n",
       "      <td>186.0</td>\n",
       "      <td>0.9956</td>\n",
       "      <td>3.19</td>\n",
       "      <td>0.40</td>\n",
       "      <td>9.9</td>\n",
       "      <td>6</td>\n",
       "    </tr>\n",
       "  </tbody>\n",
       "</table>\n",
       "</div>"
      ],
      "text/plain": [
       "    type  fixed acidity  volatile acidity  citric acid  residual sugar  \\\n",
       "0  white            7.0              0.27         0.36            20.7   \n",
       "1  white            6.3              0.30         0.34             1.6   \n",
       "2  white            8.1              0.28         0.40             6.9   \n",
       "3  white            7.2              0.23         0.32             8.5   \n",
       "4  white            7.2              0.23         0.32             8.5   \n",
       "\n",
       "   chlorides  free sulfur dioxide  total sulfur dioxide  density    pH  \\\n",
       "0      0.045                 45.0                 170.0   1.0010  3.00   \n",
       "1      0.049                 14.0                 132.0   0.9940  3.30   \n",
       "2      0.050                 30.0                  97.0   0.9951  3.26   \n",
       "3      0.058                 47.0                 186.0   0.9956  3.19   \n",
       "4      0.058                 47.0                 186.0   0.9956  3.19   \n",
       "\n",
       "   sulphates  alcohol  quality  \n",
       "0       0.45      8.8        6  \n",
       "1       0.49      9.5        6  \n",
       "2       0.44     10.1        6  \n",
       "3       0.40      9.9        6  \n",
       "4       0.40      9.9        6  "
      ]
     },
     "execution_count": 52,
     "metadata": {},
     "output_type": "execute_result"
    }
   ],
   "source": [
    "import pandas as pd\n",
    "import matplotlib.pyplot as plt\n",
    "import seaborn as sb\n",
    "from sklearn.model_selection import train_test_split\n",
    "from sklearn.preprocessing import MinMaxScaler\n",
    "from sklearn import metrics\n",
    "from sklearn.svm import SVC\n",
    "from sklearn.naive_bayes import GaussianNB\n",
    "from xgboost import XGBClassifier\n",
    "from sklearn.linear_model import LogisticRegression\n",
    "from sklearn.metrics import confusion_matrix, ConfusionMatrixDisplay, classification_report\n",
    "from sklearn.tree import DecisionTreeClassifier\n",
    "from sklearn.ensemble import RandomForestClassifier, GradientBoostingClassifier, AdaBoostClassifier\n",
    "from sklearn.neighbors import KNeighborsClassifier\n",
    "from lightgbm import LGBMClassifier\n",
    "from sklearn.neural_network import MLPClassifier\n",
    "from sklearn.discriminant_analysis import LinearDiscriminantAnalysis\n",
    "import warnings\n",
    "from pkg_resources import PkgResourcesDeprecationWarning\n",
    "warnings.filterwarnings(\"ignore\", category=PkgResourcesDeprecationWarning)\n",
    "\n",
    "# Load data\n",
    "data = pd.read_csv('data/wine_data.csv')\n",
    "data.head()"
   ]
  },
  {
   "cell_type": "markdown",
   "metadata": {},
   "source": [
    "(2) Check for null values (if any, replace them with mean value)"
   ]
  },
  {
   "cell_type": "code",
   "execution_count": 53,
   "metadata": {},
   "outputs": [
    {
     "name": "stdout",
     "output_type": "stream",
     "text": [
      "type                    False\n",
      "fixed acidity            True\n",
      "volatile acidity         True\n",
      "citric acid              True\n",
      "residual sugar           True\n",
      "chlorides                True\n",
      "free sulfur dioxide     False\n",
      "total sulfur dioxide    False\n",
      "density                 False\n",
      "pH                       True\n",
      "sulphates                True\n",
      "alcohol                 False\n",
      "quality                 False\n",
      "dtype: bool\n"
     ]
    }
   ],
   "source": [
    "print(data.isnull().any())"
   ]
  },
  {
   "cell_type": "code",
   "execution_count": 54,
   "metadata": {},
   "outputs": [
    {
     "name": "stdout",
     "output_type": "stream",
     "text": [
      "Total missing values left: 0\n"
     ]
    }
   ],
   "source": [
    "# Impute missing values with mean for numerical columns\n",
    "for col in data.columns:\n",
    "    if data[col].isnull().sum() > 0:\n",
    "        data[col] = data[col].fillna(data[col].mean())\n",
    "\n",
    "# Verify if any null values remain\n",
    "print(\"Total missing values left:\", data.isnull().sum().sum())"
   ]
  },
  {
   "cell_type": "markdown",
   "metadata": {},
   "source": [
    "(3) Data visualization and preprocessing"
   ]
  },
  {
   "cell_type": "code",
   "execution_count": 55,
   "metadata": {},
   "outputs": [
    {
     "data": {
      "image/png": "[encoded data removed]",
      "text/plain": [
       "<Figure size 720x720 with 12 Axes>"
      ]
     },
     "metadata": {
      "needs_background": "light"
     },
     "output_type": "display_data"
    }
   ],
   "source": [
    "# Visualize the distribution of the data\n",
    "data.hist(bins=20, figsize=(10, 10), color='skyblue', edgecolor='black', grid=False)\n",
    "plt.suptitle(\"Feature Distributions in Dataset\", fontsize=16)\n",
    "plt.show()"
   ]
  },
  {
   "cell_type": "code",
   "execution_count": 56,
   "metadata": {},
   "outputs": [
    {
     "data": {
      "image/png": "[encoded data removed]",
      "text/plain": [
       "<Figure size 720x432 with 1 Axes>"
      ]
     },
     "metadata": {
      "needs_background": "light"
     },
     "output_type": "display_data"
    }
   ],
   "source": [
    "# Visualize relationship between quality and average alcohol content\n",
    "plt.figure(figsize=(10, 6))\n",
    "\n",
    "avg_alcohol = data.groupby('quality')['alcohol'].mean()\n",
    "plt.bar(avg_alcohol.index, avg_alcohol.values, color='skyblue', edgecolor='black')\n",
    "plt.xlabel('Quality')\n",
    "plt.ylabel('Average Alcohol Content')\n",
    "plt.title('Average Alcohol Content by Quality')\n",
    "plt.show()"
   ]
  },
  {
   "cell_type": "code",
   "execution_count": 57,
   "metadata": {},
   "outputs": [
    {
     "data": {
      "image/png": "[encoded data removed]",
      "text/plain": [
       "<Figure size 864x864 with 2 Axes>"
      ]
     },
     "metadata": {
      "needs_background": "light"
     },
     "output_type": "display_data"
    }
   ],
   "source": [
    "# Heatmap for |correlations| > 0.7\n",
    "plt.figure(figsize=(12, 12))\n",
    "correlation_matrix = data.corr()\n",
    "mask = (correlation_matrix < 0.7) & (correlation_matrix > -0.7)\n",
    "sb.heatmap(correlation_matrix, annot=True, fmt=\".2f\", mask=mask, cmap=\"coolwarm\", cbar=True)\n",
    "plt.title(\"Feature Correlation Heatmap\")\n",
    "plt.show()"
   ]
  },
  {
   "cell_type": "code",
   "execution_count": 58,
   "metadata": {},
   "outputs": [
    {
     "data": {
      "text/html": [
       "<div>\n",
       "<style scoped>\n",
       "    .dataframe tbody tr th:only-of-type {\n",
       "        vertical-align: middle;\n",
       "    }\n",
       "\n",
       "    .dataframe tbody tr th {\n",
       "        vertical-align: top;\n",
       "    }\n",
       "\n",
       "    .dataframe thead th {\n",
       "        text-align: right;\n",
       "    }\n",
       "</style>\n",
       "<table border=\"1\" class=\"dataframe\">\n",
       "  <thead>\n",
       "    <tr style=\"text-align: right;\">\n",
       "      <th></th>\n",
       "      <th>type</th>\n",
       "      <th>fixed acidity</th>\n",
       "      <th>volatile acidity</th>\n",
       "      <th>citric acid</th>\n",
       "      <th>residual sugar</th>\n",
       "      <th>chlorides</th>\n",
       "      <th>free sulfur dioxide</th>\n",
       "      <th>density</th>\n",
       "      <th>pH</th>\n",
       "      <th>sulphates</th>\n",
       "      <th>alcohol</th>\n",
       "      <th>quality</th>\n",
       "    </tr>\n",
       "  </thead>\n",
       "  <tbody>\n",
       "    <tr>\n",
       "      <th>0</th>\n",
       "      <td>white</td>\n",
       "      <td>7.0</td>\n",
       "      <td>0.27</td>\n",
       "      <td>0.36</td>\n",
       "      <td>20.7</td>\n",
       "      <td>0.045</td>\n",
       "      <td>45.0</td>\n",
       "      <td>1.0010</td>\n",
       "      <td>3.00</td>\n",
       "      <td>0.45</td>\n",
       "      <td>8.8</td>\n",
       "      <td>6</td>\n",
       "    </tr>\n",
       "    <tr>\n",
       "      <th>1</th>\n",
       "      <td>white</td>\n",
       "      <td>6.3</td>\n",
       "      <td>0.30</td>\n",
       "      <td>0.34</td>\n",
       "      <td>1.6</td>\n",
       "      <td>0.049</td>\n",
       "      <td>14.0</td>\n",
       "      <td>0.9940</td>\n",
       "      <td>3.30</td>\n",
       "      <td>0.49</td>\n",
       "      <td>9.5</td>\n",
       "      <td>6</td>\n",
       "    </tr>\n",
       "    <tr>\n",
       "      <th>2</th>\n",
       "      <td>white</td>\n",
       "      <td>8.1</td>\n",
       "      <td>0.28</td>\n",
       "      <td>0.40</td>\n",
       "      <td>6.9</td>\n",
       "      <td>0.050</td>\n",
       "      <td>30.0</td>\n",
       "      <td>0.9951</td>\n",
       "      <td>3.26</td>\n",
       "      <td>0.44</td>\n",
       "      <td>10.1</td>\n",
       "      <td>6</td>\n",
       "    </tr>\n",
       "    <tr>\n",
       "      <th>3</th>\n",
       "      <td>white</td>\n",
       "      <td>7.2</td>\n",
       "      <td>0.23</td>\n",
       "      <td>0.32</td>\n",
       "      <td>8.5</td>\n",
       "      <td>0.058</td>\n",
       "      <td>47.0</td>\n",
       "      <td>0.9956</td>\n",
       "      <td>3.19</td>\n",
       "      <td>0.40</td>\n",
       "      <td>9.9</td>\n",
       "      <td>6</td>\n",
       "    </tr>\n",
       "    <tr>\n",
       "      <th>4</th>\n",
       "      <td>white</td>\n",
       "      <td>7.2</td>\n",
       "      <td>0.23</td>\n",
       "      <td>0.32</td>\n",
       "      <td>8.5</td>\n",
       "      <td>0.058</td>\n",
       "      <td>47.0</td>\n",
       "      <td>0.9956</td>\n",
       "      <td>3.19</td>\n",
       "      <td>0.40</td>\n",
       "      <td>9.9</td>\n",
       "      <td>6</td>\n",
       "    </tr>\n",
       "  </tbody>\n",
       "</table>\n",
       "</div>"
      ],
      "text/plain": [
       "    type  fixed acidity  volatile acidity  citric acid  residual sugar  \\\n",
       "0  white            7.0              0.27         0.36            20.7   \n",
       "1  white            6.3              0.30         0.34             1.6   \n",
       "2  white            8.1              0.28         0.40             6.9   \n",
       "3  white            7.2              0.23         0.32             8.5   \n",
       "4  white            7.2              0.23         0.32             8.5   \n",
       "\n",
       "   chlorides  free sulfur dioxide  density    pH  sulphates  alcohol  quality  \n",
       "0      0.045                 45.0   1.0010  3.00       0.45      8.8        6  \n",
       "1      0.049                 14.0   0.9940  3.30       0.49      9.5        6  \n",
       "2      0.050                 30.0   0.9951  3.26       0.44     10.1        6  \n",
       "3      0.058                 47.0   0.9956  3.19       0.40      9.9        6  \n",
       "4      0.058                 47.0   0.9956  3.19       0.40      9.9        6  "
      ]
     },
     "execution_count": 58,
     "metadata": {},
     "output_type": "execute_result"
    }
   ],
   "source": [
    "# Drop highly correlated column: 'total sulfur dioxide' and 'free sulphur dioxide' columns\n",
    "data = data.drop('total sulfur dioxide', axis=1)\n",
    "data.head()"
   ]
  },
  {
   "cell_type": "code",
   "execution_count": 59,
   "metadata": {},
   "outputs": [],
   "source": [
    "# Feature Engineering: Create a binary target variable to predict not the exact quality, but if the quality is high (i.e. over 5)\n",
    "data['best quality'] = [1 if x > 5 else 0 for x in data.quality]  \n",
    "# Convert type column to ones and zeros\n",
    "data.replace({'white': 1, 'red': 0}, inplace=True)"
   ]
  },
  {
   "cell_type": "markdown",
   "metadata": {},
   "source": [
    "(4) Extract the features and the label, and split the data"
   ]
  },
  {
   "cell_type": "code",
   "execution_count": 60,
   "metadata": {},
   "outputs": [],
   "source": [
    "# Separate features and labels\n",
    "features = data.drop(['quality', 'best quality'], axis=1)\n",
    "label = data['best quality']\n",
    "\n",
    "xtrain, xtest, ytrain, ytest = train_test_split(features, label, test_size=0.2, random_state=40)"
   ]
  },
  {
   "cell_type": "markdown",
   "metadata": {},
   "source": [
    "(5) Normalize the data using Min-Max normalization"
   ]
  },
  {
   "cell_type": "code",
   "execution_count": 61,
   "metadata": {},
   "outputs": [],
   "source": [
    "norm = MinMaxScaler()\n",
    "xtrain = norm.fit_transform(xtrain)\n",
    "xtest = norm.transform(xtest)"
   ]
  },
  {
   "cell_type": "markdown",
   "metadata": {},
   "source": [
    "(6) Train the models: Logistic regression, XGBoost and SVM"
   ]
  },
  {
   "cell_type": "code",
   "execution_count": 62,
   "metadata": {},
   "outputs": [
    {
     "name": "stdout",
     "output_type": "stream",
     "text": [
      "LogisticRegression:\n",
      "Training ROC-AUC Score:  0.7019709565048414\n",
      "Validation ROC-AUC Score:  0.6937888865050418\n",
      "-------------------------\n",
      "LogisticRegression:\n",
      "Training ROC-AUC Score:  0.7045887575519619\n",
      "Validation ROC-AUC Score:  0.7022455839233355\n",
      "-------------------------\n",
      "LogisticRegression:\n",
      "Training ROC-AUC Score:  0.7019709565048414\n",
      "Validation ROC-AUC Score:  0.6937888865050418\n",
      "-------------------------\n",
      "GaussianNB:\n",
      "Training ROC-AUC Score:  0.6396780431240314\n",
      "Validation ROC-AUC Score:  0.6251340913966961\n",
      "-------------------------\n",
      "SVC:\n",
      "Training ROC-AUC Score:  0.6991656008040561\n",
      "Validation ROC-AUC Score:  0.6879450557309386\n",
      "-------------------------\n",
      "DecisionTreeClassifier:\n",
      "Training ROC-AUC Score:  1.0\n",
      "Validation ROC-AUC Score:  0.7586686895311655\n",
      "-------------------------\n",
      "RandomForestClassifier:\n",
      "Training ROC-AUC Score:  1.0\n",
      "Validation ROC-AUC Score:  0.8112784912291455\n",
      "-------------------------\n",
      "KNeighborsClassifier:\n",
      "Training ROC-AUC Score:  0.813513890194117\n",
      "Validation ROC-AUC Score:  0.7232711149252664\n",
      "-------------------------\n",
      "GradientBoostingClassifier:\n",
      "Training ROC-AUC Score:  0.7731326166701444\n",
      "Validation ROC-AUC Score:  0.7239479572133509\n",
      "-------------------------\n",
      "LGBMClassifier:\n",
      "Training ROC-AUC Score:  0.9090422049737423\n",
      "Validation ROC-AUC Score:  0.7768642535323506\n",
      "-------------------------\n",
      "AdaBoostClassifier:\n",
      "Training ROC-AUC Score:  0.7329176336416504\n",
      "Validation ROC-AUC Score:  0.697073487193633\n",
      "-------------------------\n",
      "XGBClassifier:\n",
      "Training ROC-AUC Score:  0.9758950458493477\n",
      "Validation ROC-AUC Score:  0.7893666799481003\n",
      "-------------------------\n",
      "MLPClassifier:\n",
      "Training ROC-AUC Score:  0.7578645528872267\n",
      "Validation ROC-AUC Score:  0.7408077154912598\n",
      "-------------------------\n",
      "LinearDiscriminantAnalysis:\n",
      "Training ROC-AUC Score:  0.7027562968189776\n",
      "Validation ROC-AUC Score:  0.6886704263340179\n",
      "-------------------------\n"
     ]
    }
   ],
   "source": [
    "# Initialize models\n",
    "models = [\n",
    "    LogisticRegression(random_state = 0),\n",
    "    LogisticRegression(penalty='l1', solver='liblinear', random_state=0, max_iter=1000),\n",
    "    LogisticRegression(penalty='l2', solver='lbfgs', random_state=0),\n",
    "    GaussianNB(),\n",
    "    SVC(kernel = 'linear', random_state = 0),\n",
    "    DecisionTreeClassifier(random_state=0),\n",
    "    RandomForestClassifier(random_state=0),\n",
    "    KNeighborsClassifier(),\n",
    "    GradientBoostingClassifier(random_state=0),\n",
    "    LGBMClassifier(),\n",
    "    AdaBoostClassifier(random_state=0),\n",
    "    XGBClassifier(use_label_encoder=False, eval_metric='logloss'),\n",
    "    MLPClassifier(max_iter=2000, random_state=0),\n",
    "    LinearDiscriminantAnalysis()\n",
    "    ]\n",
    "\n",
    "# Train models and evaluate using ROC-AUC score\n",
    "for model in models:\n",
    "    model.fit(xtrain, ytrain)\n",
    "    ytrain_pred = model.predict(xtrain)\n",
    "    ytest_pred = model.predict(xtest)\n",
    "\n",
    "    print(f'{model.__class__.__name__}:')\n",
    "    print('Training ROC-AUC Score: ', metrics.roc_auc_score(ytrain, ytrain_pred))\n",
    "    print('Validation ROC-AUC Score: ', metrics.roc_auc_score(ytest, ytest_pred))\n",
    "    print('-'*25)"
   ]
  },
  {
   "cell_type": "code",
   "execution_count": 63,
   "metadata": {},
   "outputs": [
    {
     "data": {
      "image/png": "[encoded data removed]",
      "text/plain": [
       "<Figure size 432x288 with 2 Axes>"
      ]
     },
     "metadata": {
      "needs_background": "light"
     },
     "output_type": "display_data"
    },
    {
     "data": {
      "image/png": "[encoded data removed]",
      "text/plain": [
       "<Figure size 432x288 with 2 Axes>"
      ]
     },
     "metadata": {
      "needs_background": "light"
     },
     "output_type": "display_data"
    }
   ],
   "source": [
    "# Confusion Matrix for XGBoost\n",
    "cm = confusion_matrix(ytest, models[6].predict(xtest))\n",
    "disp = ConfusionMatrixDisplay(confusion_matrix=cm, display_labels=[0, 1]) \n",
    "\n",
    "disp.plot(cmap=\"Blues\")  \n",
    "plt.title(\"Confusion Matrix for Random Forest\")\n",
    "plt.show()\n",
    "\n",
    "# Confusion Matrix for XGBoost\n",
    "cm = confusion_matrix(ytest, models[12].predict(xtest))\n",
    "disp = ConfusionMatrixDisplay(confusion_matrix=cm, display_labels=[0, 1]) \n",
    "\n",
    "disp.plot(cmap=\"Blues\")  \n",
    "plt.title(\"Confusion Matrix for XGBoost Model\")\n",
    "plt.show()"
   ]
  },
  {
   "cell_type": "markdown",
   "metadata": {},
   "source": [
    "RandomForest and XGBoost predict mostly accurate. Random Forest has correctly predicted 746 \"best quality\" (i.e 1) labels and 341 \"not best quality\" (i.e. 0) labels, while XGBoost has correctly predicted 708 \"best quality\" (i.e 1) labels and 296 \"not best quality\" (i.e. 0) labels."
   ]
  },
  {
   "cell_type": "code",
   "execution_count": 65,
   "metadata": {},
   "outputs": [
    {
     "name": "stdout",
     "output_type": "stream",
     "text": [
      "Classification Report for Random Forest:\n",
      "               precision    recall  f1-score   support\n",
      "\n",
      "           0       0.81      0.72      0.76       474\n",
      "           1       0.85      0.90      0.88       826\n",
      "\n",
      "    accuracy                           0.84      1300\n",
      "   macro avg       0.83      0.81      0.82      1300\n",
      "weighted avg       0.83      0.84      0.83      1300\n",
      "\n"
     ]
    }
   ],
   "source": [
    "# Classification report for Random Forest\n",
    "print(\"Classification Report for Random Forest:\\n\", classification_report(ytest, models[6].predict(xtest)))"
   ]
  },
  {
   "cell_type": "markdown",
   "metadata": {},
   "source": [
    "Summary:\n",
    "* 81% of samples predicted as class 0 were correct\n",
    "* 85% of samples predicted as class 1 were correct\n",
    "* 72% of all actual class 0 samples are correcty identified.\n",
    "* 90% of all actual class 1 samples are correcty identified.\n",
    "* **Support** column: Number of true instances (not predicted) for each class."
   ]
  },
  {
   "cell_type": "code",
   "execution_count": 66,
   "metadata": {},
   "outputs": [
    {
     "name": "stdout",
     "output_type": "stream",
     "text": [
      "Classification Report for XGBoost:\n",
      "               precision    recall  f1-score   support\n",
      "\n",
      "           0       0.71      0.62      0.67       474\n",
      "           1       0.80      0.86      0.83       826\n",
      "\n",
      "    accuracy                           0.77      1300\n",
      "   macro avg       0.76      0.74      0.75      1300\n",
      "weighted avg       0.77      0.77      0.77      1300\n",
      "\n"
     ]
    }
   ],
   "source": [
    "# Classification report for XGBoost\n",
    "print(\"Classification Report for XGBoost:\\n\", classification_report(ytest, models[12].predict(xtest)))"
   ]
  },
  {
   "cell_type": "markdown",
   "metadata": {},
   "source": [
    "Summary:\n",
    "* 71% of samples predicted as class 0 were correct\n",
    "* 80% of samples predicted as class 1 were correct\n",
    "* 62% of all actual class 0 samples are correcty identified.\n",
    "* 86% of all actual class 1 samples are correcty identified."
   ]
  },
  {
   "cell_type": "markdown",
   "metadata": {},
   "source": [
    "#### **Analysis**\n",
    "\n",
    "Both Random Forest and XGBoost are ensemble models made up of decision trees, which allows them to understand feature importance and interactions between features."
   ]
  }
 ],
 "metadata": {
  "kernelspec": {
   "display_name": "Python 3",
   "language": "python",
   "name": "python3"
  },
  "language_info": {
   "codemirror_mode": {
    "name": "ipython",
    "version": 3
   },
   "file_extension": ".py",
   "mimetype": "text/x-python",
   "name": "python",
   "nbconvert_exporter": "python",
   "pygments_lexer": "ipython3",
   "version": "3.6.9"
  }
 },
 "nbformat": 4,
 "nbformat_minor": 2
}
