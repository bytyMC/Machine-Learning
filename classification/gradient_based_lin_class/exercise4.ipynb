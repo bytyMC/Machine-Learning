{
 "cells": [
  {
   "cell_type": "markdown",
   "metadata": {},
   "source": [
    "Everything in this notebook is my work for the fourth exercise of the AML course."
   ]
  },
  {
   "cell_type": "code",
   "execution_count": 315,
   "metadata": {},
   "outputs": [],
   "source": [
    "import pandas as pd\n",
    "import numpy as np\n",
    "import matplotlib.pyplot as plt\n",
    "from sklearn.preprocessing import StandardScaler"
   ]
  },
  {
   "cell_type": "markdown",
   "metadata": {},
   "source": [
    "# Preprocessing of the datasets"
   ]
  },
  {
   "cell_type": "markdown",
   "metadata": {},
   "source": [
    "Occupancy Detection Dataset"
   ]
  },
  {
   "cell_type": "markdown",
   "metadata": {},
   "source": [
    "(1) Load the dataset"
   ]
  },
  {
   "cell_type": "code",
   "execution_count": 316,
   "metadata": {},
   "outputs": [
    {
     "data": {
      "text/html": [
       "<div>\n",
       "<style scoped>\n",
       "    .dataframe tbody tr th:only-of-type {\n",
       "        vertical-align: middle;\n",
       "    }\n",
       "\n",
       "    .dataframe tbody tr th {\n",
       "        vertical-align: top;\n",
       "    }\n",
       "\n",
       "    .dataframe thead th {\n",
       "        text-align: right;\n",
       "    }\n",
       "</style>\n",
       "<table border=\"1\" class=\"dataframe\">\n",
       "  <thead>\n",
       "    <tr style=\"text-align: right;\">\n",
       "      <th></th>\n",
       "      <th>date</th>\n",
       "      <th>Temperature</th>\n",
       "      <th>Humidity</th>\n",
       "      <th>Light</th>\n",
       "      <th>CO2</th>\n",
       "      <th>HumidityRatio</th>\n",
       "      <th>Occupancy</th>\n",
       "    </tr>\n",
       "  </thead>\n",
       "  <tbody>\n",
       "    <tr>\n",
       "      <th>1</th>\n",
       "      <td>2015-02-04 17:51:00</td>\n",
       "      <td>23.18</td>\n",
       "      <td>27.2720</td>\n",
       "      <td>426.0</td>\n",
       "      <td>721.25</td>\n",
       "      <td>0.004793</td>\n",
       "      <td>1</td>\n",
       "    </tr>\n",
       "    <tr>\n",
       "      <th>2</th>\n",
       "      <td>2015-02-04 17:51:59</td>\n",
       "      <td>23.15</td>\n",
       "      <td>27.2675</td>\n",
       "      <td>429.5</td>\n",
       "      <td>714.00</td>\n",
       "      <td>0.004783</td>\n",
       "      <td>1</td>\n",
       "    </tr>\n",
       "    <tr>\n",
       "      <th>3</th>\n",
       "      <td>2015-02-04 17:53:00</td>\n",
       "      <td>23.15</td>\n",
       "      <td>27.2450</td>\n",
       "      <td>426.0</td>\n",
       "      <td>713.50</td>\n",
       "      <td>0.004779</td>\n",
       "      <td>1</td>\n",
       "    </tr>\n",
       "    <tr>\n",
       "      <th>4</th>\n",
       "      <td>2015-02-04 17:54:00</td>\n",
       "      <td>23.15</td>\n",
       "      <td>27.2000</td>\n",
       "      <td>426.0</td>\n",
       "      <td>708.25</td>\n",
       "      <td>0.004772</td>\n",
       "      <td>1</td>\n",
       "    </tr>\n",
       "    <tr>\n",
       "      <th>5</th>\n",
       "      <td>2015-02-04 17:55:00</td>\n",
       "      <td>23.10</td>\n",
       "      <td>27.2000</td>\n",
       "      <td>426.0</td>\n",
       "      <td>704.50</td>\n",
       "      <td>0.004757</td>\n",
       "      <td>1</td>\n",
       "    </tr>\n",
       "  </tbody>\n",
       "</table>\n",
       "</div>"
      ],
      "text/plain": [
       "                  date  Temperature  Humidity  Light     CO2  HumidityRatio  \\\n",
       "1  2015-02-04 17:51:00        23.18   27.2720  426.0  721.25       0.004793   \n",
       "2  2015-02-04 17:51:59        23.15   27.2675  429.5  714.00       0.004783   \n",
       "3  2015-02-04 17:53:00        23.15   27.2450  426.0  713.50       0.004779   \n",
       "4  2015-02-04 17:54:00        23.15   27.2000  426.0  708.25       0.004772   \n",
       "5  2015-02-04 17:55:00        23.10   27.2000  426.0  704.50       0.004757   \n",
       "\n",
       "   Occupancy  \n",
       "1          1  \n",
       "2          1  \n",
       "3          1  \n",
       "4          1  \n",
       "5          1  "
      ]
     },
     "execution_count": 316,
     "metadata": {},
     "output_type": "execute_result"
    }
   ],
   "source": [
    "occupancy_detection_data = pd.read_csv(\"occupancy_detection/datatraining.txt\")\n",
    "occupancy_detection_data.head()"
   ]
  },
  {
   "cell_type": "markdown",
   "metadata": {},
   "source": [
    "(2) Check if any non-numeric values. If any, convert them to numeric values."
   ]
  },
  {
   "cell_type": "code",
   "execution_count": 317,
   "metadata": {},
   "outputs": [
    {
     "data": {
      "text/plain": [
       "date              object\n",
       "Temperature      float64\n",
       "Humidity         float64\n",
       "Light            float64\n",
       "CO2              float64\n",
       "HumidityRatio    float64\n",
       "Occupancy          int64\n",
       "dtype: object"
      ]
     },
     "execution_count": 317,
     "metadata": {},
     "output_type": "execute_result"
    }
   ],
   "source": [
    "occupancy_detection_data.dtypes"
   ]
  },
  {
   "cell_type": "code",
   "execution_count": 318,
   "metadata": {},
   "outputs": [
    {
     "data": {
      "text/plain": [
       "8143"
      ]
     },
     "execution_count": 318,
     "metadata": {},
     "output_type": "execute_result"
    }
   ],
   "source": [
    "unique_dates = occupancy_detection_data['date'].unique()\n",
    "len(unique_dates)"
   ]
  },
  {
   "cell_type": "markdown",
   "metadata": {},
   "source": [
    "Only the date column is non-numeric. I will convert it to Unix timestamp, so I can use it later in the classification process. One-hot encoding is not an option, because each value is unique, so we will have unnecessary a lot of columns. The hashmap is a good idea if we have limited unique element is the column, which isn't the case here (out of 8143 samples, 8143 are unique)."
   ]
  },
  {
   "cell_type": "code",
   "execution_count": 319,
   "metadata": {},
   "outputs": [
    {
     "data": {
      "text/plain": [
       "date               int64\n",
       "Temperature      float64\n",
       "Humidity         float64\n",
       "Light            float64\n",
       "CO2              float64\n",
       "HumidityRatio    float64\n",
       "Occupancy          int64\n",
       "dtype: object"
      ]
     },
     "execution_count": 319,
     "metadata": {},
     "output_type": "execute_result"
    }
   ],
   "source": [
    "occupancy_detection_data['date'] = pd.to_datetime(occupancy_detection_data['date'])\n",
    "occupancy_detection_data['date'] = occupancy_detection_data['date'].astype('int64') // 10**9\n",
    "\n",
    "occupancy_detection_data.dtypes"
   ]
  },
  {
   "cell_type": "markdown",
   "metadata": {},
   "source": [
    "Like this, one can observe the general trend over time better. Other cases could allow the data to be interpreted as individual extracted components (like day, week, year) to capture seasonal and weekly patterns."
   ]
  },
  {
   "cell_type": "markdown",
   "metadata": {},
   "source": [
    "(3) Remove null / NaN values"
   ]
  },
  {
   "cell_type": "code",
   "execution_count": 320,
   "metadata": {},
   "outputs": [
    {
     "data": {
      "text/plain": [
       "date             0\n",
       "Temperature      0\n",
       "Humidity         0\n",
       "Light            0\n",
       "CO2              0\n",
       "HumidityRatio    0\n",
       "Occupancy        0\n",
       "dtype: int64"
      ]
     },
     "execution_count": 320,
     "metadata": {},
     "output_type": "execute_result"
    }
   ],
   "source": [
    "occupancy_detection_data.isnull().sum()"
   ]
  },
  {
   "cell_type": "markdown",
   "metadata": {},
   "source": [
    "The loaded part of the dataset has no missing values."
   ]
  },
  {
   "cell_type": "markdown",
   "metadata": {},
   "source": [
    "(4) Add the bias and split the data 80/20"
   ]
  },
  {
   "cell_type": "code",
   "execution_count": 321,
   "metadata": {},
   "outputs": [],
   "source": [
    "np.random.seed(1337)\n",
    "\n",
    "def split_data(Xdata, Ydata, train_percent):\n",
    "    split_index = int(train_percent * len(Xdata))\n",
    "\n",
    "    indices = np.arange(len(Xdata))\n",
    "    np.random.shuffle(indices)\n",
    "\n",
    "    train_indices = indices[:split_index]\n",
    "    test_indices = indices[split_index:]\n",
    "\n",
    "    Xtrain = Xdata.iloc[train_indices].reset_index(drop=True)\n",
    "    Ytrain = Ydata.iloc[train_indices].reset_index(drop=True)\n",
    "    Xtest = Xdata.iloc[test_indices].reset_index(drop=True)\n",
    "    Ytest = Ydata.iloc[test_indices].reset_index(drop=True)\n",
    "    \n",
    "    return Xtrain, Ytrain, Xtest, Ytest"
   ]
  },
  {
   "cell_type": "markdown",
   "metadata": {},
   "source": [
    "Function to normalize the training set and the test set using Z-Score"
   ]
  },
  {
   "cell_type": "code",
   "execution_count": 322,
   "metadata": {},
   "outputs": [],
   "source": [
    "def standardize_data(X_train, X_test):\n",
    "    mean = np.mean(X_train, axis=0)\n",
    "    std = np.std(X_train, axis=0)\n",
    "    X_train_standardized = (X_train - mean) / std\n",
    "    X_test_standardized = (X_test - mean) / std\n",
    "    return X_train_standardized, X_test_standardized\n"
   ]
  },
  {
   "cell_type": "code",
   "execution_count": 323,
   "metadata": {},
   "outputs": [],
   "source": [
    "occupancy_detection_Xdata = occupancy_detection_data.drop(['Occupancy'], axis=1)\n",
    "occupancy_detection_Ydata = occupancy_detection_data['Occupancy']\n",
    "\n",
    "occupancy_detection_Xtrain, occupancy_detection_Ytrain, occupancy_detection_Xtest, occupancy_detection_Ytest = split_data(occupancy_detection_Xdata, occupancy_detection_Ydata, 0.8)\n",
    "\n",
    "bank_Xtrain, bank_Xtest = standardize_data(occupancy_detection_Xtrain, occupancy_detection_Xtest)"
   ]
  },
  {
   "cell_type": "markdown",
   "metadata": {},
   "source": [
    "I add the bias to the training set and the test set"
   ]
  },
  {
   "cell_type": "code",
   "execution_count": 324,
   "metadata": {},
   "outputs": [],
   "source": [
    "N = occupancy_detection_Xtrain.shape[0]\n",
    "occupancy_detection_Xtrain = np.c_[np.ones(N), occupancy_detection_Xtrain]\n",
    "N = occupancy_detection_Xtest.shape[0]\n",
    "occupancy_detection_Xtest = np.c_[np.ones(N), occupancy_detection_Xtest]"
   ]
  },
  {
   "cell_type": "markdown",
   "metadata": {},
   "source": [
    "I don't use the datatest.txt and datatest2.txt, because the task explicitly says to split the data 80/20. I pick the largest dataset and split it. However, it would be also possible to use datatest.txt and datatest2.txt for testing."
   ]
  },
  {
   "cell_type": "markdown",
   "metadata": {},
   "source": [
    "Bank Marketing Dataset"
   ]
  },
  {
   "cell_type": "markdown",
   "metadata": {},
   "source": [
    "(1) Load the data"
   ]
  },
  {
   "cell_type": "code",
   "execution_count": 325,
   "metadata": {},
   "outputs": [
    {
     "data": {
      "text/html": [
       "<div>\n",
       "<style scoped>\n",
       "    .dataframe tbody tr th:only-of-type {\n",
       "        vertical-align: middle;\n",
       "    }\n",
       "\n",
       "    .dataframe tbody tr th {\n",
       "        vertical-align: top;\n",
       "    }\n",
       "\n",
       "    .dataframe thead th {\n",
       "        text-align: right;\n",
       "    }\n",
       "</style>\n",
       "<table border=\"1\" class=\"dataframe\">\n",
       "  <thead>\n",
       "    <tr style=\"text-align: right;\">\n",
       "      <th></th>\n",
       "      <th>age</th>\n",
       "      <th>job</th>\n",
       "      <th>marital</th>\n",
       "      <th>education</th>\n",
       "      <th>default</th>\n",
       "      <th>balance</th>\n",
       "      <th>housing</th>\n",
       "      <th>loan</th>\n",
       "      <th>contact</th>\n",
       "      <th>day</th>\n",
       "      <th>month</th>\n",
       "      <th>duration</th>\n",
       "      <th>campaign</th>\n",
       "      <th>pdays</th>\n",
       "      <th>previous</th>\n",
       "      <th>poutcome</th>\n",
       "      <th>y</th>\n",
       "    </tr>\n",
       "  </thead>\n",
       "  <tbody>\n",
       "    <tr>\n",
       "      <th>0</th>\n",
       "      <td>30</td>\n",
       "      <td>unemployed</td>\n",
       "      <td>married</td>\n",
       "      <td>primary</td>\n",
       "      <td>no</td>\n",
       "      <td>1787</td>\n",
       "      <td>no</td>\n",
       "      <td>no</td>\n",
       "      <td>cellular</td>\n",
       "      <td>19</td>\n",
       "      <td>oct</td>\n",
       "      <td>79</td>\n",
       "      <td>1</td>\n",
       "      <td>-1</td>\n",
       "      <td>0</td>\n",
       "      <td>unknown</td>\n",
       "      <td>no</td>\n",
       "    </tr>\n",
       "    <tr>\n",
       "      <th>1</th>\n",
       "      <td>33</td>\n",
       "      <td>services</td>\n",
       "      <td>married</td>\n",
       "      <td>secondary</td>\n",
       "      <td>no</td>\n",
       "      <td>4789</td>\n",
       "      <td>yes</td>\n",
       "      <td>yes</td>\n",
       "      <td>cellular</td>\n",
       "      <td>11</td>\n",
       "      <td>may</td>\n",
       "      <td>220</td>\n",
       "      <td>1</td>\n",
       "      <td>339</td>\n",
       "      <td>4</td>\n",
       "      <td>failure</td>\n",
       "      <td>no</td>\n",
       "    </tr>\n",
       "    <tr>\n",
       "      <th>2</th>\n",
       "      <td>35</td>\n",
       "      <td>management</td>\n",
       "      <td>single</td>\n",
       "      <td>tertiary</td>\n",
       "      <td>no</td>\n",
       "      <td>1350</td>\n",
       "      <td>yes</td>\n",
       "      <td>no</td>\n",
       "      <td>cellular</td>\n",
       "      <td>16</td>\n",
       "      <td>apr</td>\n",
       "      <td>185</td>\n",
       "      <td>1</td>\n",
       "      <td>330</td>\n",
       "      <td>1</td>\n",
       "      <td>failure</td>\n",
       "      <td>no</td>\n",
       "    </tr>\n",
       "    <tr>\n",
       "      <th>3</th>\n",
       "      <td>30</td>\n",
       "      <td>management</td>\n",
       "      <td>married</td>\n",
       "      <td>tertiary</td>\n",
       "      <td>no</td>\n",
       "      <td>1476</td>\n",
       "      <td>yes</td>\n",
       "      <td>yes</td>\n",
       "      <td>unknown</td>\n",
       "      <td>3</td>\n",
       "      <td>jun</td>\n",
       "      <td>199</td>\n",
       "      <td>4</td>\n",
       "      <td>-1</td>\n",
       "      <td>0</td>\n",
       "      <td>unknown</td>\n",
       "      <td>no</td>\n",
       "    </tr>\n",
       "    <tr>\n",
       "      <th>4</th>\n",
       "      <td>59</td>\n",
       "      <td>blue-collar</td>\n",
       "      <td>married</td>\n",
       "      <td>secondary</td>\n",
       "      <td>no</td>\n",
       "      <td>0</td>\n",
       "      <td>yes</td>\n",
       "      <td>no</td>\n",
       "      <td>unknown</td>\n",
       "      <td>5</td>\n",
       "      <td>may</td>\n",
       "      <td>226</td>\n",
       "      <td>1</td>\n",
       "      <td>-1</td>\n",
       "      <td>0</td>\n",
       "      <td>unknown</td>\n",
       "      <td>no</td>\n",
       "    </tr>\n",
       "  </tbody>\n",
       "</table>\n",
       "</div>"
      ],
      "text/plain": [
       "   age          job  marital  education default  balance housing loan  \\\n",
       "0   30   unemployed  married    primary      no     1787      no   no   \n",
       "1   33     services  married  secondary      no     4789     yes  yes   \n",
       "2   35   management   single   tertiary      no     1350     yes   no   \n",
       "3   30   management  married   tertiary      no     1476     yes  yes   \n",
       "4   59  blue-collar  married  secondary      no        0     yes   no   \n",
       "\n",
       "    contact  day month  duration  campaign  pdays  previous poutcome   y  \n",
       "0  cellular   19   oct        79         1     -1         0  unknown  no  \n",
       "1  cellular   11   may       220         1    339         4  failure  no  \n",
       "2  cellular   16   apr       185         1    330         1  failure  no  \n",
       "3   unknown    3   jun       199         4     -1         0  unknown  no  \n",
       "4   unknown    5   may       226         1     -1         0  unknown  no  "
      ]
     },
     "execution_count": 325,
     "metadata": {},
     "output_type": "execute_result"
    }
   ],
   "source": [
    "bank_data = pd.read_csv(\"bank/bank.csv\", delimiter=\";\")\n",
    "bank_data.head()"
   ]
  },
  {
   "cell_type": "markdown",
   "metadata": {},
   "source": [
    "(2) Convert non-numeric values to numeric"
   ]
  },
  {
   "cell_type": "code",
   "execution_count": 326,
   "metadata": {},
   "outputs": [
    {
     "data": {
      "text/plain": [
       "age           int64\n",
       "job          object\n",
       "marital      object\n",
       "education    object\n",
       "default      object\n",
       "balance       int64\n",
       "housing      object\n",
       "loan         object\n",
       "contact      object\n",
       "day           int64\n",
       "month        object\n",
       "duration      int64\n",
       "campaign      int64\n",
       "pdays         int64\n",
       "previous      int64\n",
       "poutcome     object\n",
       "y            object\n",
       "dtype: object"
      ]
     },
     "execution_count": 326,
     "metadata": {},
     "output_type": "execute_result"
    }
   ],
   "source": [
    "bank_data.dtypes"
   ]
  },
  {
   "cell_type": "code",
   "execution_count": 327,
   "metadata": {},
   "outputs": [
    {
     "name": "stdout",
     "output_type": "stream",
     "text": [
      "Number of unique jobs: 12\n"
     ]
    }
   ],
   "source": [
    "unique_jobs = bank_data['job'].unique()\n",
    "print(\"Number of unique jobs:\", len(unique_jobs))"
   ]
  },
  {
   "cell_type": "markdown",
   "metadata": {},
   "source": [
    "Since most of the elements in the columns aren't unique, I decided just to encode them and not to produce unnecessary overhead by adding one-hot encoding or hashmap.\n",
    "\n",
    "The column \"pdays\" contains values that may cause problems (i.e. the value -1). I create a new column named \"previously_contacted\" and replace the -1 values with zero, so we can still distinguish, which people were contacted and also have no negative values."
   ]
  },
  {
   "cell_type": "code",
   "execution_count": 328,
   "metadata": {},
   "outputs": [
    {
     "data": {
      "text/html": [
       "<div>\n",
       "<style scoped>\n",
       "    .dataframe tbody tr th:only-of-type {\n",
       "        vertical-align: middle;\n",
       "    }\n",
       "\n",
       "    .dataframe tbody tr th {\n",
       "        vertical-align: top;\n",
       "    }\n",
       "\n",
       "    .dataframe thead th {\n",
       "        text-align: right;\n",
       "    }\n",
       "</style>\n",
       "<table border=\"1\" class=\"dataframe\">\n",
       "  <thead>\n",
       "    <tr style=\"text-align: right;\">\n",
       "      <th></th>\n",
       "      <th>age</th>\n",
       "      <th>job</th>\n",
       "      <th>marital</th>\n",
       "      <th>education</th>\n",
       "      <th>default</th>\n",
       "      <th>balance</th>\n",
       "      <th>housing</th>\n",
       "      <th>loan</th>\n",
       "      <th>contact</th>\n",
       "      <th>day</th>\n",
       "      <th>month</th>\n",
       "      <th>duration</th>\n",
       "      <th>campaign</th>\n",
       "      <th>pdays</th>\n",
       "      <th>previous</th>\n",
       "      <th>poutcome</th>\n",
       "      <th>y</th>\n",
       "      <th>previously_contacted</th>\n",
       "    </tr>\n",
       "  </thead>\n",
       "  <tbody>\n",
       "    <tr>\n",
       "      <th>0</th>\n",
       "      <td>30</td>\n",
       "      <td>10</td>\n",
       "      <td>1</td>\n",
       "      <td>0</td>\n",
       "      <td>0</td>\n",
       "      <td>1787</td>\n",
       "      <td>0</td>\n",
       "      <td>0</td>\n",
       "      <td>0</td>\n",
       "      <td>19</td>\n",
       "      <td>10</td>\n",
       "      <td>79</td>\n",
       "      <td>1</td>\n",
       "      <td>0</td>\n",
       "      <td>0</td>\n",
       "      <td>3</td>\n",
       "      <td>0</td>\n",
       "      <td>0</td>\n",
       "    </tr>\n",
       "    <tr>\n",
       "      <th>1</th>\n",
       "      <td>33</td>\n",
       "      <td>7</td>\n",
       "      <td>1</td>\n",
       "      <td>1</td>\n",
       "      <td>0</td>\n",
       "      <td>4789</td>\n",
       "      <td>1</td>\n",
       "      <td>1</td>\n",
       "      <td>0</td>\n",
       "      <td>11</td>\n",
       "      <td>8</td>\n",
       "      <td>220</td>\n",
       "      <td>1</td>\n",
       "      <td>339</td>\n",
       "      <td>4</td>\n",
       "      <td>0</td>\n",
       "      <td>0</td>\n",
       "      <td>1</td>\n",
       "    </tr>\n",
       "    <tr>\n",
       "      <th>2</th>\n",
       "      <td>35</td>\n",
       "      <td>4</td>\n",
       "      <td>2</td>\n",
       "      <td>2</td>\n",
       "      <td>0</td>\n",
       "      <td>1350</td>\n",
       "      <td>1</td>\n",
       "      <td>0</td>\n",
       "      <td>0</td>\n",
       "      <td>16</td>\n",
       "      <td>0</td>\n",
       "      <td>185</td>\n",
       "      <td>1</td>\n",
       "      <td>330</td>\n",
       "      <td>1</td>\n",
       "      <td>0</td>\n",
       "      <td>0</td>\n",
       "      <td>1</td>\n",
       "    </tr>\n",
       "    <tr>\n",
       "      <th>3</th>\n",
       "      <td>30</td>\n",
       "      <td>4</td>\n",
       "      <td>1</td>\n",
       "      <td>2</td>\n",
       "      <td>0</td>\n",
       "      <td>1476</td>\n",
       "      <td>1</td>\n",
       "      <td>1</td>\n",
       "      <td>2</td>\n",
       "      <td>3</td>\n",
       "      <td>6</td>\n",
       "      <td>199</td>\n",
       "      <td>4</td>\n",
       "      <td>0</td>\n",
       "      <td>0</td>\n",
       "      <td>3</td>\n",
       "      <td>0</td>\n",
       "      <td>0</td>\n",
       "    </tr>\n",
       "    <tr>\n",
       "      <th>4</th>\n",
       "      <td>59</td>\n",
       "      <td>1</td>\n",
       "      <td>1</td>\n",
       "      <td>1</td>\n",
       "      <td>0</td>\n",
       "      <td>0</td>\n",
       "      <td>1</td>\n",
       "      <td>0</td>\n",
       "      <td>2</td>\n",
       "      <td>5</td>\n",
       "      <td>8</td>\n",
       "      <td>226</td>\n",
       "      <td>1</td>\n",
       "      <td>0</td>\n",
       "      <td>0</td>\n",
       "      <td>3</td>\n",
       "      <td>0</td>\n",
       "      <td>0</td>\n",
       "    </tr>\n",
       "  </tbody>\n",
       "</table>\n",
       "</div>"
      ],
      "text/plain": [
       "   age  job  marital  education  default  balance  housing  loan  contact  \\\n",
       "0   30   10        1          0        0     1787        0     0        0   \n",
       "1   33    7        1          1        0     4789        1     1        0   \n",
       "2   35    4        2          2        0     1350        1     0        0   \n",
       "3   30    4        1          2        0     1476        1     1        2   \n",
       "4   59    1        1          1        0        0        1     0        2   \n",
       "\n",
       "   day  month  duration  campaign  pdays  previous  poutcome  y  \\\n",
       "0   19     10        79         1      0         0         3  0   \n",
       "1   11      8       220         1    339         4         0  0   \n",
       "2   16      0       185         1    330         1         0  0   \n",
       "3    3      6       199         4      0         0         3  0   \n",
       "4    5      8       226         1      0         0         3  0   \n",
       "\n",
       "   previously_contacted  \n",
       "0                     0  \n",
       "1                     1  \n",
       "2                     1  \n",
       "3                     0  \n",
       "4                     0  "
      ]
     },
     "execution_count": 328,
     "metadata": {},
     "output_type": "execute_result"
    }
   ],
   "source": [
    "categorical_features = ['job', 'marital', 'education', 'default', 'housing', 'loan', 'contact', 'month', 'poutcome', 'y']\n",
    "\n",
    "for feature in categorical_features:\n",
    "    bank_data[feature] = pd.Categorical(bank_data[feature]).codes\n",
    "\n",
    "bank_data['previously_contacted'] = np.where(bank_data['pdays'] != -1, 1, 0)\n",
    "\n",
    "bank_data['pdays'] = bank_data['pdays'].replace(-1, 0)\n",
    "\n",
    "bank_data.head()"
   ]
  },
  {
   "cell_type": "markdown",
   "metadata": {},
   "source": [
    "(3) Remove null / NaN values"
   ]
  },
  {
   "cell_type": "code",
   "execution_count": 329,
   "metadata": {},
   "outputs": [
    {
     "data": {
      "text/plain": [
       "age                     0\n",
       "job                     0\n",
       "marital                 0\n",
       "education               0\n",
       "default                 0\n",
       "balance                 0\n",
       "housing                 0\n",
       "loan                    0\n",
       "contact                 0\n",
       "day                     0\n",
       "month                   0\n",
       "duration                0\n",
       "campaign                0\n",
       "pdays                   0\n",
       "previous                0\n",
       "poutcome                0\n",
       "y                       0\n",
       "previously_contacted    0\n",
       "dtype: int64"
      ]
     },
     "execution_count": 329,
     "metadata": {},
     "output_type": "execute_result"
    }
   ],
   "source": [
    "bank_data.isnull().sum()"
   ]
  },
  {
   "cell_type": "markdown",
   "metadata": {},
   "source": [
    "No column contains missing values, so we have nothing to remove."
   ]
  },
  {
   "cell_type": "markdown",
   "metadata": {},
   "source": [
    "(4) Add the bias and split the data "
   ]
  },
  {
   "cell_type": "code",
   "execution_count": 330,
   "metadata": {},
   "outputs": [],
   "source": [
    "bank_Xdata = bank_data.drop(['y'], axis=1)\n",
    "bank_Ydata = bank_data['y']\n",
    "\n",
    "bank_Xtrain, bank_Ytrain, bank_Xtest, bank_Ytest = split_data(bank_Xdata, bank_Ydata, 0.8)\n",
    "\n",
    "bank_Xtrain, bank_Xtest = standardize_data(bank_Xtrain, bank_Xtest)\n",
    "\n",
    "bank_Ytrain = bank_Ytrain.values\n",
    "bank_Ytest = bank_Ytest.values\n",
    "\n",
    "N = bank_Xtrain.shape[0]\n",
    "bank_Xtrain = np.c_[np.ones(N), bank_Xtrain]\n",
    "N = bank_Xtest.shape[0]\n",
    "bank_Xtest = np.c_[np.ones(N), bank_Xtest]"
   ]
  },
  {
   "cell_type": "markdown",
   "metadata": {},
   "source": [
    "# Gradient-based Linear Classification"
   ]
  },
  {
   "cell_type": "markdown",
   "metadata": {},
   "source": [
    "The log-likelihood function for logistic regression is defined as:\n",
    "\n",
    "$$E(w) = \\log p(\\bold{y} | \\bold{w}, \\bold{X}) = \\sum_{i=1}^N y_{i}\\log \\sigma(\\bold{w}^Tx_{i}) + (1-y_{i})\\log(1-\\sigma(\\bold{w}^{T}x_{i}))$$\n",
    "\n",
    ", where $\\bold{w}$ is the weight vector, $x_{i}$ is a single data point with all its features, $y_{i}$ is the corresponding class ($y_{i} \\in \\{0,1\\} $) and $\\sigma(z)$ is the sigmoid function defined below. The log-likelihood function is concave. To optimize it we should either take the negative log-likelihood (and make it convex) and then optimize it with gradient descent or use gradient ascent directly with the log likelihood. This will produce the same result (for the argument). In this notebook, I do both.\n",
    "\n",
    "Sigmoid function:\n",
    "$$ \\sigma(z) = \\frac{1}{1 + e^{-z}}$$\n",
    "\n",
    "#### **Why is log-likelihood concave?**\n",
    "\n",
    "Knowing how the graph of the sigmoid function looks like we can say its neither concave nor convex, because for $z \\leq$ 0 its convex and for $z$ $\\geq$ 0 it becomes concave, but we can say that it's strictly postive function. The log function is a concave function, because its second derivative is always negative. Example with natural logarithm: \n",
    "\n",
    "$$\\frac{d^2}{dx^2} \\ln(x) = -\\frac{1}{x^2}$$\n",
    "\n",
    "$y_{i}$ is either 1 or 0, which keeps the first term concave. The other term is also concave for the same reasons: the sigmoid function takes values between 0 and 1, log function is concave and $y_{i}$ is either 0 or 1. The sum of concave function is a concave function. If we multiply a concave function by negative constant value, it becomes convex.\n"
   ]
  },
  {
   "cell_type": "code",
   "execution_count": 331,
   "metadata": {},
   "outputs": [],
   "source": [
    "from scipy.special import expit as sigmoid "
   ]
  },
  {
   "cell_type": "code",
   "execution_count": 332,
   "metadata": {},
   "outputs": [],
   "source": [
    "def log_likelihood(X, y, beta):\n",
    "    z = sigmoid(np.dot(X, beta))\n",
    "    # add 1e-10 for numerical stability\n",
    "    return np.sum(y * np.log(z + 1e-10) + (1 - y)*np.log(1 - z + 1e-10))"
   ]
  },
  {
   "cell_type": "markdown",
   "metadata": {},
   "source": [
    "Here, I decided to use the already precomputed gradient and hessian for the logistic regression loss function, because of the better performance and numerical stability. For general solution can be use the Python library *autograd* :\n",
    "\n",
    "$$E(\\bold{w}) = \\sum_{i=1}^N y_{i}\\log \\sigma(\\bold{w}^Tx_{i}) + (1-y_{i})\\log(1-\\sigma(\\bold{w}^{T}x_{i}))$$\n",
    "\n",
    "$$\\frac{\\partial E(\\bold{w})}{\\partial \\bold{w}} = \\sum_{i=1}^N y_{i} \\frac{1}{\\sigma(\\bold{w}^Tx_{i})} \\frac{\\partial \\sigma(\\bold{w}^Tx_{i})} {\\partial \\bold{w}} + (1-y_{i}) \\frac{1}{1 - \\sigma(\\bold{w}^Tx_{i})}\\frac{\\partial \\sigma(\\bold{w}^Tx_{i})} {\\partial \\bold{w}}$$\n",
    "\n",
    "The derivative of the sigmoid function is given as:\n",
    "\n",
    "$$\\frac{\\partial \\sigma(z)}{\\partial z} = \\sigma(z)(1-\\sigma(z))$$\n",
    "\n",
    "The derivative is:\n",
    "$$\\frac{\\partial E(\\bold{w})}{\\partial \\bold{w}} = \\sum_{i=1}^N (y_{i} - \\sigma(\\bold{w}^Tx_{i}))x_{i} = \\bold{X}^T(\\bold{y} - \\sigma (\\bold{w}^T\\bold{X}))$$ \n",
    "\n",
    "The hessian is computed by taking the derivative of the last expression:\n",
    "$$\\frac{\\partial^2 E(\\bold{w})}{\\partial \\bold{w^2}} = \\frac{\\partial (\\bold{X}^T(\\bold{y} - \\sigma (\\bold{w}^T\\bold{X})))} {\\partial \\bold{w}}$$ \n",
    "\n",
    "$$= \\bold{X}^T \\frac{\\partial (\\bold{y} - \\sigma(\\bold{w}^T\\bold{X}))}{\\partial \\bold{w}}$$\n",
    "\n",
    "$$= \\bold{X}^T \\frac{\\partial (- \\sigma(\\bold{w}^T\\bold{X}))}{\\partial \\bold{w}}$$\n",
    "\n",
    "$$= \\bold{X}^T (- \\sigma(\\bold{w}^T\\bold{X}) (1 - \\sigma(\\bold{w}^T\\bold{X}))\\bold{X})$$\n",
    "\n",
    "$$= - \\bold{X}^T  \\sigma(\\bold{w}^T\\bold{X}) (1 - \\sigma(\\bold{w}^T\\bold{X}))\\bold{X}$$\n",
    "\n",
    "$$= - \\bold{X}^T \\bold{S} \\bold{X}$$\n",
    "\n",
    ", where $\\bold{S} = diag\\{\\sigma(w^Tx_{i})(1-\\sigma(w^Tx_{i}))\\}$ for $\\forall i \\in [1, ... , N]$\n",
    "\n",
    "**Note**: $\\sigma(\\bold{w}^T\\bold{X})$ is a vector\n"
   ]
  },
  {
   "cell_type": "markdown",
   "metadata": {},
   "source": [
    "In the next exercise I only use the Bank Marketing Dataset. I also implement an accuracy metric to evaluate the models and compare them with the sklearn implementation."
   ]
  },
  {
   "cell_type": "code",
   "execution_count": 333,
   "metadata": {},
   "outputs": [],
   "source": [
    "def accuracy_score(y_true, y_pred):\n",
    "    correct_predictions = sum(y_true_i == y_pred_i for y_true_i, y_pred_i in zip(y_true, y_pred))\n",
    "    accuracy = correct_predictions / len(y_true)\n",
    "    return accuracy"
   ]
  },
  {
   "cell_type": "markdown",
   "metadata": {},
   "source": [
    "## Algorithm 1: maximize-GA\n",
    "\n",
    "**Input:** Function $ f : \\mathbb{R}^N \\rightarrow \\mathbb{R}$ , starting point $x^{(0)} \\in \\mathbb{R}^N$ , step length $\\mu$ , maximum iterations  $t_{\\text{max}}$ , tolerance  $\\epsilon $\n",
    "\n",
    "1. For  $t = 1$  to $ t_{\\text{max}}$:\n",
    "    1. Update $ x^{(t)} := x^{(t-1)}$ + $\\mu \\cdot \\frac{\\partial f}{\\partial x} (x^{(t-1)})$   \n",
    "    2. If $ |f(x^{(t)}) - f(x^{(t-1)})| < \\epsilon $, then:\n",
    "         Return $ x^{(t)}$\n",
    "2. Raise exception: \"not converged in $ t_{\\text{max}} $ iterations\""
   ]
  },
  {
   "cell_type": "code",
   "execution_count": 334,
   "metadata": {},
   "outputs": [
    {
     "data": {
      "image/png": "[encoded data removed]",
      "text/plain": [
       "<Figure size 720x360 with 2 Axes>"
      ]
     },
     "metadata": {
      "needs_background": "light"
     },
     "output_type": "display_data"
    },
    {
     "name": "stdout",
     "output_type": "stream",
     "text": [
      "[-2.71156062  0.11618558  0.02482083  0.05253757  0.12730455  0.0396896\n",
      "  0.01029799 -0.35874473 -0.27847359 -0.54623738 -0.01301301  0.03575195\n",
      "  1.01979571 -0.27052503 -0.0562529   0.00627416  0.99361523  1.27688833]\n",
      "0.9027624309392265\n"
     ]
    }
   ],
   "source": [
    "def compute_gradient_concave(X, y, beta):\n",
    "    pred = sigmoid(X @ beta)\n",
    "    return X.T @ (y - pred)\n",
    "\n",
    "def compute_gradient_convex(X, y, beta):\n",
    "    pred = sigmoid(X @ beta)\n",
    "    return X.T @ (pred - y)\n",
    "\n",
    "def maximize_ga(f, X_train, y_train, X_test, y_test, x0, tmax, epsilon):\n",
    "    x = x0\n",
    "    prev_f_value = f(x)\n",
    "    obj_diff = []  \n",
    "    test_log_losses = []\n",
    "    # Learning rate is constant\n",
    "    mu_i = 0.0009\n",
    "    for epoch in range(tmax):\n",
    "        grad = compute_gradient_concave(X_train, y_train, x)\n",
    "        \n",
    "        x += mu_i * grad\n",
    "     \n",
    "        current_f_value = f(x)\n",
    "        diff = abs(current_f_value - prev_f_value)\n",
    "        obj_diff.append(diff)\n",
    "        \n",
    "        test_log_loss = log_likelihood(X_test, y_test, x)\n",
    "        test_log_losses.append(test_log_loss)\n",
    "        \n",
    "        if diff < epsilon:\n",
    "            return x, obj_diff, test_log_losses\n",
    "\n",
    "        prev_f_value = current_f_value\n",
    "\n",
    "    print(\"Not converged in tmax iterations\")\n",
    "    return x, obj_diff, test_log_losses\n",
    "\n",
    "def learn_logreg_ga(X_train, y_train, X_test, y_test,  tmax, epsilon):\n",
    "    M = X_train.shape[1]\n",
    "    \n",
    "    beta_init = np.zeros(M)\n",
    "    \n",
    "    def obj_function(beta):\n",
    "        return log_likelihood(X_train, y_train, beta)\n",
    "    \n",
    "   \n",
    "    beta_hat, obj_diff, test_log_losses = maximize_ga(obj_function, X_train, y_train, X_test, y_test, beta_init,  tmax, epsilon)\n",
    "    \n",
    "    plt.figure(figsize=(10, 5))\n",
    "    plt.subplot(1, 2, 1)\n",
    "    plt.plot(range(1, len(obj_diff) + 1), obj_diff)\n",
    "    plt.xlabel('Iteration')\n",
    "    plt.ylabel('|f(x_{i-1}) - f(x_{i})|')\n",
    "    plt.title('Objective Function Difference')\n",
    "\n",
    "    plt.subplot(1, 2, 2)\n",
    "    plt.plot(range(1, len(test_log_losses) + 1), test_log_losses, color=\"orange\")\n",
    "    plt.xlabel('Iteration')\n",
    "    plt.ylabel('Log-Loss on Test Set')\n",
    "    plt.title('Test Set Log-Loss')\n",
    "\n",
    "    plt.tight_layout()\n",
    "    plt.show()\n",
    "\n",
    "    return beta_hat\n",
    "\n",
    "def predict(X, beta):\n",
    "    probabilities = sigmoid(np.dot(X, beta))\n",
    "    return (probabilities >= 0.5).astype(int)\n",
    "\n",
    "beta_hat = learn_logreg_ga(bank_Xtrain, bank_Ytrain, bank_Xtest, bank_Ytest, 1000, 1e-2)\n",
    "y_pred_ga = predict(bank_Xtest, beta_hat)\n",
    "print(beta_hat)\n",
    "print(accuracy_score(y_pred_ga,bank_Ytest))"
   ]
  },
  {
   "cell_type": "markdown",
   "metadata": {},
   "source": [
    "## Algorithm 2: minimize-Newton\n",
    "\n",
    "**Input:** Function $ f : \\mathbb{R}^N \\rightarrow \\mathbb{R} $, starting point $ x^{(0)} \\in \\mathbb{R}^N $, step length $ \\mu $, maximum iterations $ t_{\\text{max}} $, tolerance $ \\epsilon $\n",
    "\n",
    "1. For $ t = 1 $ to $ t_{\\text{max}} $:\n",
    "    1. Compute gradient $ g := \\nabla f(x^{(t-1)}) $ \n",
    "    2. Compute Hessian $ H := \\nabla^2 f(x^{(t-1)}) $  \n",
    "    3. Update $ x^{(t)} := x^{(t-1)} - \\mu H^{-1} g $  \n",
    "    4. If $ f(x^{(t-1)}) - f(x^{(t)}) < \\epsilon $, then:\n",
    "         Return $ x^{(t)} $\n",
    "2. Raise exception: \"not converged in $ t_{\\text{max}} $ iterations\""
   ]
  },
  {
   "cell_type": "code",
   "execution_count": 335,
   "metadata": {},
   "outputs": [
    {
     "data": {
      "image/png": "[encoded data removed]",
      "text/plain": [
       "<Figure size 720x360 with 2 Axes>"
      ]
     },
     "metadata": {
      "needs_background": "light"
     },
     "output_type": "display_data"
    },
    {
     "name": "stdout",
     "output_type": "stream",
     "text": [
      "[-2.71814911e+00  1.15569211e-01  2.57693959e-02  5.23654111e-02\n",
      "  1.27316213e-01  4.02498580e-02  1.02727505e-02 -3.54132650e-01\n",
      " -2.77423554e-01 -5.46151136e-01 -1.42833586e-02  3.54007340e-02\n",
      "  1.02236207e+00 -2.69284759e-01 -7.01139062e-02 -1.64537238e-03\n",
      "  1.06701746e+00  1.36131006e+00]\n",
      "0.9038674033149171\n"
     ]
    }
   ],
   "source": [
    "def compute_hessian_convex(X, beta):\n",
    "    pred = sigmoid(X @ beta)\n",
    "    W = np.diag(pred * (1 - pred))\n",
    "    \n",
    "    return X.T @ W @ X\n",
    "\n",
    "def minimize_newton(f, X_train, y_train, X_test, y_test, x0, tmax, epsilon):\n",
    "    x = x0\n",
    "    prev_f_value = f(x)\n",
    "    mu_i = 1\n",
    "    obj_diff = []  \n",
    "    test_log_losses = []\n",
    "\n",
    "    for epoch in range(tmax):\n",
    "       \n",
    "        g = compute_gradient_convex(X_train, y_train, x)\n",
    "        H = compute_hessian_convex(X_train, x)\n",
    "        \n",
    "        x_new = x - mu_i * np.linalg.solve(H,g)\n",
    "\n",
    "        current_f_value = f(x_new)\n",
    "        \n",
    "        diff = abs(current_f_value - prev_f_value)\n",
    "       \n",
    "        obj_diff.append(diff)\n",
    "\n",
    "        test_log_loss = -log_likelihood(X_test, y_test, x_new)\n",
    "    \n",
    "        test_log_losses.append(test_log_loss)\n",
    "\n",
    "        if diff < epsilon:\n",
    "            return x_new, obj_diff, test_log_losses\n",
    "\n",
    "        prev_f_value = current_f_value\n",
    "        x = x_new\n",
    "\n",
    "    print(\"Not converged in tmax iterations\")\n",
    "    return x, obj_diff, test_log_losses\n",
    "\n",
    "\n",
    "def learn_logreg_newton(X_train, y_train, X_test, y_test,  tmax, epsilon):\n",
    "    M = X_train.shape[1]\n",
    "    beta_init = np.zeros(M)\n",
    "    \n",
    "    def obj_function(beta):\n",
    "        return -log_likelihood(X_train, y_train, beta)\n",
    "\n",
    "    beta_hat, obj_diff, test_log_losses = minimize_newton(obj_function, X_train, y_train, X_test, y_test, beta_init, tmax, epsilon)\n",
    "    \n",
    "    # Plotting the results\n",
    "    plt.figure(figsize=(10, 5))\n",
    "    plt.subplot(1, 2, 1)\n",
    "    plt.plot(range(1, len(obj_diff) + 1), obj_diff)\n",
    "    plt.xlabel('Iteration')\n",
    "    plt.ylabel('|f(x_{i-1}) - f(x_{i})|')\n",
    "    plt.title('Objective Function Difference')\n",
    "\n",
    "    plt.subplot(1, 2, 2)\n",
    "    plt.plot(range(1, len(test_log_losses) + 1), test_log_losses, color='orange')\n",
    "    plt.xlabel('Iteration')\n",
    "    plt.ylabel('Log-Loss on Test Set')\n",
    "    plt.title('Test Set Log-Loss')\n",
    "\n",
    "    plt.tight_layout()\n",
    "    plt.show()\n",
    "\n",
    "    return beta_hat\n",
    "\n",
    "beta_hat = learn_logreg_newton(bank_Xtrain, bank_Ytrain, bank_Xtest, bank_Ytest, 1000, 1e-2)\n",
    "y_pred_ga = predict(bank_Xtest, beta_hat)\n",
    "print(beta_hat)\n",
    "print(accuracy_score(y_pred_ga,bank_Ytest))"
   ]
  },
  {
   "cell_type": "markdown",
   "metadata": {},
   "source": [
    "Using both gradient ascent and gradient descent with Netwon's method proved to be very accurate and fast. Newton's method produces higher accuracy, which is equal to the sklearn's LogisticRegression accuracy. The gradient descent optimization method isn't a closed form solution. This is the reason to get different coefficients and intercept from the different methods."
   ]
  },
  {
   "cell_type": "code",
   "execution_count": 336,
   "metadata": {},
   "outputs": [
    {
     "name": "stdout",
     "output_type": "stream",
     "text": [
      "Coefficients: [[ 2.73949988e-04  1.15399804e-01  2.54865696e-02  5.21857135e-02\n",
      "   1.26903637e-01  3.97744651e-02  1.04521027e-02 -3.54549181e-01\n",
      "  -2.75899000e-01 -5.41815749e-01 -1.37570412e-02  3.46379225e-02\n",
      "   1.01735009e+00 -2.66990018e-01 -6.39040984e-02  2.28277383e-03\n",
      "   1.02829758e+00  1.31814734e+00]]\n",
      "Intercept: [-2.71061919]\n"
     ]
    },
    {
     "data": {
      "text/plain": [
       "0.9038674033149171"
      ]
     },
     "execution_count": 336,
     "metadata": {},
     "output_type": "execute_result"
    }
   ],
   "source": [
    "from sklearn.linear_model import LogisticRegression\n",
    "\n",
    "model = LogisticRegression()\n",
    "   \n",
    "model.fit(bank_Xtrain, bank_Ytrain)\n",
    "coefficients = model.coef_        \n",
    "intercept = model.intercept_       \n",
    "\n",
    "print(\"Coefficients:\", coefficients)\n",
    "print(\"Intercept:\", intercept)\n",
    "\n",
    "y_pred = model.predict(bank_Xtest)\n",
    "accuracy = accuracy_score(y_pred, bank_Ytest)\n",
    "accuracy"
   ]
  },
  {
   "cell_type": "markdown",
   "metadata": {},
   "source": [
    "## Algorithm 5: Stochastic Gradient Descent (SGD)\n",
    "\n",
    "**Input:** Objective function $ f(\\theta; x, y) $, initial parameters $ \\theta^{(0)} $, learning rate $ \\eta $, maximum number of epochs $ t_{\\text{max}} $, tolerance $ \\epsilon $, training data $ \\{(x_1, y_1), (x_2, y_2), \\ldots, (x_N, y_N)\\} $\n",
    "\n",
    "1. Initialize $ \\theta := \\theta^{(0)} $\n",
    "2. For epoch = 1 to $ t_{\\text{max}} $:\n",
    "    1. Shuffle the training data\n",
    "    2. For each training example $ (x_i, y_i) $:\n",
    "        1. Compute the gradient of the loss with respect to $ \\theta $ for $ (x_i, y_i) $:\n",
    "           $ g := \\nabla f(\\theta; x_i, y_i) $\n",
    "        2. Update parameters:\n",
    "           $ \\theta := \\theta - \\eta \\cdot g $\n",
    "    3. If convergence criterion is met (e.g., $ \\|\\eta \\cdot g\\| < \\epsilon$ ), then: Return $ \\theta $\n",
    "3. Raise exception: \"not converged in $ t_{\\text{max}} $ epochs\"\n",
    "\n",
    "**Note**: In the task wasn't mentioned which Bold Driver step length algorithm should be used. I decided to use this one, since it proved better convergence speed: https://www.ismll.uni-hildesheim.de/lehre/opt-16w/script/mot-03_sgd.pdf "
   ]
  },
  {
   "cell_type": "code",
   "execution_count": null,
   "metadata": {},
   "outputs": [
    {
     "name": "stdout",
     "output_type": "stream",
     "text": [
      "Converged in epoch 11\n"
     ]
    },
    {
     "data": {
      "image/png": "[encoded data removed]",
      "text/plain": [
       "<Figure size 720x360 with 2 Axes>"
      ]
     },
     "metadata": {
      "needs_background": "light"
     },
     "output_type": "display_data"
    },
    {
     "name": "stdout",
     "output_type": "stream",
     "text": [
      "[-2.73499222e+00  1.04561155e-01  2.98201516e-02  5.35906535e-02\n",
      "  1.19596080e-01  4.29977876e-02  1.10112764e-03 -3.58162502e-01\n",
      " -2.88503940e-01 -5.60215278e-01 -1.42474045e-02  3.03319979e-02\n",
      "  1.02464565e+00 -2.61817026e-01 -8.97048798e-02 -5.28790354e-03\n",
      "  1.15178667e+00  1.45707392e+00]\n",
      "0.9038674033149171\n"
     ]
    }
   ],
   "source": [
    "def grad_single(theta, xi, yi):\n",
    "    z = np.dot(theta, xi)\n",
    "    pred = sigmoid(z)\n",
    "    return (pred - yi) * xi\n",
    "\n",
    "def stochastic_gradient_descent(f, beta_init, tmax, epsilon, X, y, X_test, y_test,):\n",
    "    beta = beta_init.copy()\n",
    "    n_samples = len(y)\n",
    "\n",
    "    alpha = 0.1\n",
    "    obj_diff = []  \n",
    "    test_log_losses = []  \n",
    "\n",
    "    prev_f_value = f(beta)\n",
    "\n",
    "    for epoch in range(tmax):\n",
    "        indices = np.random.permutation(n_samples) \n",
    "        X_shuffled = X[indices]\n",
    "        y_shuffled = y[indices]\n",
    "        \n",
    "        for i in range(n_samples):\n",
    "            X_batch = X_shuffled[i]\n",
    "            y_batch = y_shuffled[i]\n",
    "            \n",
    "            g = -grad_single(beta, X_batch, y_batch)\n",
    "            beta += alpha * g\n",
    "            \n",
    "        current_f_value = f(beta)\n",
    "        \n",
    "        if current_f_value < prev_f_value:\n",
    "            alpha*=0.5\n",
    "        else: \n",
    "            alpha*=1.1\n",
    "       \n",
    "        diff = abs(current_f_value - prev_f_value)\n",
    "        obj_diff.append(diff)\n",
    "        \n",
    "        test_log_loss = -log_likelihood(X_test, y_test, beta)\n",
    "        test_log_losses.append(test_log_loss)\n",
    "\n",
    "        if diff < epsilon:\n",
    "            print(f\"Converged in epoch {epoch}\")\n",
    "            return beta, obj_diff, test_log_losses\n",
    "        \n",
    "        prev_f_value = current_f_value\n",
    "\n",
    "    print(\"Not converged in tmax epochs\")\n",
    "    return beta, obj_diff, test_log_losses\n",
    "\n",
    "def logistic_regression_sgd(X_train, y_train, X_test, y_test, tmax, epsilon):\n",
    "    M = X_train.shape[1]  \n",
    "    beta_init = np.zeros(M)\n",
    "\n",
    "    # Run SGD\n",
    "    beta_hat, obj_diff, test_log_losses = stochastic_gradient_descent(\n",
    "        lambda beta: -log_likelihood(X_train, y_train, beta), \n",
    "        beta_init, \n",
    "        tmax, \n",
    "        epsilon, \n",
    "        X_train, \n",
    "        y_train,\n",
    "        X_test,\n",
    "        y_test\n",
    "    )\n",
    "\n",
    "    # Plotting the results\n",
    "    plt.figure(figsize=(10, 5))\n",
    "    plt.subplot(1, 2, 1)\n",
    "    plt.plot(range(1, len(obj_diff) + 1), obj_diff)\n",
    "    plt.xlabel('Iteration')\n",
    "    plt.ylabel('|f(x_{i-1}) - f(x_{i})|')\n",
    "    plt.title('Objective Function Difference')\n",
    "\n",
    "    plt.subplot(1, 2, 2)\n",
    "    plt.plot(range(1, len(test_log_losses) + 1), test_log_losses, color='orange')\n",
    "    plt.xlabel('Iteration')\n",
    "    plt.ylabel('Log-Loss on Test Set')\n",
    "    plt.title('Test Set Log-Loss')\n",
    "\n",
    "    plt.tight_layout()\n",
    "    plt.show()\n",
    "\n",
    "    return beta_hat\n",
    "\n",
    "beta_hat = logistic_regression_sgd(bank_Xtrain, bank_Ytrain, bank_Xtest, bank_Ytest, 1000, 1e-2)\n",
    "y_pred_sgd = predict(bank_Xtest, beta_hat)\n",
    "print(beta_hat)\n",
    "print(accuracy_score(y_pred_sgd, bank_Ytest))"
   ]
  },
  {
   "cell_type": "markdown",
   "metadata": {},
   "source": [
    "In the task wasn't exactly specified which AdaGrad implementation to use. I found this one and it proved to be useful.\n",
    "\n",
    "**Input:** Initial learning rate $ \\eta $, gradient $ g $, accumulated squared gradients $ G $, small constant $ \\epsilon $\n",
    "\n",
    "1. $G := G + g^2$\n",
    "2. $\\text{adjusted\\_lr} := \\frac{\\eta}{\\sqrt{G} + \\epsilon}$\n",
    "3. Return $\\text{adjusted\\_lr}$, $ G $\n",
    "\n",
    "**Note**: $\\epsilon$ is added so we don't devide by zero if $\\sqrt{G}$ = 0"
   ]
  },
  {
   "cell_type": "code",
   "execution_count": 338,
   "metadata": {},
   "outputs": [
    {
     "name": "stdout",
     "output_type": "stream",
     "text": [
      "Converged in epoch 63\n"
     ]
    },
    {
     "data": {
      "image/png": "[encoded data removed]",
      "text/plain": [
       "<Figure size 864x432 with 2 Axes>"
      ]
     },
     "metadata": {
      "needs_background": "light"
     },
     "output_type": "display_data"
    },
    {
     "name": "stdout",
     "output_type": "stream",
     "text": [
      "[-2.70809002  0.11673908  0.02539037  0.05145231  0.12689005  0.03833032\n",
      "  0.00978981 -0.36267208 -0.2793125  -0.54669405 -0.01165034  0.03525479\n",
      "  1.01868358 -0.26909358 -0.04801937  0.00848596  0.9540495   1.22228031]\n",
      "0.9027624309392265\n"
     ]
    }
   ],
   "source": [
    "def adagrad_step_length(learning_rate, g, G, epsilon=1e-8):\n",
    "    G += g**2\n",
    "    adjusted_lr = learning_rate / (np.sqrt(G) + epsilon) \n",
    "    return adjusted_lr, G\n",
    "\n",
    "def stochastic_gradient_descent_adagrad(f, beta_init, learning_rate, tmax, epsilon, X, y, X_test, y_test, batch_size=1):\n",
    "    beta = beta_init.copy()\n",
    "    n_samples = len(y)\n",
    "    G = np.zeros_like(beta) \n",
    "    \n",
    "    obj_diff = []  \n",
    "    test_log_losses = []  \n",
    "    \n",
    "    prev_f_value = f(beta)\n",
    "\n",
    "    for epoch in range(tmax):\n",
    "        indices = np.random.permutation(n_samples) \n",
    "        X_shuffled = X[indices]\n",
    "        y_shuffled = y[indices]\n",
    "        \n",
    "        for i in range(n_samples):\n",
    "           X_batch = X_shuffled[i]\n",
    "           y_batch = y_shuffled[i]\n",
    "           g = grad_single(beta, X_batch, y_batch) \n",
    "           adjusted_lr, G = adagrad_step_length(learning_rate, g, G)\n",
    "           beta -= adjusted_lr * g\n",
    "\n",
    "        current_f_value = f(beta)\n",
    "        diff = abs(current_f_value - prev_f_value)\n",
    "        obj_diff.append(diff)\n",
    "\n",
    "        test_log_loss = -log_likelihood(X_test, y_test, beta) \n",
    "        test_log_losses.append(test_log_loss)\n",
    "        if  diff < epsilon:\n",
    "            print(f\"Converged in epoch {epoch}\")\n",
    "            return beta, obj_diff, test_log_losses\n",
    "\n",
    "        prev_f_value = current_f_value\n",
    "        \n",
    "\n",
    "    print(\"Not converged in tmax epochs\")\n",
    "    return beta, obj_diff, test_log_losses\n",
    "\n",
    "def logistic_regression_sgd_adagrad(X_train, y_train, X_test, y_test, learning_rate, tmax, epsilon):\n",
    "    M = X_train.shape[1]\n",
    "    beta_init = np.zeros(M)\n",
    "\n",
    "    # Run SGD with AdaGrad\n",
    "    beta_hat, obj_diff, test_log_losses = stochastic_gradient_descent_adagrad(\n",
    "        lambda beta: -log_likelihood(X_train, y_train, beta),\n",
    "        beta_init,\n",
    "        learning_rate, \n",
    "        tmax, epsilon,\n",
    "        X_train, \n",
    "        y_train,\n",
    "        X_test, \n",
    "        y_test\n",
    "    )\n",
    "\n",
    "    # Plot the results\n",
    "    plt.figure(figsize=(12, 6))\n",
    "\n",
    "    plt.subplot(1, 2, 1)\n",
    "    plt.plot(range(1, len(obj_diff) + 1), obj_diff)\n",
    "    plt.xlabel('Iteration')\n",
    "    plt.ylabel('|f(x_{i-1}) - f(x_{i})|')\n",
    "    plt.title('Objective Function Difference')\n",
    "\n",
    "    plt.subplot(1, 2, 2)\n",
    "    plt.plot(range(1, len(test_log_losses) + 1), test_log_losses, color='orange')\n",
    "    plt.xlabel('Iteration')\n",
    "    plt.ylabel('Log-Loss on Test Set')\n",
    "    plt.title('Test Set Log-Loss')\n",
    "\n",
    "    plt.tight_layout()\n",
    "    plt.show()\n",
    "\n",
    "    return beta_hat\n",
    "\n",
    "beta_hat = logistic_regression_sgd_adagrad(\n",
    "    bank_Xtrain, \n",
    "    bank_Ytrain, \n",
    "    bank_Xtest, \n",
    "    bank_Ytest, \n",
    "    learning_rate=0.1, \n",
    "    tmax=1000, \n",
    "    epsilon=1e-2\n",
    ")\n",
    "\n",
    "y_pred_ada = predict(bank_Xtest, beta_hat)\n",
    "print(beta_hat)\n",
    "print(accuracy_score(y_pred_ada, bank_Ytest))"
   ]
  },
  {
   "cell_type": "code",
   "execution_count": 339,
   "metadata": {},
   "outputs": [
    {
     "name": "stdout",
     "output_type": "stream",
     "text": [
      "0.8972375690607735\n",
      "[[ 0.22238966 -0.02220681  0.14353597  0.18199706 -0.18862741  0.10849482\n",
      "  -0.63711893 -0.40656871 -0.35224169  0.09299495 -0.31784172  1.28438918\n",
      "  -0.19444949 -0.24735728 -0.10779457  1.3109211   1.50124878]]\n",
      "[-3.0049617]\n"
     ]
    }
   ],
   "source": [
    "from sklearn.linear_model import SGDClassifier\n",
    "\n",
    "sgd_model = SGDClassifier(loss='log', max_iter=100)\n",
    "\n",
    "bank_Xtrain = bank_Xtrain[:, 1:]\n",
    "bank_Xtest = bank_Xtest[:, 1:]\n",
    "sgd_model.fit(bank_Xtrain, bank_Ytrain)  \n",
    "print(accuracy_score(bank_Ytest, sgd_model.predict(bank_Xtest)))\n",
    "print(sgd_model.coef_)\n",
    "print(sgd_model.intercept_)"
   ]
  },
  {
   "cell_type": "markdown",
   "metadata": {},
   "source": [
    "Stochastic Gradient Descent (SGD) produces great results with both AdaGrad and Bold Driver step length algorithm. They are both very near to the sklearn's SGDClassfier accuaracy."
   ]
  },
  {
   "cell_type": "markdown",
   "metadata": {},
   "source": [
    "#### **Analysis of the results**\n",
    "\n",
    "As we can see the graphs of logistic regression with SGD aren't as smooth as the one of logistic regression with batch gradient descent/ascent. This is because we dont' use the whole data to compute the gradient at once but we evaluate the gradient for each sample individually. However, the SGD versions of the logistic regression still converges to a relatively accurate solution. They aren't the same everytime, which is one of the problems of the SGD.\n",
    "\n",
    "When we have smaller dataset we can see that batch gradient descent/ascent performs faster. A situation where SGD would be useful is, when we have a big dataset which can't fit in the main memory. It's computationally more performant and sometimes even the only choice."
   ]
  }
 ],
 "metadata": {
  "kernelspec": {
   "display_name": "Python 3",
   "language": "python",
   "name": "python3"
  },
  "language_info": {
   "codemirror_mode": {
    "name": "ipython",
    "version": 3
   },
   "file_extension": ".py",
   "mimetype": "text/x-python",
   "name": "python",
   "nbconvert_exporter": "python",
   "pygments_lexer": "ipython3",
   "version": "3.6.9"
  }
 },
 "nbformat": 4,
 "nbformat_minor": 2
}
