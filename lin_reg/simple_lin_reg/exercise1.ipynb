{
 "cells": [
  {
   "cell_type": "markdown",
   "metadata": {},
   "source": [
    "Everything in this notebook is my work for the first exercise of the AML course."
   ]
  },
  {
   "cell_type": "markdown",
   "metadata": {},
   "source": [
    "# Question 1: Pandas and Numpy"
   ]
  },
  {
   "cell_type": "markdown",
   "metadata": {},
   "source": [
    "## Task a"
   ]
  },
  {
   "cell_type": "markdown",
   "metadata": {},
   "source": [
    "Write a program that reads the provided text file and counts the occurrences of unique words. The\n",
    "program should include all words in the count.\n"
   ]
  },
  {
   "cell_type": "code",
   "execution_count": 76,
   "metadata": {},
   "outputs": [
    {
     "name": "stdout",
     "output_type": "stream",
     "text": [
      "a: 15\n",
      "able: 4\n",
      "abstract: 1\n",
      "add: 1\n",
      "additional: 2\n",
      "alanwar: 5\n",
      "all: 3\n",
      "amin: 2\n",
      "amr: 4\n",
      "an: 2\n",
      "analysis: 6\n",
      "and: 19\n",
      "apis: 1\n",
      "approximations: 1\n",
      "are: 5\n",
      "article: 1\n",
      "arxiv: 2\n",
      "author: 2\n",
      "authors: 2\n",
      "be: 1\n",
      "benefits: 1\n",
      "between: 6\n",
      "binary: 2\n",
      "booktitle: 1\n",
      "boolean: 4\n",
      "boolfunctionexample: 1\n",
      "br: 44\n",
      "by: 1\n",
      "called: 1\n",
      "can: 1\n",
      "cars: 1\n",
      "case: 1\n",
      "cases: 1\n",
      "cdc: 3\n",
      "code: 1\n",
      "com: 3\n",
      "comes: 1\n",
      "compared: 1\n",
      "complexity: 2\n",
      "computational: 3\n",
      "computationally: 2\n",
      "computations: 1\n",
      "conference: 1\n",
      "constructed: 1\n",
      "construction: 2\n",
      "containpoints: 1\n",
      "control: 2\n",
      "cotains: 1\n",
      "crossing: 1\n",
      "decision: 1\n",
      "dependent: 1\n",
      "determines: 1\n",
      "dimensional: 2\n",
      "doing: 2\n",
      "due: 1\n",
      "efficient: 1\n",
      "enclosepoints: 1\n",
      "encloses: 1\n",
      "engineering: 1\n",
      "exact: 3\n",
      "exactly: 3\n",
      "example: 1\n",
      "exhaustive: 1\n",
      "exponent: 1\n",
      "extensibility: 1\n",
      "feedback: 1\n",
      "finding: 1\n",
      "findlfsrkeyexample: 1\n",
      "flag: 1\n",
      "folder: 1\n",
      "for: 13\n",
      "formal: 2\n",
      "formulate: 1\n",
      "frank: 4\n",
      "function: 2\n",
      "functions: 4\n",
      "fundamental: 2\n",
      "gamma: 2\n",
      "generalization: 2\n",
      "generator: 2\n",
      "generators: 3\n",
      "h: 2\n",
      "hbc: 2\n",
      "henrik: 2\n",
      "high: 2\n",
      "highlight: 1\n",
      "https: 4\n",
      "ieee: 1\n",
      "if: 1\n",
      "illustrate: 1\n",
      "img: 2\n",
      "in: 10\n",
      "include: 1\n",
      "increase: 1\n",
      "inproceedings: 1\n",
      "inside: 1\n",
      "international: 1\n",
      "intersection: 1\n",
      "intersections: 1\n",
      "interval: 1\n",
      "introduce: 1\n",
      "is: 2\n",
      "j: 4\n",
      "jiang: 4\n",
      "johansson: 4\n",
      "journal: 1\n",
      "jpg: 2\n",
      "karl: 4\n",
      "key: 2\n",
      "like: 1\n",
      "linear: 1\n",
      "logical: 41\n",
      "logicalzonotope: 1\n",
      "low: 1\n",
      "m: 5\n",
      "main: 1\n",
      "matlab: 1\n",
      "matrices: 1\n",
      "methods: 1\n",
      "moreover: 1\n",
      "nand: 4\n",
      "nd: 1\n",
      "nor: 4\n",
      "not: 4\n",
      "number: 2\n",
      "of: 18\n",
      "on: 5\n",
      "online: 1\n",
      "only: 2\n",
      "operations: 5\n",
      "or: 10\n",
      "order: 1\n",
      "other: 1\n",
      "our: 1\n",
      "over: 1\n",
      "p: 2\n",
      "pages: 1\n",
      "paper: 2\n",
      "papers: 3\n",
      "path: 1\n",
      "perform: 5\n",
      "performing: 2\n",
      "peytfhmxbek: 2\n",
      "point: 1\n",
      "points: 2\n",
      "polynomial: 16\n",
      "preprint: 1\n",
      "present: 1\n",
      "produce: 1\n",
      "protocol: 1\n",
      "prove: 1\n",
      "reachability: 6\n",
      "reduce: 1\n",
      "reduces: 1\n",
      "register: 1\n",
      "repo: 2\n",
      "represent: 1\n",
      "representation: 5\n",
      "representations: 1\n",
      "result: 1\n",
      "results: 1\n",
      "retaining: 1\n",
      "run: 5\n",
      "running: 1\n",
      "safety: 1\n",
      "samy: 2\n",
      "search: 1\n",
      "semi: 1\n",
      "semikron: 1\n",
      "seminar: 2\n",
      "set: 6\n",
      "shift: 1\n",
      "show: 1\n",
      "showcase: 1\n",
      "slight: 1\n",
      "some: 1\n",
      "space: 2\n",
      "subfolders: 1\n",
      "support: 2\n",
      "systems: 3\n",
      "talk: 2\n",
      "tensor: 1\n",
      "testlogicalfunctions: 1\n",
      "testpolylogicalfunctions: 1\n",
      "that: 3\n",
      "the: 22\n",
      "their: 1\n",
      "this: 4\n",
      "through: 1\n",
      "title: 2\n",
      "to: 12\n",
      "tractable: 1\n",
      "two: 7\n",
      "up: 1\n",
      "use: 3\n",
      "using: 1\n",
      "v: 1\n",
      "vechintersection: 1\n",
      "vectors: 2\n",
      "vehicle: 1\n",
      "verification: 3\n",
      "vi: 2\n",
      "volume: 1\n",
      "watch: 1\n",
      "we: 10\n",
      "where: 1\n",
      "which: 1\n",
      "while: 3\n",
      "with: 2\n",
      "www: 1\n",
      "xevqpgp: 2\n",
      "xnor: 2\n",
      "xor: 4\n",
      "year: 2\n",
      "youtu: 1\n",
      "youtube: 3\n",
      "z: 27\n",
      "zonotope: 8\n",
      "zonotopes: 18\n",
      "zontoope: 1\n",
      "zontoopes: 5\n",
      "zred: 1\n"
     ]
    }
   ],
   "source": [
    "\"\"\"My solution splits the text on the non-alphabetic chars, removes them and counts the remanining.\"\"\"\n",
    "\"\"\"Link: https://docs.python.org/3/library/re.html\"\"\"\n",
    "\n",
    "import numpy as np\n",
    "import re\n",
    "\n",
    "# the file.txt used for task a and b is: https://raw.githubusercontent.com/aalanwar/Logical-Zonotope/refs/heads/main/README.md\n",
    "PATH = 'file.txt'\n",
    "\n",
    "def wordcounter(path):\n",
    "    with open(path, 'r', encoding='utf-8') as f:\n",
    "        txt = f.read()\n",
    "   \n",
    "    # Make the text lowercase\n",
    "    txt = txt.lower()\n",
    "    \n",
    "    # Split the text into words based on non-alphabetic characters\n",
    "    words = np.array(re.split(r'[^a-zA-Z]+', txt))\n",
    "    \n",
    "    # Filter out empty strings resulting from the split\n",
    "    filtered_words = np.array([word for word in words if word])\n",
    "    \n",
    "    # Get unique words and their count\n",
    "    unique_words, counts = np.unique(filtered_words, return_counts=True)\n",
    "    \n",
    "    for word, count in zip(unique_words, counts):\n",
    "        print(f\"{word}: {count}\")\n",
    "\n",
    "wordcounter(PATH)"
   ]
  },
  {
   "cell_type": "markdown",
   "metadata": {},
   "source": [
    "## Task b"
   ]
  },
  {
   "cell_type": "markdown",
   "metadata": {},
   "source": [
    "Modify the program to exclude common words such as ’the’, ’a’, ’an’, and ’be’ from the count. Finally,\n",
    "generate a histogram displaying the top 10 most frequent words."
   ]
  },
  {
   "cell_type": "code",
   "execution_count": 77,
   "metadata": {},
   "outputs": [
    {
     "data": {
      "image/png": "[encoded data removed]",
      "text/plain": [
       "<Figure size 720x432 with 1 Axes>"
      ]
     },
     "metadata": {
      "needs_background": "light"
     },
     "output_type": "display_data"
    }
   ],
   "source": [
    "\"\"\"Further, I don't count the single letter words and the words that contain a symbols other than letters.\"\"\"\n",
    "\"\"\"Links: https://pandas.pydata.org/docs/user_guide/10min.html\"\"\"\n",
    "\"\"\"https://www.w3schools.com/python/pandas/pandas_intro.asp\"\"\"\n",
    "\"\"\"https://matplotlib.org/stable/gallery/index.html\"\"\"\n",
    "\n",
    "import numpy as np\n",
    "import pandas as pd\n",
    "import matplotlib.pyplot as plt\n",
    "\n",
    "PATH = 'file.txt'\n",
    "# Add more words, if you need\n",
    "EXCLUDED_WORDS = {'the', 'a', 'an', 'be', 'br', 'of', 'for', 'to', 'we', 'and', 'in', 'or', 'are', 'is'}\n",
    "\n",
    "def count_words(path, excluded_words):\n",
    "    \n",
    "    with open(path, 'r', encoding='utf-8') as f:\n",
    "        txt = f.read()\n",
    "   \n",
    "    # Make the text lowercase\n",
    "    txt = txt.lower()\n",
    "    \n",
    "    # Split the text into words based on non-alphabetic characters\n",
    "    words = np.array(re.split(r'[^a-zA-Z]+', txt))\n",
    "    \n",
    "    # Filter out excluded words\n",
    "    filtered_words = np.array([word for word in words if word not in excluded_words and len(word) > 1])\n",
    "    \n",
    "    # Get unique words and their counts\n",
    "    unique_words, counts = np.unique(filtered_words, return_counts=True)\n",
    "    \n",
    "    # Create a DataFrame with words and counts\n",
    "    word_counts_df = pd.DataFrame({'word': unique_words, 'count': counts})\n",
    "    \n",
    "    # Sort the DataFrame by count in descending order\n",
    "    word_counts_df = word_counts_df.sort_values(by='count', ascending=False).reset_index(drop=True)\n",
    "    \n",
    "    return word_counts_df\n",
    "\n",
    "def plot_top_words(word_counts_df, top_n=10):\n",
    "    # If we have less than 10 different words, use smaller number\n",
    "    top_n = min(len(word_counts_df), top_n)   \n",
    "   \n",
    "    top_words_df = word_counts_df.head(top_n)\n",
    "    \n",
    "    # Plot the histogram\n",
    "    top_words_df.plot(kind='barh', x='word', y='count', color='blue', legend=False, figsize=(10, 6))\n",
    "    plt.xlabel('count')\n",
    "    plt.title(f'Top {top_n} Most Frequent Words')\n",
    "    plt.gca().invert_yaxis()  # Invert y-axis to have the most frequent word at the top\n",
    "    plt.show()\n",
    "\n",
    "word_counts_df = count_words(PATH, EXCLUDED_WORDS)\n",
    "plot_top_words(word_counts_df)"
   ]
  },
  {
   "cell_type": "markdown",
   "metadata": {},
   "source": [
    "## Task c"
   ]
  },
  {
   "cell_type": "markdown",
   "metadata": {},
   "source": [
    "Create a matrix A with dimensions 100 × 20 (n = 100, m = 20).\n"
   ]
  },
  {
   "cell_type": "code",
   "execution_count": 78,
   "metadata": {},
   "outputs": [
    {
     "data": {
      "text/plain": [
       "array([[0., 0., 0., ..., 0., 0., 0.],\n",
       "       [0., 0., 0., ..., 0., 0., 0.],\n",
       "       [0., 0., 0., ..., 0., 0., 0.],\n",
       "       ...,\n",
       "       [0., 0., 0., ..., 0., 0., 0.],\n",
       "       [0., 0., 0., ..., 0., 0., 0.],\n",
       "       [0., 0., 0., ..., 0., 0., 0.]])"
      ]
     },
     "execution_count": 78,
     "metadata": {},
     "output_type": "execute_result"
    }
   ],
   "source": [
    "A = np.zeros((100,20))\n",
    "A"
   ]
  },
  {
   "cell_type": "markdown",
   "metadata": {},
   "source": [
    "Initialize matrix A with random values."
   ]
  },
  {
   "cell_type": "code",
   "execution_count": 79,
   "metadata": {},
   "outputs": [
    {
     "data": {
      "text/plain": [
       "array([[7.70414427e-01, 4.67141926e-01, 6.15352868e-01, ...,\n",
       "        8.59181200e-01, 8.11582172e-01, 8.30851765e-04],\n",
       "       [3.85569229e-01, 7.81537285e-01, 4.57832456e-01, ...,\n",
       "        4.80179158e-01, 2.49529783e-01, 1.31626324e-01],\n",
       "       [4.38832691e-01, 1.64274092e-01, 6.92481096e-03, ...,\n",
       "        3.86409897e-01, 9.95108364e-01, 4.97285793e-01],\n",
       "       ...,\n",
       "       [8.03102931e-01, 8.14235932e-01, 9.00205602e-01, ...,\n",
       "        7.62914763e-02, 7.91526570e-01, 1.69236479e-02],\n",
       "       [4.32333859e-01, 8.81607571e-01, 4.04031799e-01, ...,\n",
       "        3.45727500e-01, 2.01916145e-01, 2.27529925e-01],\n",
       "       [2.13951101e-01, 9.32733675e-01, 9.96778982e-01, ...,\n",
       "        5.16423083e-01, 7.76630064e-02, 7.87835955e-01]])"
      ]
     },
     "execution_count": 79,
     "metadata": {},
     "output_type": "execute_result"
    }
   ],
   "source": [
    "A = np.random.rand(100,20)\n",
    "A"
   ]
  },
  {
   "cell_type": "markdown",
   "metadata": {},
   "source": [
    "Create a vector v of size 20 × 1 and initialize it with values from a normal distribution, where the mean $\\mu$ is 2 and the standard deviation $\\sigma$ is 0.01."
   ]
  },
  {
   "cell_type": "code",
   "execution_count": 80,
   "metadata": {},
   "outputs": [
    {
     "data": {
      "text/plain": [
       "array([[2.0051764 ],\n",
       "       [2.00617032],\n",
       "       [1.99563677],\n",
       "       [2.0111699 ],\n",
       "       [1.98487687],\n",
       "       [2.00639356],\n",
       "       [1.99454316],\n",
       "       [1.99316348],\n",
       "       [1.99796149],\n",
       "       [2.00249119],\n",
       "       [2.00387057],\n",
       "       [2.01564143],\n",
       "       [1.99646151],\n",
       "       [1.998721  ],\n",
       "       [2.01760327],\n",
       "       [1.99727572],\n",
       "       [2.00325276],\n",
       "       [1.9962538 ],\n",
       "       [2.00189645],\n",
       "       [1.99121996]])"
      ]
     },
     "execution_count": 80,
     "metadata": {},
     "output_type": "execute_result"
    }
   ],
   "source": [
    "mean = 2\n",
    "std_dev = 0.01\n",
    "v = np.random.normal(mean, std_dev, (20, 1))\n",
    "v"
   ]
  },
  {
   "cell_type": "markdown",
   "metadata": {},
   "source": [
    "Iteratively multiply each row of matrix A element-wise by vector v, and accumulate the results\n",
    "into a new vector c."
   ]
  },
  {
   "cell_type": "code",
   "execution_count": 81,
   "metadata": {},
   "outputs": [
    {
     "data": {
      "text/plain": [
       "array([21.47593727, 18.31718802, 19.05170205, 20.33585218, 18.41289436,\n",
       "       20.84055027, 21.90147309, 19.00541115, 19.90214722, 18.41719188,\n",
       "       22.61392928, 18.20839597, 21.36850101, 19.09975697, 26.47438196,\n",
       "       20.06186169, 18.10125826, 23.17016184, 20.01491769, 17.60634892,\n",
       "       21.87975181, 21.22327491, 19.91173507, 20.49176738, 18.37990874,\n",
       "       20.49730505, 26.03398131, 23.11473975, 27.49525704, 21.77108425,\n",
       "       20.32689175, 24.18694296, 25.09684444, 20.11700348, 20.79546365,\n",
       "       19.55207427, 18.34566891, 17.85055122, 20.74026857, 19.23139661,\n",
       "       18.34005045, 21.45950315, 19.07846993, 21.93874214, 17.97933871,\n",
       "       21.71455023, 19.12173055, 17.56757211, 20.44031447, 20.06301157,\n",
       "       18.36560581, 17.63370393, 20.56012343, 19.17343673, 21.02100863,\n",
       "       21.77813981, 20.95390643, 20.51560842, 22.2157773 , 20.36273872,\n",
       "       22.01920558, 23.28394592, 16.34928222, 20.86840317, 22.84529727,\n",
       "       18.37460355, 14.06146209, 22.46642694, 21.07995535, 22.18136436,\n",
       "       20.00441524, 18.23925057, 19.07667688, 17.2225589 , 14.33474952,\n",
       "       18.40953285, 18.85640017, 21.2842708 , 24.21558829, 18.99653003,\n",
       "       20.93669456, 19.04944793, 18.44433541, 23.13544147, 18.94279038,\n",
       "       17.77796163, 16.21760134, 17.86221448, 22.60985609, 19.54261114,\n",
       "       21.60474894, 24.24045832, 18.2890936 , 19.40916143, 19.91090966,\n",
       "       16.75657282, 17.56205805, 24.37468483, 19.28144606, 22.69258276])"
      ]
     },
     "execution_count": 81,
     "metadata": {},
     "output_type": "execute_result"
    }
   ],
   "source": [
    "\"Links: https://numpy.org/doc/2.0/reference/generated/numpy.ndarray.flatten.html\"\n",
    "c = np.zeros(100)\n",
    "\n",
    "for i in range(A.shape[0]):\n",
    "    c[i] = np.sum(A[i, :] * v.flatten())\n",
    "    \n",
    "c"
   ]
  },
  {
   "cell_type": "markdown",
   "metadata": {},
   "source": [
    "Calculate the mean and standard deviation of vector c"
   ]
  },
  {
   "cell_type": "code",
   "execution_count": 82,
   "metadata": {},
   "outputs": [
    {
     "name": "stdout",
     "output_type": "stream",
     "text": [
      "Mean of vector c: 20.245156953688927\n",
      "Standard deviation of vector c: 2.3710564564368415\n"
     ]
    }
   ],
   "source": [
    "mean_c = np.mean(c)\n",
    "std_dev_c = np.std(c)\n",
    "\n",
    "print(\"Mean of vector c:\", mean_c)\n",
    "print(\"Standard deviation of vector c:\", std_dev_c)"
   ]
  },
  {
   "cell_type": "markdown",
   "metadata": {},
   "source": [
    "Plot a histogram of vector c using 5 bins."
   ]
  },
  {
   "cell_type": "code",
   "execution_count": 83,
   "metadata": {},
   "outputs": [
    {
     "data": {
      "image/png": "[encoded data removed]",
      "text/plain": [
       "<Figure size 720x432 with 1 Axes>"
      ]
     },
     "metadata": {
      "needs_background": "light"
     },
     "output_type": "display_data"
    }
   ],
   "source": [
    "import matplotlib.pyplot as plt\n",
    "\n",
    "plt.figure(figsize=(10, 6))\n",
    "plt.hist(c, bins=5, color='green', edgecolor='black')\n",
    "plt.xlabel('Values')\n",
    "plt.ylabel('Count')\n",
    "plt.title('Histogram of Vector c with 5 bins')\n",
    "plt.grid(axis='y', alpha=0.75)\n",
    "plt.show()"
   ]
  },
  {
   "cell_type": "markdown",
   "metadata": {},
   "source": [
    "# Question 2: Linear Regression"
   ]
  },
  {
   "cell_type": "markdown",
   "metadata": {},
   "source": [
    "Implement \"Learn Simple Linear Regression\" and \"Predict using Simple Linear Regression\". Plot the results."
   ]
  },
  {
   "cell_type": "code",
   "execution_count": 84,
   "metadata": {},
   "outputs": [],
   "source": [
    "import numpy as np\n",
    "\n",
    "# For result reproductivity\n",
    "np.random.seed(1337)\n",
    "\n",
    "# Implementation of \"Learn Simple Linear Regression\"\n",
    "def learn_simple_linreg(x, y, beta0_eq_0=False, beta1_eq_0=False):\n",
    "    x = np.array(x)\n",
    "    y = np.array(y)\n",
    "    x_mean = np.mean(x)\n",
    "    y_mean = np.mean(y)\n",
    "    \n",
    "    if beta0_eq_0:\n",
    "        beta_1 = np.sum((x - x_mean) * (y - y_mean)) / np.sum((x - x_mean)**2)\n",
    "        beta_0 = 0 \n",
    "    elif beta1_eq_0:\n",
    "        beta_1 = 0\n",
    "        beta_0 = y_mean  \n",
    "    elif not beta0_eq_0 and not beta1_eq_0:\n",
    "        beta_1 = np.sum((x - x_mean) * (y - y_mean)) / np.sum((x - x_mean)**2)\n",
    "        beta_0 = y_mean - beta_1 * x_mean\n",
    "    else:\n",
    "        beta_0 = 0\n",
    "        beta_1 = 0\n",
    "    return beta_0, beta_1\n",
    "\n",
    "# Implementation of  \"Predict Simple Linear Regression\"\n",
    "def predict_simple_linreg(x, beta_0, beta_1):    \n",
    "    y_pred = beta_0 + beta_1 * x\n",
    "\n",
    "    return y_pred\n",
    "\n",
    "# Calculate MSE (Mean Squared Error) \n",
    "def calculate_mse(y_true, y_pred):\n",
    "    mse = np.mean((y_true - y_pred) ** 2)\n",
    "    return mse\n",
    "\n",
    "# Compare the results with the actual value, make a scatter plot and a line\n",
    "def plot_results(X, y, y_pred, title, print_data=False):\n",
    "    # Print the actual vs. predicted values \n",
    "    if print_data:\n",
    "        for i, (actual, predicted) in enumerate(zip(y, y_pred)):\n",
    "            print(f\"Training example {i+1}: Actual: {actual:.4f}, Predicted: {predicted:.4f}\")\n",
    "\n",
    "    # Plot the data\n",
    "    plt.figure(figsize=(10, 6))\n",
    "\n",
    "    # Scatter plot for the actual data points\n",
    "    plt.scatter(X, y, color='blue', label='Training Points')\n",
    "\n",
    "    # Line plot for the predicted values\n",
    "    # We sort x_train and corresponding y_pred for a smooth line\n",
    "    sorted_indices = np.argsort(X)\n",
    "    plt.plot(X[sorted_indices], y_pred[sorted_indices], color='red', label='Linear Fit')\n",
    "    \n",
    "    plt.xlabel('Feature (x)')\n",
    "    plt.ylabel('Target (y)')\n",
    "    plt.title(title)\n",
    "    plt.legend()\n",
    "    plt.show()\n"
   ]
  },
  {
   "cell_type": "markdown",
   "metadata": {},
   "source": [
    "Generate three datasets (matrices) A with dimensions 100×2. Initialize them with normal distribution $\\mu$ = 2 and $\\sigma$ = [0.01, 0.1, 1]. Use \"Learn Simple Linear Regression\" and \"Predict using Simple Linear Regression\" on the matrix A. Plot the results. Set $\\beta_0$= 0 and $\\beta_1$ = 0 and comment the results."
   ]
  },
  {
   "cell_type": "code",
   "execution_count": 85,
   "metadata": {},
   "outputs": [
    {
     "data": {
      "text/plain": [
       "array([[1.99296813, 1.99509718],\n",
       "       [1.99678186, 1.98244921],\n",
       "       [2.00206664, 1.97988735],\n",
       "       [1.99442749, 2.00337217],\n",
       "       [2.01548836, 1.98629263],\n",
       "       [2.01425291, 1.99720536],\n",
       "       [1.99440372, 2.01186383],\n",
       "       [2.01698519, 1.9830878 ],\n",
       "       [1.99300477, 2.00582963],\n",
       "       [2.00978223, 1.98782628],\n",
       "       [1.98670605, 1.99998545],\n",
       "       [1.98685347, 1.99620388],\n",
       "       [2.01265211, 2.00120668],\n",
       "       [2.00147942, 1.97246274],\n",
       "       [1.99643104, 2.00007718],\n",
       "       [2.01478277, 1.99042385],\n",
       "       [2.01329008, 1.9901415 ],\n",
       "       [2.00471557, 1.99991253],\n",
       "       [2.00367019, 2.01118555],\n",
       "       [1.9999161 , 2.00466315],\n",
       "       [2.01263269, 1.99098345],\n",
       "       [1.98971157, 2.00569678],\n",
       "       [2.00641665, 2.00259812],\n",
       "       [2.01193178, 1.989537  ],\n",
       "       [2.00139889, 1.98269344],\n",
       "       [1.99869377, 1.9868974 ],\n",
       "       [1.97828688, 1.98933819],\n",
       "       [1.99966838, 2.01466396],\n",
       "       [2.00876643, 2.0066999 ],\n",
       "       [2.0069745 , 1.99747215],\n",
       "       [2.00567987, 2.00304388],\n",
       "       [1.9899997 , 1.97543582],\n",
       "       [2.00252307, 2.0076312 ],\n",
       "       [1.98416545, 2.00198042],\n",
       "       [2.00085252, 2.00640508],\n",
       "       [1.99209342, 2.00771182],\n",
       "       [1.98049322, 1.9870599 ],\n",
       "       [1.98926476, 2.00030691],\n",
       "       [2.00774109, 1.99128604],\n",
       "       [2.00166344, 2.0063579 ],\n",
       "       [2.01081672, 1.99717226],\n",
       "       [2.01554788, 1.99141692],\n",
       "       [1.9972035 , 1.99914577],\n",
       "       [1.99780402, 1.97826401],\n",
       "       [2.00906332, 2.00750339],\n",
       "       [1.9942474 , 1.99631047],\n",
       "       [2.00765748, 1.98899338],\n",
       "       [2.0073383 , 1.99968426],\n",
       "       [1.98726058, 2.00330359],\n",
       "       [1.99457485, 1.98947971],\n",
       "       [1.99224279, 1.99876772],\n",
       "       [1.99463069, 2.00165373],\n",
       "       [2.00899856, 2.01257196],\n",
       "       [2.01154069, 1.99325774],\n",
       "       [2.00883267, 1.98199259],\n",
       "       [2.00315524, 1.99701058],\n",
       "       [2.00923267, 1.9913539 ],\n",
       "       [2.00906324, 2.00143665],\n",
       "       [1.99571216, 2.00043633],\n",
       "       [1.9884037 , 1.99855418],\n",
       "       [2.01062697, 2.01503482],\n",
       "       [2.00890477, 2.00110185],\n",
       "       [1.99719122, 2.00470877],\n",
       "       [1.99877345, 2.01809716],\n",
       "       [1.99788496, 1.99895084],\n",
       "       [2.00560009, 1.98820544],\n",
       "       [1.99532196, 1.98257587],\n",
       "       [1.99996297, 1.97829933],\n",
       "       [2.0042451 , 2.00146479],\n",
       "       [2.00059274, 1.99508746],\n",
       "       [1.98982827, 2.00419307],\n",
       "       [1.99228632, 2.01437887],\n",
       "       [2.02686767, 2.00396733],\n",
       "       [2.00476924, 2.00815902],\n",
       "       [1.99496908, 2.00144864],\n",
       "       [2.00039158, 1.99387164],\n",
       "       [2.00700882, 2.00976865],\n",
       "       [1.99369058, 1.99161397],\n",
       "       [1.99560796, 1.98635473],\n",
       "       [1.98727629, 2.00860191],\n",
       "       [2.0091486 , 1.9928714 ],\n",
       "       [2.00156078, 2.01158556],\n",
       "       [1.9950179 , 2.01670691],\n",
       "       [2.00431765, 2.00426712],\n",
       "       [2.00986746, 2.00977681],\n",
       "       [1.98935332, 2.00538848],\n",
       "       [2.00843083, 2.00900723],\n",
       "       [1.99198323, 2.00487131],\n",
       "       [1.996416  , 2.01202977],\n",
       "       [2.00458699, 1.98880369],\n",
       "       [2.0033513 , 1.993131  ],\n",
       "       [2.01206817, 2.01917521],\n",
       "       [2.00542199, 2.00722354],\n",
       "       [1.99825119, 1.99884003],\n",
       "       [1.98012873, 2.00009983],\n",
       "       [2.00071215, 1.98249959],\n",
       "       [2.00554438, 2.00274546],\n",
       "       [2.01720705, 1.97605787],\n",
       "       [1.99561664, 2.01221981],\n",
       "       [2.00374377, 1.98618996]])"
      ]
     },
     "execution_count": 85,
     "metadata": {},
     "output_type": "execute_result"
    }
   ],
   "source": [
    "# Dataset 1\n",
    "mean = 2\n",
    "std_dev = 0.01\n",
    "A = np.random.normal(mean, std_dev, (100, 2))\n",
    "A"
   ]
  },
  {
   "cell_type": "code",
   "execution_count": 86,
   "metadata": {},
   "outputs": [
    {
     "data": {
      "image/png": "[encoded data removed]",
      "text/plain": [
       "<Figure size 720x432 with 1 Axes>"
      ]
     },
     "metadata": {
      "needs_background": "light"
     },
     "output_type": "display_data"
    },
    {
     "name": "stdout",
     "output_type": "stream",
     "text": [
      "MSE of dataset 1: 0.00010849770709316469\n"
     ]
    }
   ],
   "source": [
    "# Split the data: The first column is for features, the second column is for labels\n",
    "\n",
    "X = A[:, 0]\n",
    "y = A[:, 1]\n",
    "\n",
    "# Train the model using the matrix A\n",
    "beta_0, beta_1 = learn_simple_linreg(X, y)\n",
    "\n",
    "# Predict\n",
    "y_pred = predict_simple_linreg(X, beta_0, beta_1)\n",
    "\n",
    "plot_results(X, y, y_pred, 'Simple Linear Regression: Training Points and Prediction Line')\n",
    "\n",
    "# Add precision metric to show things about the variance\n",
    "mse = calculate_mse(y, y_pred)\n",
    "print(\"MSE of dataset 1:\", mse)\n"
   ]
  },
  {
   "cell_type": "code",
   "execution_count": 87,
   "metadata": {},
   "outputs": [
    {
     "data": {
      "image/png": "[encoded data removed]",
      "text/plain": [
       "<Figure size 720x432 with 1 Axes>"
      ]
     },
     "metadata": {
      "needs_background": "light"
     },
     "output_type": "display_data"
    },
    {
     "name": "stdout",
     "output_type": "stream",
     "text": [
      "MSE of dataset 1 (beta_0 = 0): 4.85025608478885\n"
     ]
    }
   ],
   "source": [
    "# Set beta_0 = 0\n",
    "beta_0, beta_1 = learn_simple_linreg(X, y, beta0_eq_0=True)\n",
    "\n",
    "# Predict\n",
    "y_pred = predict_simple_linreg(X, beta_0, beta_1)\n",
    "\n",
    "plot_results(X, y, y_pred, 'Simple Linear Regression (beta_0 = 0): Training Points and Prediction Line')\n",
    "\n",
    "mse = calculate_mse(y, y_pred)\n",
    "print(\"MSE of dataset 1 (beta_0 = 0):\", mse)\n"
   ]
  },
  {
   "cell_type": "code",
   "execution_count": 88,
   "metadata": {},
   "outputs": [
    {
     "data": {
      "image/png": "[encoded data removed]",
      "text/plain": [
       "<Figure size 720x432 with 1 Axes>"
      ]
     },
     "metadata": {
      "needs_background": "light"
     },
     "output_type": "display_data"
    },
    {
     "name": "stdout",
     "output_type": "stream",
     "text": [
      "MSE of dataset 1 (beta_1 = 0): 0.00010936537736836184\n"
     ]
    }
   ],
   "source": [
    "# Set beta_1 = 0\n",
    "\n",
    "beta_0, beta_1 = learn_simple_linreg(X, y, beta1_eq_0=True)\n",
    "\n",
    "# Predict\n",
    "y_pred = predict_simple_linreg(X, beta_0, beta_1)\n",
    "\n",
    "plot_results(X, y, y_pred, 'Simple Linear Regression (beta_1 = 0): Training Points and Prediction Line')\n",
    "\n",
    "mse = calculate_mse(y, y_pred)\n",
    "print(\"MSE of dataset 1 (beta_1 = 0):\", mse)"
   ]
  },
  {
   "cell_type": "code",
   "execution_count": 89,
   "metadata": {},
   "outputs": [
    {
     "data": {
      "text/plain": [
       "array([[1.93233134, 2.04075919],\n",
       "       [2.05936198, 2.07836184],\n",
       "       [2.06730021, 2.04787814],\n",
       "       [2.08390401, 2.08691237],\n",
       "       [2.13463277, 2.13673477],\n",
       "       [2.03668274, 2.03600416],\n",
       "       [2.0666945 , 1.88546352],\n",
       "       [2.04388915, 1.95621553],\n",
       "       [1.95343102, 2.00312033],\n",
       "       [1.91804777, 2.07588539],\n",
       "       [2.05180565, 2.04281969],\n",
       "       [2.0208135 , 2.12482649],\n",
       "       [2.10425856, 2.07349767],\n",
       "       [1.94067612, 2.15240642],\n",
       "       [2.12164603, 2.10583692],\n",
       "       [1.94831091, 2.10808539],\n",
       "       [1.86171596, 2.01064564],\n",
       "       [2.02742579, 1.83625172],\n",
       "       [2.0994121 , 1.8639293 ],\n",
       "       [1.96538714, 2.15606943],\n",
       "       [2.06364084, 1.97863444],\n",
       "       [1.94699713, 1.88526045],\n",
       "       [1.86689797, 2.08671129],\n",
       "       [2.01017772, 1.94345782],\n",
       "       [2.05448665, 1.94117832],\n",
       "       [1.84697103, 1.89448992],\n",
       "       [2.12310259, 2.14926841],\n",
       "       [2.10957269, 1.91672457],\n",
       "       [2.14211968, 1.94807416],\n",
       "       [1.93314113, 2.20658747],\n",
       "       [2.067394  , 2.01783679],\n",
       "       [2.1209596 , 2.20522806],\n",
       "       [2.11729834, 1.97007907],\n",
       "       [2.15449106, 2.05132884],\n",
       "       [1.95296958, 1.96899029],\n",
       "       [1.95719561, 1.85927621],\n",
       "       [1.92034096, 1.91143565],\n",
       "       [2.21106337, 2.10703925],\n",
       "       [2.13994529, 2.05714031],\n",
       "       [2.02754305, 1.9800747 ],\n",
       "       [1.96409808, 2.01266097],\n",
       "       [1.83076657, 2.13371478],\n",
       "       [1.88928323, 1.9427752 ],\n",
       "       [2.08971525, 1.87183003],\n",
       "       [1.81009758, 1.82173132],\n",
       "       [1.97171469, 1.95512421],\n",
       "       [2.11492303, 1.90189136],\n",
       "       [1.85651399, 1.92463733],\n",
       "       [2.13750592, 2.00065116],\n",
       "       [1.94620988, 2.04936707],\n",
       "       [1.91725227, 2.02210308],\n",
       "       [1.94730214, 1.95994331],\n",
       "       [1.95403086, 1.81201701],\n",
       "       [2.05194943, 1.82224618],\n",
       "       [1.97101413, 2.03678983],\n",
       "       [2.0963175 , 1.95488435],\n",
       "       [1.98561091, 1.93523996],\n",
       "       [2.0769697 , 1.87006958],\n",
       "       [2.07552074, 2.01291583],\n",
       "       [2.11215272, 1.9647502 ],\n",
       "       [1.88664737, 2.12417082],\n",
       "       [2.09914683, 1.89566841],\n",
       "       [2.04321594, 2.00653812],\n",
       "       [1.92990321, 1.92559287],\n",
       "       [2.10592236, 2.12711451],\n",
       "       [2.02501208, 1.83522045],\n",
       "       [1.91996551, 1.97952855],\n",
       "       [1.9580164 , 1.9769926 ],\n",
       "       [2.16625867, 2.09007106],\n",
       "       [2.01111686, 1.96117374],\n",
       "       [2.00106399, 2.10695899],\n",
       "       [1.83984901, 2.06530575],\n",
       "       [2.02899625, 1.96945771],\n",
       "       [1.80570876, 1.98312672],\n",
       "       [2.07968302, 1.9292602 ],\n",
       "       [1.98027969, 1.88664499],\n",
       "       [2.07694784, 1.91465054],\n",
       "       [2.03338465, 2.02700628],\n",
       "       [1.89875726, 2.07114623],\n",
       "       [2.01145676, 1.91890069],\n",
       "       [1.79234727, 2.12292824],\n",
       "       [1.87545359, 2.01716097],\n",
       "       [2.05451827, 1.91709557],\n",
       "       [2.04854659, 1.94082528],\n",
       "       [2.0397391 , 1.98051738],\n",
       "       [1.75881294, 1.93620192],\n",
       "       [2.00118608, 1.90578676],\n",
       "       [2.02614661, 1.94169665],\n",
       "       [1.99070211, 1.88746999],\n",
       "       [2.05957081, 1.84086294],\n",
       "       [2.00272104, 1.98810685],\n",
       "       [1.69801269, 2.19185718],\n",
       "       [2.09112435, 1.97724668],\n",
       "       [2.05693587, 1.90685875],\n",
       "       [2.07290851, 2.08636124],\n",
       "       [2.15672469, 2.0836411 ],\n",
       "       [1.97495476, 1.98434902],\n",
       "       [2.00761655, 2.08771211],\n",
       "       [2.06199633, 1.9533132 ],\n",
       "       [1.94328723, 2.06855032]])"
      ]
     },
     "execution_count": 89,
     "metadata": {},
     "output_type": "execute_result"
    }
   ],
   "source": [
    "# Dataset 2\n",
    "mean = 2\n",
    "std_dev = 0.1\n",
    "A = np.random.normal(mean, std_dev, (100, 2))\n",
    "A"
   ]
  },
  {
   "cell_type": "code",
   "execution_count": 90,
   "metadata": {},
   "outputs": [
    {
     "data": {
      "image/png": "[encoded data removed]",
      "text/plain": [
       "<Figure size 720x432 with 1 Axes>"
      ]
     },
     "metadata": {
      "needs_background": "light"
     },
     "output_type": "display_data"
    },
    {
     "name": "stdout",
     "output_type": "stream",
     "text": [
      "MSE of dataset 2: 0.008767117922909757\n"
     ]
    }
   ],
   "source": [
    "# Split the data: The first column is for features, the second column is for labels\n",
    "X = A[:, 0]\n",
    "y = A[:, 1]\n",
    "\n",
    "# Train the model using the matrix A\n",
    "beta_0, beta_1 = learn_simple_linreg(X, y)\n",
    "\n",
    "# Predict\n",
    "y_pred = predict_simple_linreg(X, beta_0, beta_1)\n",
    "\n",
    "plot_results(X, y, y_pred, 'Simple Linear Regression: Training Points and Prediction Line')\n",
    "\n",
    "# Add precision metric to show things about the variance\n",
    "mse = calculate_mse(y, y_pred)\n",
    "print(\"MSE of dataset 2:\", mse)"
   ]
  },
  {
   "cell_type": "code",
   "execution_count": 91,
   "metadata": {},
   "outputs": [
    {
     "data": {
      "image/png": "[encoded data removed]",
      "text/plain": [
       "<Figure size 720x432 with 1 Axes>"
      ]
     },
     "metadata": {
      "needs_background": "light"
     },
     "output_type": "display_data"
    },
    {
     "name": "stdout",
     "output_type": "stream",
     "text": [
      "MSE of dataset 2 (beta_0 = 0): 4.324272739476659\n"
     ]
    }
   ],
   "source": [
    "# Set beta_0 = 0\n",
    "beta_0, beta_1 = learn_simple_linreg(X, y, beta0_eq_0=True)\n",
    "\n",
    "# Predict\n",
    "y_pred = predict_simple_linreg(X, beta_0, beta_1)\n",
    "\n",
    "plot_results(X, y, y_pred, 'Simple Linear Regression (beta_0 = 0): Training Points and Prediction Line')\n",
    "\n",
    "mse = calculate_mse(y, y_pred)\n",
    "print(\"MSE of dataset 2 (beta_0 = 0):\", mse)"
   ]
  },
  {
   "cell_type": "code",
   "execution_count": 92,
   "metadata": {},
   "outputs": [
    {
     "data": {
      "image/png": "[encoded data removed]",
      "text/plain": [
       "<Figure size 720x432 with 1 Axes>"
      ]
     },
     "metadata": {
      "needs_background": "light"
     },
     "output_type": "display_data"
    },
    {
     "name": "stdout",
     "output_type": "stream",
     "text": [
      "MSE of dataset 2 (beta_1 = 0): 0.008783519365407754\n"
     ]
    }
   ],
   "source": [
    "# Set beta_1 = 0\n",
    "\n",
    "beta_0, beta_1 = learn_simple_linreg(X, y, beta1_eq_0=True)\n",
    "\n",
    "# Predict\n",
    "y_pred = predict_simple_linreg(X, beta_0, beta_1)\n",
    "\n",
    "plot_results(X, y, y_pred, 'Simple Linear Regression (beta_1 = 0): Training Points and Prediction Line')\n",
    "\n",
    "mse = calculate_mse(y, y_pred)\n",
    "print(\"MSE of dataset 2 (beta_1 = 0):\", mse)"
   ]
  },
  {
   "cell_type": "code",
   "execution_count": 93,
   "metadata": {},
   "outputs": [
    {
     "data": {
      "text/plain": [
       "array([[1.62476901, 2.80430086],\n",
       "       [0.62830104, 0.29816596],\n",
       "       [0.38122735, 2.03843535],\n",
       "       [0.29521187, 1.81293064],\n",
       "       [2.89581491, 1.74848291],\n",
       "       [1.08723926, 1.5986349 ],\n",
       "       [1.05161192, 3.00727699],\n",
       "       [0.74189673, 2.22315161],\n",
       "       [0.01592974, 0.53706204],\n",
       "       [2.49553402, 3.87812878],\n",
       "       [2.14930356, 2.68151947],\n",
       "       [2.38147744, 3.90927481],\n",
       "       [1.49130903, 2.08598906],\n",
       "       [2.64704057, 0.56166857],\n",
       "       [1.91685025, 1.23381504],\n",
       "       [2.35343087, 2.55799723],\n",
       "       [0.56236279, 2.88695012],\n",
       "       [1.05737011, 1.61931519],\n",
       "       [2.83234652, 0.83449726],\n",
       "       [1.38589541, 1.17369598],\n",
       "       [1.28527836, 1.90491146],\n",
       "       [1.33633696, 3.01174153],\n",
       "       [1.50035173, 3.24871356],\n",
       "       [2.29206126, 4.03827667],\n",
       "       [2.84499919, 1.96265721],\n",
       "       [2.63238245, 3.04834099],\n",
       "       [2.40440591, 2.01453118],\n",
       "       [1.87866031, 1.46926062],\n",
       "       [1.45439445, 4.7210461 ],\n",
       "       [0.30937042, 0.04846942],\n",
       "       [2.64365656, 1.6750422 ],\n",
       "       [1.32440552, 2.66676965],\n",
       "       [2.04249921, 1.0981524 ],\n",
       "       [1.45141165, 1.07609675],\n",
       "       [1.53170889, 0.98323205],\n",
       "       [2.31038629, 2.07184771],\n",
       "       [1.05188933, 3.72162698],\n",
       "       [0.72927203, 0.60191087],\n",
       "       [1.71600723, 2.71211546],\n",
       "       [2.00175213, 1.26173025],\n",
       "       [1.95105099, 2.54007619],\n",
       "       [1.38828903, 4.13023629],\n",
       "       [2.21453011, 1.57704509],\n",
       "       [3.01093782, 1.26848698],\n",
       "       [1.93634629, 0.05046298],\n",
       "       [0.90688017, 2.43410658],\n",
       "       [1.1460764 , 2.2803966 ],\n",
       "       [0.85114735, 0.30757689],\n",
       "       [2.39007662, 2.11408046],\n",
       "       [3.65936134, 2.64729877],\n",
       "       [2.3377793 , 2.39778157],\n",
       "       [2.08893778, 0.59468562],\n",
       "       [2.47034313, 1.82323689],\n",
       "       [2.28519181, 4.1986753 ],\n",
       "       [1.16977128, 2.3620651 ],\n",
       "       [1.54298428, 2.84370347],\n",
       "       [1.76741578, 1.56163526],\n",
       "       [0.60899777, 2.74034442],\n",
       "       [1.10747903, 2.44765366],\n",
       "       [1.17545036, 2.31415734],\n",
       "       [2.38424856, 1.92795142],\n",
       "       [2.42931014, 0.93193462],\n",
       "       [2.95819183, 3.52810349],\n",
       "       [2.07076385, 1.61997951],\n",
       "       [2.12863815, 1.57233123],\n",
       "       [2.30119424, 1.8972058 ],\n",
       "       [2.34553978, 2.50987948],\n",
       "       [2.09747835, 3.28489615],\n",
       "       [1.10498762, 1.78093729],\n",
       "       [0.6571128 , 1.99130467],\n",
       "       [1.50731843, 2.39796129],\n",
       "       [1.92003163, 2.69796908],\n",
       "       [2.15998686, 0.8369011 ],\n",
       "       [1.53564357, 1.16818299],\n",
       "       [0.55678484, 1.81522936],\n",
       "       [1.74375714, 2.7164929 ],\n",
       "       [0.4344435 , 1.10322357],\n",
       "       [3.0062302 , 2.22276751],\n",
       "       [2.46540025, 1.24552179],\n",
       "       [2.78310126, 2.86708545],\n",
       "       [2.23355725, 0.80179902],\n",
       "       [1.41906417, 2.11877806],\n",
       "       [3.66028654, 1.92692694],\n",
       "       [2.10222099, 1.47365257],\n",
       "       [0.68855289, 2.476714  ],\n",
       "       [2.20834748, 1.3920514 ],\n",
       "       [2.37251761, 3.40787151],\n",
       "       [1.31447924, 1.4439727 ],\n",
       "       [2.00184631, 0.84149929],\n",
       "       [1.01463725, 3.73277188],\n",
       "       [0.69260234, 3.38261267],\n",
       "       [1.97409235, 3.84316034],\n",
       "       [1.27779841, 1.28738024],\n",
       "       [0.02460813, 2.41318188],\n",
       "       [2.66364653, 2.55431958],\n",
       "       [1.37981513, 1.9525593 ],\n",
       "       [3.20742124, 1.81202363],\n",
       "       [2.81778173, 1.2677194 ],\n",
       "       [1.78518343, 2.62006379],\n",
       "       [3.1009333 , 1.09955418]])"
      ]
     },
     "execution_count": 93,
     "metadata": {},
     "output_type": "execute_result"
    }
   ],
   "source": [
    "# Dataset 3\n",
    "mean = 2\n",
    "std_dev = 1\n",
    "A = np.random.normal(mean, std_dev, (100, 2))\n",
    "A"
   ]
  },
  {
   "cell_type": "code",
   "execution_count": 94,
   "metadata": {},
   "outputs": [
    {
     "data": {
      "image/png": "[encoded data removed]",
      "text/plain": [
       "<Figure size 720x432 with 1 Axes>"
      ]
     },
     "metadata": {
      "needs_background": "light"
     },
     "output_type": "display_data"
    },
    {
     "name": "stdout",
     "output_type": "stream",
     "text": [
      "MSE of dataset 3: 0.9840378255932797\n"
     ]
    }
   ],
   "source": [
    "# Split the data: The first column is for features, the second column is for labels\n",
    "X = A[:, 0]\n",
    "y = A[:, 1]\n",
    "\n",
    "# Train the model using the matrix A\n",
    "beta_0, beta_1 = learn_simple_linreg(X, y)\n",
    "\n",
    "# Predict\n",
    "y_pred = predict_simple_linreg(X, beta_0, beta_1)\n",
    "\n",
    "plot_results(X, y, y_pred, 'Simple Linear Regression: Training Points and Prediction Line')\n",
    "\n",
    "# Add precision metric to show things about the variance\n",
    "mse = calculate_mse(y, y_pred)\n",
    "print(\"MSE of dataset 3:\", mse)"
   ]
  },
  {
   "cell_type": "code",
   "execution_count": 95,
   "metadata": {},
   "outputs": [
    {
     "data": {
      "image/png": "[encoded data removed]",
      "text/plain": [
       "<Figure size 720x432 with 1 Axes>"
      ]
     },
     "metadata": {
      "needs_background": "light"
     },
     "output_type": "display_data"
    },
    {
     "name": "stdout",
     "output_type": "stream",
     "text": [
      "MSE of dataset 3 (beta_0 = 0): 4.87734302403764\n"
     ]
    }
   ],
   "source": [
    "# Set beta_0 = 0\n",
    "beta_0, beta_1 = learn_simple_linreg(X, y, beta0_eq_0=True)\n",
    "\n",
    "# Predict\n",
    "y_pred = predict_simple_linreg(X, beta_0, beta_1)\n",
    "\n",
    "plot_results(X, y, y_pred, 'Simple Linear Regression (beta_0 = 0): Training Points and Prediction Line')\n",
    "\n",
    "mse = calculate_mse(y, y_pred)\n",
    "print(\"MSE of dataset 3 (beta_0 = 0):\", mse)"
   ]
  },
  {
   "cell_type": "code",
   "execution_count": 96,
   "metadata": {},
   "outputs": [
    {
     "data": {
      "image/png": "[encoded data removed]",
      "text/plain": [
       "<Figure size 720x432 with 1 Axes>"
      ]
     },
     "metadata": {
      "needs_background": "light"
     },
     "output_type": "display_data"
    },
    {
     "name": "stdout",
     "output_type": "stream",
     "text": [
      "MSE of dataset 3 (beta_1 = 0): 0.9861773450971917\n"
     ]
    }
   ],
   "source": [
    "# Set beta_1 = 0\n",
    "\n",
    "beta_0, beta_1 = learn_simple_linreg(X, y, beta1_eq_0=True)\n",
    "\n",
    "# Predict\n",
    "y_pred = predict_simple_linreg(X, beta_0, beta_1)\n",
    "\n",
    "plot_results(X, y, y_pred, 'Simple Linear Regression (beta_1 = 0): Training Points and Prediction Line')\n",
    "\n",
    "mse = calculate_mse(y, y_pred)\n",
    "print(\"MSE of dataset 3 (beta_1 = 0):\", mse)"
   ]
  },
  {
   "cell_type": "markdown",
   "metadata": {},
   "source": [
    "Use np.linalg.lstsq to learn the parameters $\\beta_0$ and $\\beta_1$. Compare the results with \"Learn Simple Linear Regression\""
   ]
  },
  {
   "cell_type": "code",
   "execution_count": 97,
   "metadata": {},
   "outputs": [],
   "source": [
    "\"\"\"Link: https://numpy.org/doc/2.0/reference/generated/numpy.linalg.lstsq.html\"\"\"\n",
    "def learn_linreg_lstsq(X, y):\n",
    "    # Add a column of ones to X for the intercept term (beta_0)\n",
    "    X_b = np.c_[np.ones((X.shape[0], 1)), X]\n",
    "\n",
    "    # Use np.linalg.lstsq to solve for beta_0 and beta_1\n",
    "    betas, residuals, rank, singular_values = np.linalg.lstsq(X_b, y, rcond=None)\n",
    "\n",
    "    return betas[0], betas[1] "
   ]
  },
  {
   "cell_type": "code",
   "execution_count": 98,
   "metadata": {},
   "outputs": [
    {
     "data": {
      "image/png": "[encoded data removed]",
      "text/plain": [
       "<Figure size 720x432 with 1 Axes>"
      ]
     },
     "metadata": {
      "needs_background": "light"
     },
     "output_type": "display_data"
    },
    {
     "name": "stdout",
     "output_type": "stream",
     "text": [
      "MSE of dataset 3 (lstsq): 0.9840378255932795\n"
     ]
    }
   ],
   "source": [
    "# Predict and plot\n",
    "# Only for dataset 3, because the results and the conclusions for the other two are similar\n",
    "\n",
    "beta_0, beta_1 = learn_linreg_lstsq(X, y)\n",
    "\n",
    "y_pred = predict_simple_linreg(X, beta_0, beta_1)\n",
    "\n",
    "plot_results(X, y, y_pred, 'Linear Regression using lstsq: Training Points and Prediction Line')\n",
    "\n",
    "mse = calculate_mse(y, y_pred)\n",
    "print(\"MSE of dataset 3 (lstsq):\", mse)"
   ]
  },
  {
   "cell_type": "markdown",
   "metadata": {},
   "source": [
    "Use sklearn.linear model.LinearRegression to learn the parameters beta_0 and beta_1. Compare the results with \"Learn Simple Linear Regression\""
   ]
  },
  {
   "cell_type": "code",
   "execution_count": 99,
   "metadata": {},
   "outputs": [],
   "source": [
    "\"\"\"Link: https://scikit-learn.org/1.5/modules/generated/sklearn.linear_model.LinearRegression.html\"\"\"\n",
    "from sklearn.linear_model import LinearRegression\n",
    "\n",
    "def learn_linreg(X, y):\n",
    "    X = X.reshape(-1, 1)  # Reshape for sklearn\n",
    "\n",
    "    model = LinearRegression()\n",
    "\n",
    "    model.fit(X, y)\n",
    "\n",
    "    beta_0 = model.intercept_  \n",
    "    beta_1 = model.coef_[0]   \n",
    "\n",
    "    return beta_0, beta_1"
   ]
  },
  {
   "cell_type": "code",
   "execution_count": 100,
   "metadata": {},
   "outputs": [
    {
     "data": {
      "image/png": "[encoded data removed]",
      "text/plain": [
       "<Figure size 720x432 with 1 Axes>"
      ]
     },
     "metadata": {
      "needs_background": "light"
     },
     "output_type": "display_data"
    },
    {
     "name": "stdout",
     "output_type": "stream",
     "text": [
      "MSE of dataset 3 (LinReg): 0.9840378255932795\n"
     ]
    }
   ],
   "source": [
    "# Predict and plot \n",
    "# Only for dataset 3, because the result for the other two are similar\n",
    "beta_0, beta_1 = learn_linreg(X, y)\n",
    "\n",
    "y_pred = predict_simple_linreg(X, beta_0, beta_1)\n",
    "\n",
    "plot_results(X, y, y_pred, 'Linear Regression: Training Points and Prediction Line')\n",
    "\n",
    "mse = calculate_mse(y, y_pred)\n",
    "print(\"MSE of dataset 3 (LinReg):\", mse)"
   ]
  },
  {
   "cell_type": "markdown",
   "metadata": {},
   "source": [
    "#### **Analysis of how the variance effects the results**\n",
    "\n",
    "In general, variance ($\\sigma^2$) affects the spread of the datapoints around the mean value. When the variance is low, the data points are tightly clustered around the mean. The points are close to the actual linear trend, and the linear regression line fits the data more accurately because the spread is minimal, leading to smaller residuals. When the variance is high, the data points are more spread out around the mean value, and there is more noise. The predictions become less accurate because the model tries to fit a line, but the residuals are larger.\n",
    "\n",
    "The consequences of high and low variance can also be observed in our data. Visually, we can see that each plot has a different scale, and the scale increases with the variance. When the scale increases, the residuals also become larger. The implemented metric, MSE (Mean Squared Error), confirms our visual observations, as it increases with the variance. \n"
   ]
  },
  {
   "cell_type": "markdown",
   "metadata": {},
   "source": [
    "#### **Analysis of how $\\beta_0$ = 0 and $\\beta_1$ = 0 effects the results**\n",
    "\n",
    "In our case, $\\beta_0$ is the intercept, and $\\beta_1$ is the slope. If we set $\\beta_1$ $=$ 0 and keep only $\\beta_0$, the linear fit becomes a constant line (a horizontal line) equal to $\\bar{y}$. We use data with normal distribution and using the mean value gives us a good result, but if we use it with data with strongly increasing or strongly decreasing trend (which usually is the case), this won't give us a good solution, because it won't capture the correlation between feature and target (i.e. the $x_i$ is not considred at all for the predictions). \n",
    "\n",
    "When $\\beta_0$ $=$ 0 (and $\\beta_1$ $\\neq$ 0), the slope allows the model to capture the dependencies between features and targets, as it takes into account each sample individually. However, we observe that the predicted line is far from the datapoints (see visualization). This is because the predictions aren't shifted by the constant value $\\beta_0$, which is necessary to properly align the relationship between $x_i$ and $y_i$.\n",
    "\n",
    "We observe that the variance plays the same role here as described above. For the three datasets, we set the value of $\\beta_0$ = 0 and then assign different variance for each dataset. We see that the higher the variance, the greater the MSE. The same applies for $\\beta_1$ = 0."
   ]
  },
  {
   "cell_type": "markdown",
   "metadata": {},
   "source": [
    "#### **Analysis of the relations between the models: Simple Linear Regression, Linear Regression and lstsq**\n",
    "\n",
    "All in all, the three models are solving the exact same problem and are equivalent; that's why we obtain the same result for MSE (Mean Squared Error). The *numpy.linalg.lstsq* function solves the *Least Squares* problem ($min_{\\beta} SSE$, where $SSE = \\sum_{i=1}^{N} (y_i - f(\\bold{x_i},\\beta))^2 $), which is the same problem that *Linear Regression* addresses. The values we have for $\\beta_0$ and $\\beta_1$ in *Simple Linear Regression* are solutions to the *Least Squares* problem for one-dimensional setting (i.e one feature). Expressed mathematically below: \n",
    "$$min_{\\beta} SSE = min_{\\beta} \\sum_{i=1}^{N} (y_i - (\\beta_0 + \\beta_1 x_i))^2$$\n",
    "\n",
    "\n",
    "\n",
    "\n",
    "\n"
   ]
  }
 ],
 "metadata": {
  "kernelspec": {
   "display_name": "Python 3",
   "language": "python",
   "name": "python3"
  },
  "language_info": {
   "codemirror_mode": {
    "name": "ipython",
    "version": 3
   },
   "file_extension": ".py",
   "mimetype": "text/x-python",
   "name": "python",
   "nbconvert_exporter": "python",
   "pygments_lexer": "ipython3",
   "version": "3.6.9"
  }
 },
 "nbformat": 4,
 "nbformat_minor": 2
}
