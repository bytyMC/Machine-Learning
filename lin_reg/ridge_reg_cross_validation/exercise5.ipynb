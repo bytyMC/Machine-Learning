{
 "cells": [
  {
   "cell_type": "markdown",
   "metadata": {},
   "source": [
    "Everything in this notebook is my work for the fifth exercise of the AML course."
   ]
  },
  {
   "cell_type": "code",
   "execution_count": 184,
   "metadata": {},
   "outputs": [],
   "source": [
    "import numpy as np\n",
    "import matplotlib.pyplot as plt\n",
    "import pandas as pd"
   ]
  },
  {
   "cell_type": "markdown",
   "metadata": {},
   "source": [
    "Bank Marketing Dataset"
   ]
  },
  {
   "cell_type": "markdown",
   "metadata": {},
   "source": [
    "(1) Load the data"
   ]
  },
  {
   "cell_type": "code",
   "execution_count": 185,
   "metadata": {},
   "outputs": [
    {
     "data": {
      "text/html": [
       "<div>\n",
       "<style scoped>\n",
       "    .dataframe tbody tr th:only-of-type {\n",
       "        vertical-align: middle;\n",
       "    }\n",
       "\n",
       "    .dataframe tbody tr th {\n",
       "        vertical-align: top;\n",
       "    }\n",
       "\n",
       "    .dataframe thead th {\n",
       "        text-align: right;\n",
       "    }\n",
       "</style>\n",
       "<table border=\"1\" class=\"dataframe\">\n",
       "  <thead>\n",
       "    <tr style=\"text-align: right;\">\n",
       "      <th></th>\n",
       "      <th>age</th>\n",
       "      <th>job</th>\n",
       "      <th>marital</th>\n",
       "      <th>education</th>\n",
       "      <th>default</th>\n",
       "      <th>balance</th>\n",
       "      <th>housing</th>\n",
       "      <th>loan</th>\n",
       "      <th>contact</th>\n",
       "      <th>day</th>\n",
       "      <th>month</th>\n",
       "      <th>duration</th>\n",
       "      <th>campaign</th>\n",
       "      <th>pdays</th>\n",
       "      <th>previous</th>\n",
       "      <th>poutcome</th>\n",
       "      <th>y</th>\n",
       "    </tr>\n",
       "  </thead>\n",
       "  <tbody>\n",
       "    <tr>\n",
       "      <th>0</th>\n",
       "      <td>30</td>\n",
       "      <td>unemployed</td>\n",
       "      <td>married</td>\n",
       "      <td>primary</td>\n",
       "      <td>no</td>\n",
       "      <td>1787</td>\n",
       "      <td>no</td>\n",
       "      <td>no</td>\n",
       "      <td>cellular</td>\n",
       "      <td>19</td>\n",
       "      <td>oct</td>\n",
       "      <td>79</td>\n",
       "      <td>1</td>\n",
       "      <td>-1</td>\n",
       "      <td>0</td>\n",
       "      <td>unknown</td>\n",
       "      <td>no</td>\n",
       "    </tr>\n",
       "    <tr>\n",
       "      <th>1</th>\n",
       "      <td>33</td>\n",
       "      <td>services</td>\n",
       "      <td>married</td>\n",
       "      <td>secondary</td>\n",
       "      <td>no</td>\n",
       "      <td>4789</td>\n",
       "      <td>yes</td>\n",
       "      <td>yes</td>\n",
       "      <td>cellular</td>\n",
       "      <td>11</td>\n",
       "      <td>may</td>\n",
       "      <td>220</td>\n",
       "      <td>1</td>\n",
       "      <td>339</td>\n",
       "      <td>4</td>\n",
       "      <td>failure</td>\n",
       "      <td>no</td>\n",
       "    </tr>\n",
       "    <tr>\n",
       "      <th>2</th>\n",
       "      <td>35</td>\n",
       "      <td>management</td>\n",
       "      <td>single</td>\n",
       "      <td>tertiary</td>\n",
       "      <td>no</td>\n",
       "      <td>1350</td>\n",
       "      <td>yes</td>\n",
       "      <td>no</td>\n",
       "      <td>cellular</td>\n",
       "      <td>16</td>\n",
       "      <td>apr</td>\n",
       "      <td>185</td>\n",
       "      <td>1</td>\n",
       "      <td>330</td>\n",
       "      <td>1</td>\n",
       "      <td>failure</td>\n",
       "      <td>no</td>\n",
       "    </tr>\n",
       "    <tr>\n",
       "      <th>3</th>\n",
       "      <td>30</td>\n",
       "      <td>management</td>\n",
       "      <td>married</td>\n",
       "      <td>tertiary</td>\n",
       "      <td>no</td>\n",
       "      <td>1476</td>\n",
       "      <td>yes</td>\n",
       "      <td>yes</td>\n",
       "      <td>unknown</td>\n",
       "      <td>3</td>\n",
       "      <td>jun</td>\n",
       "      <td>199</td>\n",
       "      <td>4</td>\n",
       "      <td>-1</td>\n",
       "      <td>0</td>\n",
       "      <td>unknown</td>\n",
       "      <td>no</td>\n",
       "    </tr>\n",
       "    <tr>\n",
       "      <th>4</th>\n",
       "      <td>59</td>\n",
       "      <td>blue-collar</td>\n",
       "      <td>married</td>\n",
       "      <td>secondary</td>\n",
       "      <td>no</td>\n",
       "      <td>0</td>\n",
       "      <td>yes</td>\n",
       "      <td>no</td>\n",
       "      <td>unknown</td>\n",
       "      <td>5</td>\n",
       "      <td>may</td>\n",
       "      <td>226</td>\n",
       "      <td>1</td>\n",
       "      <td>-1</td>\n",
       "      <td>0</td>\n",
       "      <td>unknown</td>\n",
       "      <td>no</td>\n",
       "    </tr>\n",
       "  </tbody>\n",
       "</table>\n",
       "</div>"
      ],
      "text/plain": [
       "   age          job  marital  education default  balance housing loan  \\\n",
       "0   30   unemployed  married    primary      no     1787      no   no   \n",
       "1   33     services  married  secondary      no     4789     yes  yes   \n",
       "2   35   management   single   tertiary      no     1350     yes   no   \n",
       "3   30   management  married   tertiary      no     1476     yes  yes   \n",
       "4   59  blue-collar  married  secondary      no        0     yes   no   \n",
       "\n",
       "    contact  day month  duration  campaign  pdays  previous poutcome   y  \n",
       "0  cellular   19   oct        79         1     -1         0  unknown  no  \n",
       "1  cellular   11   may       220         1    339         4  failure  no  \n",
       "2  cellular   16   apr       185         1    330         1  failure  no  \n",
       "3   unknown    3   jun       199         4     -1         0  unknown  no  \n",
       "4   unknown    5   may       226         1     -1         0  unknown  no  "
      ]
     },
     "execution_count": 185,
     "metadata": {},
     "output_type": "execute_result"
    }
   ],
   "source": [
    "bank_data = pd.read_csv(\"bank/bank.csv\", delimiter=\";\")\n",
    "bank_data.head()"
   ]
  },
  {
   "cell_type": "markdown",
   "metadata": {},
   "source": [
    "(2) Convert non-numeric values to numeric"
   ]
  },
  {
   "cell_type": "code",
   "execution_count": 186,
   "metadata": {},
   "outputs": [
    {
     "data": {
      "text/plain": [
       "age           int64\n",
       "job          object\n",
       "marital      object\n",
       "education    object\n",
       "default      object\n",
       "balance       int64\n",
       "housing      object\n",
       "loan         object\n",
       "contact      object\n",
       "day           int64\n",
       "month        object\n",
       "duration      int64\n",
       "campaign      int64\n",
       "pdays         int64\n",
       "previous      int64\n",
       "poutcome     object\n",
       "y            object\n",
       "dtype: object"
      ]
     },
     "execution_count": 186,
     "metadata": {},
     "output_type": "execute_result"
    }
   ],
   "source": [
    "bank_data.dtypes"
   ]
  },
  {
   "cell_type": "markdown",
   "metadata": {},
   "source": [
    "Some of the columns contain non-numeric values that should be transformed"
   ]
  },
  {
   "cell_type": "code",
   "execution_count": 187,
   "metadata": {},
   "outputs": [
    {
     "name": "stdout",
     "output_type": "stream",
     "text": [
      "Number of unique jobs: 12\n"
     ]
    }
   ],
   "source": [
    "unique_jobs = bank_data['job'].unique()\n",
    "print(\"Number of unique jobs:\", len(unique_jobs))"
   ]
  },
  {
   "cell_type": "markdown",
   "metadata": {},
   "source": [
    "Since most of the elements in the columns aren't unique, I decided just to encode them and not to produce unnecessary overhead by adding one-hot encoding.\n",
    "\n",
    "The column \"pdays\" contains values that may cause problems (i.e. the value -1). I create a new column named \"previously_contacted\" and replace the -1 values with zero, so we can still distinguish, which people were contacted and also have no negative values."
   ]
  },
  {
   "cell_type": "code",
   "execution_count": 188,
   "metadata": {},
   "outputs": [
    {
     "data": {
      "text/html": [
       "<div>\n",
       "<style scoped>\n",
       "    .dataframe tbody tr th:only-of-type {\n",
       "        vertical-align: middle;\n",
       "    }\n",
       "\n",
       "    .dataframe tbody tr th {\n",
       "        vertical-align: top;\n",
       "    }\n",
       "\n",
       "    .dataframe thead th {\n",
       "        text-align: right;\n",
       "    }\n",
       "</style>\n",
       "<table border=\"1\" class=\"dataframe\">\n",
       "  <thead>\n",
       "    <tr style=\"text-align: right;\">\n",
       "      <th></th>\n",
       "      <th>age</th>\n",
       "      <th>job</th>\n",
       "      <th>marital</th>\n",
       "      <th>education</th>\n",
       "      <th>default</th>\n",
       "      <th>balance</th>\n",
       "      <th>housing</th>\n",
       "      <th>loan</th>\n",
       "      <th>contact</th>\n",
       "      <th>day</th>\n",
       "      <th>month</th>\n",
       "      <th>duration</th>\n",
       "      <th>campaign</th>\n",
       "      <th>pdays</th>\n",
       "      <th>previous</th>\n",
       "      <th>poutcome</th>\n",
       "      <th>y</th>\n",
       "      <th>previously_contacted</th>\n",
       "    </tr>\n",
       "  </thead>\n",
       "  <tbody>\n",
       "    <tr>\n",
       "      <th>0</th>\n",
       "      <td>30</td>\n",
       "      <td>10</td>\n",
       "      <td>1</td>\n",
       "      <td>0</td>\n",
       "      <td>0</td>\n",
       "      <td>1787</td>\n",
       "      <td>0</td>\n",
       "      <td>0</td>\n",
       "      <td>0</td>\n",
       "      <td>19</td>\n",
       "      <td>10</td>\n",
       "      <td>79</td>\n",
       "      <td>1</td>\n",
       "      <td>0</td>\n",
       "      <td>0</td>\n",
       "      <td>3</td>\n",
       "      <td>0</td>\n",
       "      <td>0</td>\n",
       "    </tr>\n",
       "    <tr>\n",
       "      <th>1</th>\n",
       "      <td>33</td>\n",
       "      <td>7</td>\n",
       "      <td>1</td>\n",
       "      <td>1</td>\n",
       "      <td>0</td>\n",
       "      <td>4789</td>\n",
       "      <td>1</td>\n",
       "      <td>1</td>\n",
       "      <td>0</td>\n",
       "      <td>11</td>\n",
       "      <td>8</td>\n",
       "      <td>220</td>\n",
       "      <td>1</td>\n",
       "      <td>339</td>\n",
       "      <td>4</td>\n",
       "      <td>0</td>\n",
       "      <td>0</td>\n",
       "      <td>1</td>\n",
       "    </tr>\n",
       "    <tr>\n",
       "      <th>2</th>\n",
       "      <td>35</td>\n",
       "      <td>4</td>\n",
       "      <td>2</td>\n",
       "      <td>2</td>\n",
       "      <td>0</td>\n",
       "      <td>1350</td>\n",
       "      <td>1</td>\n",
       "      <td>0</td>\n",
       "      <td>0</td>\n",
       "      <td>16</td>\n",
       "      <td>0</td>\n",
       "      <td>185</td>\n",
       "      <td>1</td>\n",
       "      <td>330</td>\n",
       "      <td>1</td>\n",
       "      <td>0</td>\n",
       "      <td>0</td>\n",
       "      <td>1</td>\n",
       "    </tr>\n",
       "    <tr>\n",
       "      <th>3</th>\n",
       "      <td>30</td>\n",
       "      <td>4</td>\n",
       "      <td>1</td>\n",
       "      <td>2</td>\n",
       "      <td>0</td>\n",
       "      <td>1476</td>\n",
       "      <td>1</td>\n",
       "      <td>1</td>\n",
       "      <td>2</td>\n",
       "      <td>3</td>\n",
       "      <td>6</td>\n",
       "      <td>199</td>\n",
       "      <td>4</td>\n",
       "      <td>0</td>\n",
       "      <td>0</td>\n",
       "      <td>3</td>\n",
       "      <td>0</td>\n",
       "      <td>0</td>\n",
       "    </tr>\n",
       "    <tr>\n",
       "      <th>4</th>\n",
       "      <td>59</td>\n",
       "      <td>1</td>\n",
       "      <td>1</td>\n",
       "      <td>1</td>\n",
       "      <td>0</td>\n",
       "      <td>0</td>\n",
       "      <td>1</td>\n",
       "      <td>0</td>\n",
       "      <td>2</td>\n",
       "      <td>5</td>\n",
       "      <td>8</td>\n",
       "      <td>226</td>\n",
       "      <td>1</td>\n",
       "      <td>0</td>\n",
       "      <td>0</td>\n",
       "      <td>3</td>\n",
       "      <td>0</td>\n",
       "      <td>0</td>\n",
       "    </tr>\n",
       "  </tbody>\n",
       "</table>\n",
       "</div>"
      ],
      "text/plain": [
       "   age  job  marital  education  default  balance  housing  loan  contact  \\\n",
       "0   30   10        1          0        0     1787        0     0        0   \n",
       "1   33    7        1          1        0     4789        1     1        0   \n",
       "2   35    4        2          2        0     1350        1     0        0   \n",
       "3   30    4        1          2        0     1476        1     1        2   \n",
       "4   59    1        1          1        0        0        1     0        2   \n",
       "\n",
       "   day  month  duration  campaign  pdays  previous  poutcome  y  \\\n",
       "0   19     10        79         1      0         0         3  0   \n",
       "1   11      8       220         1    339         4         0  0   \n",
       "2   16      0       185         1    330         1         0  0   \n",
       "3    3      6       199         4      0         0         3  0   \n",
       "4    5      8       226         1      0         0         3  0   \n",
       "\n",
       "   previously_contacted  \n",
       "0                     0  \n",
       "1                     1  \n",
       "2                     1  \n",
       "3                     0  \n",
       "4                     0  "
      ]
     },
     "execution_count": 188,
     "metadata": {},
     "output_type": "execute_result"
    }
   ],
   "source": [
    "categorical_features = ['job', 'marital', 'education', 'default', 'housing', 'loan', 'contact', 'month', 'poutcome', 'y']\n",
    "\n",
    "for feature in categorical_features:\n",
    "    bank_data[feature] = pd.Categorical(bank_data[feature]).codes\n",
    "\n",
    "bank_data['previously_contacted'] = np.where(bank_data['pdays'] != -1, 1, 0)\n",
    "\n",
    "bank_data['pdays'] = bank_data['pdays'].replace(-1, 0)\n",
    "\n",
    "bank_data.head()"
   ]
  },
  {
   "cell_type": "markdown",
   "metadata": {},
   "source": [
    "(3) Remove null / NaN values"
   ]
  },
  {
   "cell_type": "code",
   "execution_count": 189,
   "metadata": {},
   "outputs": [
    {
     "data": {
      "text/plain": [
       "age                     0\n",
       "job                     0\n",
       "marital                 0\n",
       "education               0\n",
       "default                 0\n",
       "balance                 0\n",
       "housing                 0\n",
       "loan                    0\n",
       "contact                 0\n",
       "day                     0\n",
       "month                   0\n",
       "duration                0\n",
       "campaign                0\n",
       "pdays                   0\n",
       "previous                0\n",
       "poutcome                0\n",
       "y                       0\n",
       "previously_contacted    0\n",
       "dtype: int64"
      ]
     },
     "execution_count": 189,
     "metadata": {},
     "output_type": "execute_result"
    }
   ],
   "source": [
    "bank_data.isnull().sum()"
   ]
  },
  {
   "cell_type": "markdown",
   "metadata": {},
   "source": [
    "No column contains missing values, so we have nothing to remove."
   ]
  },
  {
   "cell_type": "markdown",
   "metadata": {},
   "source": [
    "(4) Split the data, standartize the data and add bias "
   ]
  },
  {
   "cell_type": "code",
   "execution_count": 190,
   "metadata": {},
   "outputs": [],
   "source": [
    "np.random.seed(1337)\n",
    "\n",
    "def split_data(Xdata, Ydata, train_percent):\n",
    "    split_index = int(train_percent * len(Xdata))\n",
    "\n",
    "    indices = np.arange(len(Xdata))\n",
    "    np.random.shuffle(indices)\n",
    "\n",
    "    train_indices = indices[:split_index]\n",
    "    test_indices = indices[split_index:]\n",
    "\n",
    "    Xtrain = Xdata.iloc[train_indices].reset_index(drop=True)\n",
    "    Ytrain = Ydata.iloc[train_indices].reset_index(drop=True)\n",
    "    Xtest = Xdata.iloc[test_indices].reset_index(drop=True)\n",
    "    Ytest = Ydata.iloc[test_indices].reset_index(drop=True)\n",
    "    \n",
    "    return Xtrain, Ytrain, Xtest, Ytest\n",
    "\n",
    "# mean and standard deviation are parameters that are learned from the training set\n",
    "def standardize_data(X_train, X_test):\n",
    "    mean = np.mean(X_train, axis=0)\n",
    "    std = np.std(X_train, axis=0)\n",
    "    X_train_standardized = (X_train - mean) / std\n",
    "    X_test_standardized = (X_test - mean) / std\n",
    "    return X_train_standardized, X_test_standardized\n",
    "\n",
    "bank_Xdata = bank_data.drop(['y'], axis=1)\n",
    "bank_Ydata = bank_data['y']\n",
    "\n",
    "bank_Xtrain, bank_Ytrain, bank_Xtest, bank_Ytest = split_data(bank_Xdata, bank_Ydata, 0.8)\n",
    "\n",
    "bank_Xtrain, bank_Xtest = standardize_data(bank_Xtrain, bank_Xtest)\n",
    "\n",
    "bank_Ytrain = bank_Ytrain.values\n",
    "bank_Ytest = bank_Ytest.values\n",
    "\n",
    "N = bank_Xtrain.shape[0]\n",
    "bank_Xtrain = np.c_[np.ones(N), bank_Xtrain]\n",
    "N = bank_Xtest.shape[0]\n",
    "bank_Xtest = np.c_[np.ones(N), bank_Xtest]"
   ]
  },
  {
   "cell_type": "markdown",
   "metadata": {},
   "source": [
    "Wine quality dataset"
   ]
  },
  {
   "cell_type": "code",
   "execution_count": 191,
   "metadata": {},
   "outputs": [
    {
     "data": {
      "text/html": [
       "<div>\n",
       "<style scoped>\n",
       "    .dataframe tbody tr th:only-of-type {\n",
       "        vertical-align: middle;\n",
       "    }\n",
       "\n",
       "    .dataframe tbody tr th {\n",
       "        vertical-align: top;\n",
       "    }\n",
       "\n",
       "    .dataframe thead th {\n",
       "        text-align: right;\n",
       "    }\n",
       "</style>\n",
       "<table border=\"1\" class=\"dataframe\">\n",
       "  <thead>\n",
       "    <tr style=\"text-align: right;\">\n",
       "      <th></th>\n",
       "      <th>fixed acidity</th>\n",
       "      <th>volatile acidity</th>\n",
       "      <th>citric acid</th>\n",
       "      <th>residual sugar</th>\n",
       "      <th>chlorides</th>\n",
       "      <th>free sulfur dioxide</th>\n",
       "      <th>total sulfur dioxide</th>\n",
       "      <th>density</th>\n",
       "      <th>pH</th>\n",
       "      <th>sulphates</th>\n",
       "      <th>alcohol</th>\n",
       "      <th>quality</th>\n",
       "    </tr>\n",
       "  </thead>\n",
       "  <tbody>\n",
       "    <tr>\n",
       "      <th>0</th>\n",
       "      <td>7.4</td>\n",
       "      <td>0.70</td>\n",
       "      <td>0.00</td>\n",
       "      <td>1.9</td>\n",
       "      <td>0.076</td>\n",
       "      <td>11.0</td>\n",
       "      <td>34.0</td>\n",
       "      <td>0.9978</td>\n",
       "      <td>3.51</td>\n",
       "      <td>0.56</td>\n",
       "      <td>9.4</td>\n",
       "      <td>5</td>\n",
       "    </tr>\n",
       "    <tr>\n",
       "      <th>1</th>\n",
       "      <td>7.8</td>\n",
       "      <td>0.88</td>\n",
       "      <td>0.00</td>\n",
       "      <td>2.6</td>\n",
       "      <td>0.098</td>\n",
       "      <td>25.0</td>\n",
       "      <td>67.0</td>\n",
       "      <td>0.9968</td>\n",
       "      <td>3.20</td>\n",
       "      <td>0.68</td>\n",
       "      <td>9.8</td>\n",
       "      <td>5</td>\n",
       "    </tr>\n",
       "    <tr>\n",
       "      <th>2</th>\n",
       "      <td>7.8</td>\n",
       "      <td>0.76</td>\n",
       "      <td>0.04</td>\n",
       "      <td>2.3</td>\n",
       "      <td>0.092</td>\n",
       "      <td>15.0</td>\n",
       "      <td>54.0</td>\n",
       "      <td>0.9970</td>\n",
       "      <td>3.26</td>\n",
       "      <td>0.65</td>\n",
       "      <td>9.8</td>\n",
       "      <td>5</td>\n",
       "    </tr>\n",
       "    <tr>\n",
       "      <th>3</th>\n",
       "      <td>11.2</td>\n",
       "      <td>0.28</td>\n",
       "      <td>0.56</td>\n",
       "      <td>1.9</td>\n",
       "      <td>0.075</td>\n",
       "      <td>17.0</td>\n",
       "      <td>60.0</td>\n",
       "      <td>0.9980</td>\n",
       "      <td>3.16</td>\n",
       "      <td>0.58</td>\n",
       "      <td>9.8</td>\n",
       "      <td>6</td>\n",
       "    </tr>\n",
       "    <tr>\n",
       "      <th>4</th>\n",
       "      <td>7.4</td>\n",
       "      <td>0.70</td>\n",
       "      <td>0.00</td>\n",
       "      <td>1.9</td>\n",
       "      <td>0.076</td>\n",
       "      <td>11.0</td>\n",
       "      <td>34.0</td>\n",
       "      <td>0.9978</td>\n",
       "      <td>3.51</td>\n",
       "      <td>0.56</td>\n",
       "      <td>9.4</td>\n",
       "      <td>5</td>\n",
       "    </tr>\n",
       "  </tbody>\n",
       "</table>\n",
       "</div>"
      ],
      "text/plain": [
       "   fixed acidity  volatile acidity  citric acid  residual sugar  chlorides  \\\n",
       "0            7.4              0.70         0.00             1.9      0.076   \n",
       "1            7.8              0.88         0.00             2.6      0.098   \n",
       "2            7.8              0.76         0.04             2.3      0.092   \n",
       "3           11.2              0.28         0.56             1.9      0.075   \n",
       "4            7.4              0.70         0.00             1.9      0.076   \n",
       "\n",
       "   free sulfur dioxide  total sulfur dioxide  density    pH  sulphates  \\\n",
       "0                 11.0                  34.0   0.9978  3.51       0.56   \n",
       "1                 25.0                  67.0   0.9968  3.20       0.68   \n",
       "2                 15.0                  54.0   0.9970  3.26       0.65   \n",
       "3                 17.0                  60.0   0.9980  3.16       0.58   \n",
       "4                 11.0                  34.0   0.9978  3.51       0.56   \n",
       "\n",
       "   alcohol  quality  \n",
       "0      9.4        5  \n",
       "1      9.8        5  \n",
       "2      9.8        5  \n",
       "3      9.8        6  \n",
       "4      9.4        5  "
      ]
     },
     "execution_count": 191,
     "metadata": {},
     "output_type": "execute_result"
    }
   ],
   "source": [
    "red_wine_data = pd.read_csv(\"wine_quality_data/winequality-red.csv\", sep=';')\n",
    "red_wine_data.head()"
   ]
  },
  {
   "cell_type": "markdown",
   "metadata": {},
   "source": [
    "(1) Convert the non-numeric values to numeric"
   ]
  },
  {
   "cell_type": "code",
   "execution_count": 192,
   "metadata": {},
   "outputs": [
    {
     "data": {
      "text/plain": [
       "fixed acidity           float64\n",
       "volatile acidity        float64\n",
       "citric acid             float64\n",
       "residual sugar          float64\n",
       "chlorides               float64\n",
       "free sulfur dioxide     float64\n",
       "total sulfur dioxide    float64\n",
       "density                 float64\n",
       "pH                      float64\n",
       "sulphates               float64\n",
       "alcohol                 float64\n",
       "quality                   int64\n",
       "dtype: object"
      ]
     },
     "execution_count": 192,
     "metadata": {},
     "output_type": "execute_result"
    }
   ],
   "source": [
    "red_wine_data.dtypes"
   ]
  },
  {
   "cell_type": "markdown",
   "metadata": {},
   "source": [
    "After checking if there are any non-numeric values, we can conclude that we don't have and we don't have anything to transform."
   ]
  },
  {
   "cell_type": "markdown",
   "metadata": {},
   "source": [
    "(2) Handle sparse data / missing values"
   ]
  },
  {
   "cell_type": "code",
   "execution_count": 193,
   "metadata": {},
   "outputs": [
    {
     "data": {
      "text/plain": [
       "fixed acidity           0\n",
       "volatile acidity        0\n",
       "citric acid             0\n",
       "residual sugar          0\n",
       "chlorides               0\n",
       "free sulfur dioxide     0\n",
       "total sulfur dioxide    0\n",
       "density                 0\n",
       "pH                      0\n",
       "sulphates               0\n",
       "alcohol                 0\n",
       "quality                 0\n",
       "dtype: int64"
      ]
     },
     "execution_count": 193,
     "metadata": {},
     "output_type": "execute_result"
    }
   ],
   "source": [
    "red_wine_data.isnull().sum()"
   ]
  },
  {
   "cell_type": "markdown",
   "metadata": {},
   "source": [
    "The red wine dataset has no missing data. We don't have to handle anything."
   ]
  },
  {
   "cell_type": "markdown",
   "metadata": {},
   "source": [
    "(3) Split the data, normalize and add bias"
   ]
  },
  {
   "cell_type": "code",
   "execution_count": null,
   "metadata": {},
   "outputs": [],
   "source": [
    "red_wine_Xdata = red_wine_data.drop(columns=['quality'])\n",
    "red_wine_Ydata = red_wine_data['quality']\n",
    "\n",
    "red_wine_Xtrain, red_wine_Ytrain, red_wine_Xtest, red_wine_Ytest = split_data(red_wine_Xdata, red_wine_Ydata, 0.8)\n",
    "\n",
    "red_wine_Xtrain, red_wine_Xtest = standardize_data(red_wine_Xtrain, red_wine_Xtest)\n",
    "\n",
    "N = red_wine_Xtrain.shape[0]\n",
    "red_wine_Xtrain = np.c_[np.ones(N), red_wine_Xtrain]\n",
    "N = red_wine_Xtest.shape[0]\n",
    "red_wine_Xtest = np.c_[np.ones(N), red_wine_Xtest]\n",
    "\n",
    "red_wine_Ytrain = red_wine_Ytrain.values\n",
    "red_wine_Ytest = red_wine_Ytest.values"
   ]
  },
  {
   "cell_type": "markdown",
   "metadata": {},
   "source": [
    "# Implementation of the Mini-batch Linear Ridge Regression"
   ]
  },
  {
   "cell_type": "markdown",
   "metadata": {},
   "source": [
    "Here, I use the precomputed gradient descent because of the performance. I normalize it by the size of the batch, because of the numerical properties it has. It stablizes the magnitude of the gradients and makes the solution less sensitive to the value of the learning rate.\n",
    "\n",
    "Here is the cost function of the Ridge Linear Regression:\n",
    "\n",
    "$$E(\\mathbf{w}) = \\frac{1}{2m} \\sum_{i=1}^m(\\hat{y}_{i} - \\bold{x}_{i}\\bold{w})^2 + \\frac{\\lambda}{2} ||\\bold{w}||^2$$\n",
    "\n",
    "Here is it's first derivative:\n",
    "\n",
    "$$\n",
    "\\frac{\\partial E(\\mathbf{w})}{\\partial \\mathbf{w}} = -\\frac{1}{m} \\sum_{i=1}^m \\left( \\hat{y}_{i} - \\mathbf{x}_{i} \\mathbf{w} \\right) \\mathbf{x}_{i} + \\lambda \\mathbf{w}\n",
    "$$\n",
    "\n",
    "or also:\n",
    "\n",
    "$$\n",
    "\\frac{\\partial E(\\mathbf{w})}{\\partial \\mathbf{w}} = \\frac{1}{m} \\mathbf{X}^\\top (\\mathbf{X} \\mathbf{w} - \\mathbf{\\hat{y}}) + \\lambda \\mathbf{w}\n",
    "$$\n",
    "\n",
    "\n",
    "For logistic ridge regression the first derivative is very similar. The difference is that the target is either 0 or 1 and the prediction is made through $\\sigma(\\bold{X}\\bold{w})$.\n"
   ]
  },
  {
   "cell_type": "code",
   "execution_count": 195,
   "metadata": {},
   "outputs": [
    {
     "name": "stdout",
     "output_type": "stream",
     "text": [
      "RMSE:  0.6785235482839505\n"
     ]
    },
    {
     "data": {
      "image/png": "[encoded data removed]",
      "text/plain": [
       "<Figure size 720x360 with 1 Axes>"
      ]
     },
     "metadata": {
      "needs_background": "light"
     },
     "output_type": "display_data"
    },
    {
     "name": "stdout",
     "output_type": "stream",
     "text": [
      "RMSE:  0.8555376040714784\n"
     ]
    },
    {
     "data": {
      "image/png": "[encoded data removed]",
      "text/plain": [
       "<Figure size 720x360 with 1 Axes>"
      ]
     },
     "metadata": {
      "needs_background": "light"
     },
     "output_type": "display_data"
    },
    {
     "name": "stdout",
     "output_type": "stream",
     "text": [
      "RMSE:  2.911283158367461\n"
     ]
    },
    {
     "data": {
      "image/png": "[encoded data removed]",
      "text/plain": [
       "<Figure size 720x360 with 1 Axes>"
      ]
     },
     "metadata": {
      "needs_background": "light"
     },
     "output_type": "display_data"
    },
    {
     "name": "stdout",
     "output_type": "stream",
     "text": [
      "RMSE:  0.6749617379662656\n"
     ]
    },
    {
     "data": {
      "image/png": "[encoded data removed]",
      "text/plain": [
       "<Figure size 720x360 with 1 Axes>"
      ]
     },
     "metadata": {
      "needs_background": "light"
     },
     "output_type": "display_data"
    },
    {
     "name": "stdout",
     "output_type": "stream",
     "text": [
      "RMSE:  0.8448017583810418\n"
     ]
    },
    {
     "data": {
      "image/png": "[encoded data removed]",
      "text/plain": [
       "<Figure size 720x360 with 1 Axes>"
      ]
     },
     "metadata": {
      "needs_background": "light"
     },
     "output_type": "display_data"
    },
    {
     "name": "stdout",
     "output_type": "stream",
     "text": [
      "RMSE:  2.914454709097331\n"
     ]
    },
    {
     "data": {
      "image/png": "[encoded data removed]",
      "text/plain": [
       "<Figure size 720x360 with 1 Axes>"
      ]
     },
     "metadata": {
      "needs_background": "light"
     },
     "output_type": "display_data"
    },
    {
     "name": "stdout",
     "output_type": "stream",
     "text": [
      "RMSE:  0.6790700119864146\n"
     ]
    },
    {
     "data": {
      "image/png": "[encoded data removed]",
      "text/plain": [
       "<Figure size 720x360 with 1 Axes>"
      ]
     },
     "metadata": {
      "needs_background": "light"
     },
     "output_type": "display_data"
    },
    {
     "name": "stdout",
     "output_type": "stream",
     "text": [
      "RMSE:  0.8531366492061943\n"
     ]
    },
    {
     "data": {
      "image/png": "[encoded data removed]",
      "text/plain": [
       "<Figure size 720x360 with 1 Axes>"
      ]
     },
     "metadata": {
      "needs_background": "light"
     },
     "output_type": "display_data"
    },
    {
     "name": "stdout",
     "output_type": "stream",
     "text": [
      "RMSE:  2.9969939853693917\n"
     ]
    },
    {
     "data": {
      "image/png": "[encoded data removed]",
      "text/plain": [
       "<Figure size 720x360 with 1 Axes>"
      ]
     },
     "metadata": {
      "needs_background": "light"
     },
     "output_type": "display_data"
    }
   ],
   "source": [
    "from scipy.special import expit as sigmoid\n",
    "\n",
    "def predict(X, weights):\n",
    "    return X @ weights\n",
    "\n",
    "def compute_rmse(y_true, y_pred):\n",
    "    error = y_true - y_pred\n",
    "    return np.sqrt(np.mean(error ** 2))\n",
    "\n",
    "def mini_batch_ridge_regression(X_train, y_train, X_test, y_test, alpha, lambda_val, batch_size, epochs):\n",
    "    n_samples, n_features = X_train.shape\n",
    "    weights = np.zeros(n_features)\n",
    "    rmse_train = []\n",
    "    rmse_test = []\n",
    "\n",
    "    for epoch in range(epochs):\n",
    "        indices = np.random.permutation(n_samples)\n",
    "        X_shuffled = X_train[indices]\n",
    "        y_shuffled = y_train[indices]\n",
    "        \n",
    "        for i in range(0, n_samples, batch_size):\n",
    "            X_batch = X_shuffled[i:i+batch_size]\n",
    "            y_batch = y_shuffled[i:i+batch_size]\n",
    "\n",
    "            y_pred = predict(X_batch, weights)\n",
    "            error = y_pred - y_batch\n",
    "            gradient = X_batch.T.dot(error) / batch_size + lambda_val * weights\n",
    "            \n",
    "            weights -= alpha * gradient\n",
    "\n",
    "        rmse_train.append(compute_rmse(y_train, predict(X_train, weights)))\n",
    "        rmse_test.append(compute_rmse(y_test, predict(X_test, weights)))\n",
    "        \n",
    "    return weights, rmse_train, rmse_test\n",
    "\n",
    "alpha_values = [0.001, 0.01, 0.1]    \n",
    "lambda_values = [0.01, 0.1, 1.0]   \n",
    "batch_size = 50\n",
    "epochs = 200\n",
    "\n",
    "for alpha in alpha_values:\n",
    "    for lambda_val in lambda_values:\n",
    "        weights, rmse_train, rmse_test = mini_batch_ridge_regression(\n",
    "            red_wine_Xtrain, red_wine_Ytrain, red_wine_Xtest, red_wine_Ytest, alpha, lambda_val, batch_size, epochs\n",
    "        )\n",
    "        print(\"RMSE: \",rmse_test[-1])\n",
    "        plt.figure(figsize=(10, 5))\n",
    "        plt.plot(range(epochs), rmse_train, label='RMSE Train')\n",
    "        plt.plot(range(epochs), [-x for x in rmse_test], label='RMSE Test', color='orange')\n",
    "        plt.axhline(0, color='black', lw=0.5)\n",
    "        plt.xlabel('Epochs')\n",
    "        plt.ylabel('RMSE (Train on positive, Test on negative)')\n",
    "        plt.title(f'Alpha: {alpha}, Lambda: {lambda_val}')\n",
    "        plt.legend()\n",
    "        plt.show()"
   ]
  },
  {
   "cell_type": "code",
   "execution_count": 196,
   "metadata": {},
   "outputs": [
    {
     "ename": "KeyboardInterrupt",
     "evalue": "",
     "output_type": "error",
     "traceback": [
      "\u001b[0;31m---------------------------------------------------------------------------\u001b[0m",
      "\u001b[0;31mKeyboardInterrupt\u001b[0m                         Traceback (most recent call last)",
      "\u001b[0;32m<ipython-input-196-eb5e52fa12ae>\u001b[0m in \u001b[0;36m<module>\u001b[0;34m\u001b[0m\n\u001b[1;32m     41\u001b[0m     \u001b[0;32mfor\u001b[0m \u001b[0mlambda_val\u001b[0m \u001b[0;32min\u001b[0m \u001b[0mlambda_values\u001b[0m\u001b[0;34m:\u001b[0m\u001b[0;34m\u001b[0m\u001b[0;34m\u001b[0m\u001b[0m\n\u001b[1;32m     42\u001b[0m         weights, cross_entropy_train, cross_entropy_test = mini_batch_logistic_regression(\n\u001b[0;32m---> 43\u001b[0;31m           \u001b[0mbank_Xtrain\u001b[0m\u001b[0;34m,\u001b[0m \u001b[0mbank_Ytrain\u001b[0m\u001b[0;34m,\u001b[0m \u001b[0mbank_Xtest\u001b[0m\u001b[0;34m,\u001b[0m \u001b[0mbank_Ytest\u001b[0m\u001b[0;34m,\u001b[0m \u001b[0malpha\u001b[0m\u001b[0;34m,\u001b[0m \u001b[0mlambda_val\u001b[0m\u001b[0;34m,\u001b[0m \u001b[0mbatch_size\u001b[0m\u001b[0;34m,\u001b[0m \u001b[0mepochs\u001b[0m\u001b[0;34m\u001b[0m\u001b[0;34m\u001b[0m\u001b[0m\n\u001b[0m\u001b[1;32m     44\u001b[0m         )\n\u001b[1;32m     45\u001b[0m         \u001b[0mprint\u001b[0m\u001b[0;34m(\u001b[0m\u001b[0;34m\"Cross-Entropy Loss (Test):\"\u001b[0m\u001b[0;34m,\u001b[0m \u001b[0mcross_entropy_test\u001b[0m\u001b[0;34m[\u001b[0m\u001b[0;34m-\u001b[0m\u001b[0;36m1\u001b[0m\u001b[0;34m]\u001b[0m\u001b[0;34m)\u001b[0m\u001b[0;34m\u001b[0m\u001b[0;34m\u001b[0m\u001b[0m\n",
      "\u001b[0;32m<ipython-input-196-eb5e52fa12ae>\u001b[0m in \u001b[0;36mmini_batch_logistic_regression\u001b[0;34m(X_train, y_train, X_test, y_test, alpha, lambda_val, batch_size, epochs)\u001b[0m\n\u001b[1;32m     22\u001b[0m             \u001b[0my_batch\u001b[0m \u001b[0;34m=\u001b[0m \u001b[0my_shuffled\u001b[0m\u001b[0;34m[\u001b[0m\u001b[0mi\u001b[0m\u001b[0;34m:\u001b[0m\u001b[0mi\u001b[0m\u001b[0;34m+\u001b[0m\u001b[0mbatch_size\u001b[0m\u001b[0;34m]\u001b[0m\u001b[0;34m\u001b[0m\u001b[0;34m\u001b[0m\u001b[0m\n\u001b[1;32m     23\u001b[0m \u001b[0;34m\u001b[0m\u001b[0m\n\u001b[0;32m---> 24\u001b[0;31m             \u001b[0my_pred\u001b[0m \u001b[0;34m=\u001b[0m \u001b[0mpredict_class\u001b[0m\u001b[0;34m(\u001b[0m\u001b[0mX_batch\u001b[0m\u001b[0;34m,\u001b[0m \u001b[0mweights\u001b[0m\u001b[0;34m)\u001b[0m\u001b[0;34m\u001b[0m\u001b[0;34m\u001b[0m\u001b[0m\n\u001b[0m\u001b[1;32m     25\u001b[0m             \u001b[0merror\u001b[0m \u001b[0;34m=\u001b[0m \u001b[0my_pred\u001b[0m \u001b[0;34m-\u001b[0m \u001b[0my_batch\u001b[0m\u001b[0;34m\u001b[0m\u001b[0;34m\u001b[0m\u001b[0m\n\u001b[1;32m     26\u001b[0m             \u001b[0mgradient\u001b[0m \u001b[0;34m=\u001b[0m \u001b[0mX_batch\u001b[0m\u001b[0;34m.\u001b[0m\u001b[0mT\u001b[0m\u001b[0;34m.\u001b[0m\u001b[0mdot\u001b[0m\u001b[0;34m(\u001b[0m\u001b[0merror\u001b[0m\u001b[0;34m)\u001b[0m \u001b[0;34m/\u001b[0m \u001b[0mbatch_size\u001b[0m \u001b[0;34m+\u001b[0m \u001b[0mlambda_val\u001b[0m \u001b[0;34m*\u001b[0m \u001b[0mweights\u001b[0m\u001b[0;34m\u001b[0m\u001b[0;34m\u001b[0m\u001b[0m\n",
      "\u001b[0;32m<ipython-input-196-eb5e52fa12ae>\u001b[0m in \u001b[0;36mpredict_class\u001b[0;34m(X, weights)\u001b[0m\n\u001b[1;32m      1\u001b[0m \u001b[0;32mdef\u001b[0m \u001b[0mpredict_class\u001b[0m\u001b[0;34m(\u001b[0m\u001b[0mX\u001b[0m\u001b[0;34m,\u001b[0m \u001b[0mweights\u001b[0m\u001b[0;34m)\u001b[0m\u001b[0;34m:\u001b[0m\u001b[0;34m\u001b[0m\u001b[0;34m\u001b[0m\u001b[0m\n\u001b[0;32m----> 2\u001b[0;31m     \u001b[0;32mreturn\u001b[0m \u001b[0msigmoid\u001b[0m\u001b[0;34m(\u001b[0m\u001b[0mX\u001b[0m \u001b[0;34m@\u001b[0m \u001b[0mweights\u001b[0m\u001b[0;34m)\u001b[0m\u001b[0;34m\u001b[0m\u001b[0;34m\u001b[0m\u001b[0m\n\u001b[0m\u001b[1;32m      3\u001b[0m \u001b[0;34m\u001b[0m\u001b[0m\n\u001b[1;32m      4\u001b[0m \u001b[0;32mdef\u001b[0m \u001b[0mcompute_cross_entropy\u001b[0m\u001b[0;34m(\u001b[0m\u001b[0my_true\u001b[0m\u001b[0;34m,\u001b[0m \u001b[0my_pred\u001b[0m\u001b[0;34m)\u001b[0m\u001b[0;34m:\u001b[0m\u001b[0;34m\u001b[0m\u001b[0;34m\u001b[0m\u001b[0m\n\u001b[1;32m      5\u001b[0m     \u001b[0mepsilon\u001b[0m \u001b[0;34m=\u001b[0m \u001b[0;36m1e-10\u001b[0m\u001b[0;34m\u001b[0m\u001b[0;34m\u001b[0m\u001b[0m\n",
      "\u001b[0;31mKeyboardInterrupt\u001b[0m: "
     ]
    }
   ],
   "source": [
    "def predict_class(X, weights):\n",
    "    return sigmoid(X @ weights)\n",
    "\n",
    "def compute_cross_entropy(y_true, y_pred):\n",
    "    epsilon = 1e-10 \n",
    "    y_pred = np.clip(y_pred, epsilon, 1 - epsilon)\n",
    "    return -np.mean(y_true * np.log(y_pred) + (1 - y_true) * np.log(1 - y_pred))\n",
    "\n",
    "def mini_batch_logistic_regression(X_train, y_train, X_test, y_test, alpha, lambda_val, batch_size, epochs):\n",
    "    n_samples, n_features = X_train.shape\n",
    "    weights = np.zeros(n_features)\n",
    "    cross_entropy_train = []\n",
    "    cross_entropy_test = []\n",
    "\n",
    "    for epoch in range(epochs):\n",
    "        indices = np.random.permutation(n_samples)\n",
    "        X_shuffled = X_train[indices]\n",
    "        y_shuffled = y_train[indices]\n",
    "\n",
    "        for i in range(0, n_samples, batch_size):\n",
    "            X_batch = X_shuffled[i:i+batch_size]\n",
    "            y_batch = y_shuffled[i:i+batch_size]\n",
    "\n",
    "            y_pred = predict_class(X_batch, weights)\n",
    "            error = y_pred - y_batch\n",
    "            gradient = X_batch.T.dot(error) / batch_size + lambda_val * weights\n",
    "\n",
    "            weights -= alpha * gradient\n",
    "\n",
    "        cross_entropy_train.append(compute_cross_entropy(y_train, predict_class(X_train, weights)))\n",
    "        cross_entropy_test.append(compute_cross_entropy(y_test, predict_class(X_test, weights)))\n",
    "\n",
    "    return weights, cross_entropy_train, cross_entropy_test\n",
    "\n",
    "alpha_values = [0.001, 0.01, 0.1]\n",
    "lambda_values = [0.01, 0.1, 1.0]\n",
    "batch_size = 50\n",
    "epochs = 300\n",
    "\n",
    "for alpha in alpha_values:\n",
    "    for lambda_val in lambda_values:\n",
    "        weights, cross_entropy_train, cross_entropy_test = mini_batch_logistic_regression(\n",
    "          bank_Xtrain, bank_Ytrain, bank_Xtest, bank_Ytest, alpha, lambda_val, batch_size, epochs\n",
    "        )\n",
    "        print(\"Cross-Entropy Loss (Test):\", cross_entropy_test[-1])\n",
    "      \n",
    "        plt.figure(figsize=(10, 5))\n",
    "        plt.plot(range(epochs), cross_entropy_train, label='Cross-Entropy Train')\n",
    "        plt.plot(range(epochs), [-x for x in cross_entropy_test], label='Cross-Entropy Test', color='orange')\n",
    "        plt.axhline(0, color='black', lw=0.5)\n",
    "        plt.xlabel('Epochs')\n",
    "        plt.ylabel('Cross-Entropy Loss (Train on positive, Test on negative)')\n",
    "        plt.title(f'Alpha: {alpha}, Lambda: {lambda_val}')\n",
    "        plt.legend()\n",
    "        plt.show()"
   ]
  },
  {
   "cell_type": "markdown",
   "metadata": {},
   "source": [
    "#### **Analysis of the results**\n",
    "\n",
    "I tried different epoch sizes and found that convergence is reached after 200-300 epochs. Adding L2 regularization specifies how much the size of the weights matters, which helps prevent overfitting. The plots above illustrate how different values of $\\alpha$ and $\\lambda$ interact. A higher $\\lambda$ means that the size of the weights matters more. It in combination with the squared values of the weights makes a boundary the loss function is trying to pass through, but it can't due to the regularization. The highest $\\alpha$ values (e.g., 0.1) also introduce instability, causing oscillations around the minimum. If I hadn’t divided the gradient by the batch size, this instability would have been much more significant (we see that the last two plots for the two models aren't very smooth) and would likely have led to divergence.\n",
    "\n",
    "The mini-batch gradient descent used above shows it benefits. It combines both batch gradient descent and stochastic gradient descent (SGD). It produces solution that returns relatively constant values (as we can see the plots are a lot smoother than just using SGD like in the last exercise) and can work with large datasets efficiently. \n",
    "\n",
    "I decided to plot Cross-Entropy Loss of the Logistic Ridge Regression, because RMSE isn't very appropriate.\n",
    "\n"
   ]
  },
  {
   "cell_type": "markdown",
   "metadata": {},
   "source": [
    "# Hyperparameter tuning using K-Fold-Cross-Validation and Grid Search"
   ]
  },
  {
   "cell_type": "code",
   "execution_count": null,
   "metadata": {},
   "outputs": [
    {
     "name": "stdout",
     "output_type": "stream",
     "text": [
      "All alpha values: [0.001      0.0016681  0.00278256 0.00464159 0.00774264 0.0129155\n",
      " 0.02154435 0.03593814 0.05994843 0.1       ]\n",
      "All lambda values: [0.01       0.01668101 0.02782559 0.04641589 0.07742637 0.12915497\n",
      " 0.21544347 0.35938137 0.59948425 1.        ]\n"
     ]
    },
    {
     "ename": "KeyboardInterrupt",
     "evalue": "",
     "output_type": "error",
     "traceback": [
      "\u001b[0;31m---------------------------------------------------------------------------\u001b[0m",
      "\u001b[0;31mKeyboardInterrupt\u001b[0m                         Traceback (most recent call last)",
      "\u001b[0;32m<ipython-input-65-6f2d87c60f45>\u001b[0m in \u001b[0;36m<module>\u001b[0;34m\u001b[0m\n\u001b[1;32m     44\u001b[0m \u001b[0mepochs\u001b[0m \u001b[0;34m=\u001b[0m \u001b[0;36m200\u001b[0m\u001b[0;34m\u001b[0m\u001b[0;34m\u001b[0m\u001b[0m\n\u001b[1;32m     45\u001b[0m \u001b[0;34m\u001b[0m\u001b[0m\n\u001b[0;32m---> 46\u001b[0;31m \u001b[0mresults\u001b[0m \u001b[0;34m=\u001b[0m \u001b[0mgrid_search_ridge_cv\u001b[0m\u001b[0;34m(\u001b[0m\u001b[0mred_wine_Xtrain\u001b[0m\u001b[0;34m,\u001b[0m \u001b[0mred_wine_Ytrain\u001b[0m\u001b[0;34m,\u001b[0m \u001b[0malpha_values\u001b[0m\u001b[0;34m,\u001b[0m \u001b[0mlambda_values\u001b[0m\u001b[0;34m,\u001b[0m \u001b[0mbatch_size\u001b[0m\u001b[0;34m,\u001b[0m \u001b[0mepochs\u001b[0m\u001b[0;34m)\u001b[0m\u001b[0;34m\u001b[0m\u001b[0;34m\u001b[0m\u001b[0m\n\u001b[0m\u001b[1;32m     47\u001b[0m \u001b[0;34m\u001b[0m\u001b[0m\n\u001b[1;32m     48\u001b[0m \u001b[0mbest_alpha\u001b[0m\u001b[0;34m,\u001b[0m \u001b[0mbest_lambda\u001b[0m\u001b[0;34m,\u001b[0m \u001b[0mbest_rmse\u001b[0m \u001b[0;34m=\u001b[0m \u001b[0mmin\u001b[0m\u001b[0;34m(\u001b[0m\u001b[0mresults\u001b[0m\u001b[0;34m,\u001b[0m \u001b[0mkey\u001b[0m\u001b[0;34m=\u001b[0m\u001b[0;32mlambda\u001b[0m \u001b[0mx\u001b[0m\u001b[0;34m:\u001b[0m \u001b[0mx\u001b[0m\u001b[0;34m[\u001b[0m\u001b[0;36m2\u001b[0m\u001b[0;34m]\u001b[0m\u001b[0;34m)\u001b[0m\u001b[0;34m\u001b[0m\u001b[0;34m\u001b[0m\u001b[0m\n",
      "\u001b[0;32m<ipython-input-65-6f2d87c60f45>\u001b[0m in \u001b[0;36mgrid_search_ridge_cv\u001b[0;34m(X, y, alpha_values, lambda_values, batch_size, epochs, k)\u001b[0m\n\u001b[1;32m     25\u001b[0m             \u001b[0;32mfor\u001b[0m \u001b[0mX_train\u001b[0m\u001b[0;34m,\u001b[0m \u001b[0my_train\u001b[0m\u001b[0;34m,\u001b[0m \u001b[0mX_val\u001b[0m\u001b[0;34m,\u001b[0m \u001b[0my_val\u001b[0m \u001b[0;32min\u001b[0m \u001b[0mfolds\u001b[0m\u001b[0;34m:\u001b[0m\u001b[0;34m\u001b[0m\u001b[0;34m\u001b[0m\u001b[0m\n\u001b[1;32m     26\u001b[0m                 _, rmse_train, rmse_val = mini_batch_ridge_regression(\n\u001b[0;32m---> 27\u001b[0;31m                      \u001b[0mX_train\u001b[0m\u001b[0;34m,\u001b[0m \u001b[0my_train\u001b[0m\u001b[0;34m,\u001b[0m \u001b[0mX_val\u001b[0m\u001b[0;34m,\u001b[0m \u001b[0my_val\u001b[0m\u001b[0;34m,\u001b[0m \u001b[0malpha\u001b[0m\u001b[0;34m,\u001b[0m \u001b[0mlambda_val\u001b[0m\u001b[0;34m,\u001b[0m \u001b[0mbatch_size\u001b[0m\u001b[0;34m,\u001b[0m \u001b[0mepochs\u001b[0m\u001b[0;34m\u001b[0m\u001b[0;34m\u001b[0m\u001b[0m\n\u001b[0m\u001b[1;32m     28\u001b[0m                 )\n\u001b[1;32m     29\u001b[0m                 \u001b[0mrmse_scores\u001b[0m\u001b[0;34m.\u001b[0m\u001b[0mappend\u001b[0m\u001b[0;34m(\u001b[0m\u001b[0mrmse_val\u001b[0m\u001b[0;34m[\u001b[0m\u001b[0;34m-\u001b[0m\u001b[0;36m1\u001b[0m\u001b[0;34m]\u001b[0m\u001b[0;34m)\u001b[0m\u001b[0;34m\u001b[0m\u001b[0;34m\u001b[0m\u001b[0m\n",
      "\u001b[0;32m<ipython-input-63-d17aa3f9fc0c>\u001b[0m in \u001b[0;36mmini_batch_ridge_regression\u001b[0;34m(X_train, y_train, X_test, y_test, alpha, lambda_val, batch_size, epochs)\u001b[0m\n\u001b[1;32m     29\u001b[0m             \u001b[0mweights\u001b[0m \u001b[0;34m-=\u001b[0m \u001b[0malpha\u001b[0m \u001b[0;34m*\u001b[0m \u001b[0mgradient\u001b[0m\u001b[0;34m\u001b[0m\u001b[0;34m\u001b[0m\u001b[0m\n\u001b[1;32m     30\u001b[0m \u001b[0;34m\u001b[0m\u001b[0m\n\u001b[0;32m---> 31\u001b[0;31m         \u001b[0mrmse_train\u001b[0m\u001b[0;34m.\u001b[0m\u001b[0mappend\u001b[0m\u001b[0;34m(\u001b[0m\u001b[0mcompute_rmse\u001b[0m\u001b[0;34m(\u001b[0m\u001b[0my_train\u001b[0m\u001b[0;34m,\u001b[0m \u001b[0mpredict\u001b[0m\u001b[0;34m(\u001b[0m\u001b[0mX_train\u001b[0m\u001b[0;34m,\u001b[0m \u001b[0mweights\u001b[0m\u001b[0;34m)\u001b[0m\u001b[0;34m)\u001b[0m\u001b[0;34m)\u001b[0m\u001b[0;34m\u001b[0m\u001b[0;34m\u001b[0m\u001b[0m\n\u001b[0m\u001b[1;32m     32\u001b[0m         \u001b[0mrmse_test\u001b[0m\u001b[0;34m.\u001b[0m\u001b[0mappend\u001b[0m\u001b[0;34m(\u001b[0m\u001b[0mcompute_rmse\u001b[0m\u001b[0;34m(\u001b[0m\u001b[0my_test\u001b[0m\u001b[0;34m,\u001b[0m \u001b[0mpredict\u001b[0m\u001b[0;34m(\u001b[0m\u001b[0mX_test\u001b[0m\u001b[0;34m,\u001b[0m \u001b[0mweights\u001b[0m\u001b[0;34m)\u001b[0m\u001b[0;34m)\u001b[0m\u001b[0;34m)\u001b[0m\u001b[0;34m\u001b[0m\u001b[0;34m\u001b[0m\u001b[0m\n\u001b[1;32m     33\u001b[0m \u001b[0;34m\u001b[0m\u001b[0m\n",
      "\u001b[0;32m<ipython-input-63-d17aa3f9fc0c>\u001b[0m in \u001b[0;36mpredict\u001b[0;34m(X, weights)\u001b[0m\n\u001b[1;32m      2\u001b[0m \u001b[0;34m\u001b[0m\u001b[0m\n\u001b[1;32m      3\u001b[0m \u001b[0;32mdef\u001b[0m \u001b[0mpredict\u001b[0m\u001b[0;34m(\u001b[0m\u001b[0mX\u001b[0m\u001b[0;34m,\u001b[0m \u001b[0mweights\u001b[0m\u001b[0;34m)\u001b[0m\u001b[0;34m:\u001b[0m\u001b[0;34m\u001b[0m\u001b[0;34m\u001b[0m\u001b[0m\n\u001b[0;32m----> 4\u001b[0;31m     \u001b[0;32mreturn\u001b[0m \u001b[0mX\u001b[0m \u001b[0;34m@\u001b[0m \u001b[0mweights\u001b[0m\u001b[0;34m\u001b[0m\u001b[0;34m\u001b[0m\u001b[0m\n\u001b[0m\u001b[1;32m      5\u001b[0m \u001b[0;34m\u001b[0m\u001b[0m\n\u001b[1;32m      6\u001b[0m \u001b[0;32mdef\u001b[0m \u001b[0mcompute_rmse\u001b[0m\u001b[0;34m(\u001b[0m\u001b[0my_true\u001b[0m\u001b[0;34m,\u001b[0m \u001b[0my_pred\u001b[0m\u001b[0;34m)\u001b[0m\u001b[0;34m:\u001b[0m\u001b[0;34m\u001b[0m\u001b[0;34m\u001b[0m\u001b[0m\n",
      "\u001b[0;31mKeyboardInterrupt\u001b[0m: "
     ]
    }
   ],
   "source": [
    "def manual_k_fold_cross_validation(X, y, k):\n",
    "    n_samples = len(y)\n",
    "    fold_size = n_samples // k\n",
    "    folds = []\n",
    "\n",
    "    for i in range(k):\n",
    "        val_start = i * fold_size\n",
    "        val_end = val_start + fold_size if i < k - 1 else n_samples\n",
    "        X_val, y_val = X[val_start:val_end], y[val_start:val_end]\n",
    "        X_train = np.vstack((X[:val_start], X[val_end:])) # Should be matrix\n",
    "        y_train = np.concatenate((y[:val_start], y[val_end:])) # Should be vector\n",
    "        folds.append((X_train, y_train, X_val, y_val))\n",
    "\n",
    "    return folds\n",
    "\n",
    "def grid_search_ridge_cv(X, y, alpha_values, lambda_values, batch_size, epochs, k=5):\n",
    "    results = []\n",
    "\n",
    "    folds = manual_k_fold_cross_validation(X, y, k)\n",
    "\n",
    "    for alpha in alpha_values:\n",
    "        for lambda_val in lambda_values:\n",
    "            rmse_scores = []\n",
    "\n",
    "            for X_train, y_train, X_val, y_val in folds:\n",
    "                _, rmse_train, rmse_val = mini_batch_ridge_regression(\n",
    "                     X_train, y_train, X_val, y_val, alpha, lambda_val, batch_size, epochs\n",
    "                )\n",
    "                rmse_scores.append(rmse_val[-1])\n",
    "                \n",
    "            mean_rmse = np.mean(rmse_scores)\n",
    "            results.append((alpha, lambda_val, mean_rmse))\n",
    "    return results\n",
    "\n",
    "# alpha_values = [0.001, 0.01, 0.1]\n",
    "# lambda_values = [0.01, 0.1, 1.0]\n",
    "alpha_values = np.logspace(-3, -1, num=10)\n",
    "lambda_values = np.logspace(-2, 0, num=10)\n",
    "\n",
    "print(\"All alpha values:\", alpha_values)\n",
    "print(\"All lambda values:\", lambda_values)\n",
    "\n",
    "batch_size = 50\n",
    "epochs = 200\n",
    "\n",
    "results = grid_search_ridge_cv(red_wine_Xtrain, red_wine_Ytrain, alpha_values, lambda_values, batch_size, epochs)\n",
    "\n",
    "best_alpha, best_lambda, best_rmse = min(results, key=lambda x: x[2])\n",
    "print(f\"Best alpha: {best_alpha}, Best lambda: {best_lambda}, with RMSE: {best_rmse}\")\n",
    "\n",
    "fig = plt.figure()\n",
    "ax = fig.add_subplot(111, projection='3d')\n",
    "\n",
    "alphas = [res[0] for res in results]\n",
    "lambdas = [res[1] for res in results]\n",
    "rmses = [res[2] for res in results]\n",
    "\n",
    "ax.scatter(alphas, lambdas, rmses, c=rmses, cmap='viridis')\n",
    "ax.set_xlabel('Alpha (Learning Rate)')\n",
    "ax.set_ylabel('Lambda (Regularization)')\n",
    "ax.set_zlabel('Mean RMSE from all folds')\n",
    "ax.set_title('Grid Search Results: Alpha vs Lambda vs Mean RMSE')\n",
    "plt.show()\n",
    "\n",
    "final_weights, final_rmse_train, final_rmse_test = mini_batch_ridge_regression(\n",
    "    red_wine_Xtrain, red_wine_Ytrain, red_wine_Xtest, red_wine_Ytest, best_alpha, best_lambda, batch_size, epochs\n",
    ")\n",
    "\n",
    "print(\"Final RMSE on the test set:\", final_rmse_test[-1])\n",
    "\n",
    "plt.figure(figsize=(10, 5))\n",
    "plt.plot(range(epochs), final_rmse_train, label='RMSE Train')\n",
    "plt.plot(range(epochs), [-x for x in final_rmse_test], label='RMSE Test', color='orange')\n",
    "plt.axhline(0, color='black', lw=0.5)\n",
    "plt.xlabel('Epochs')\n",
    "plt.ylabel('RMSE (Train on positive, Test on negative)')\n",
    "plt.title(f'Optimal Alpha: {best_alpha}, Optimal Lambda: {best_lambda}')\n",
    "plt.legend()\n",
    "plt.show()"
   ]
  },
  {
   "cell_type": "markdown",
   "metadata": {},
   "source": [
    "#### **Analysis of the result**\n",
    "\n",
    "Looking at the 3D plot, we can see that normalizing the gradient by dividing it through the batch size makes the solution less sensitive to the learning rate. The only strong correlation we observe is between $\\lambda$ and RMSE, where increasing $\\lambda$ (within the range of [0.01, 0.1]) results in a higher RMSE. The parameters that produce the smallest learning rate are identified, and the corresponding RMSE is achieved (as shown above). For this case, smallest $\\lambda$ means lowest RMSE. We see that the best learning rate for the Red Wine Quality dataset is between 0.01 and 0.1. This can also be observed on the plots in the first exercise. For $\\alpha$ = 0.001 the plot is smooth, but convergence is reached in more epochs. For $\\alpha$ = 0.01, we see that the plot is still smooth, yet the convergence is faster. When we increase the $\\alpha$ to 0.1, the smoothness of the plot is lost, that's why I conclude that the learning rate should be above 0.01, but less than 0.1.\n",
    "\n",
    "The plots of the first task show that for $\\alpha$ = 0.001 and $\\lambda$ = 0.1 we achieve better results than in the second task for the same parameter. This is because K-Fold Cross Validation and the Grid Search operate only on the training data and only at the end see the test data, so the decision here is fully based on the training set. \n",
    "\n",
    "**Note**: In my opinion, the Wine Quality dataset isn't good for linear regression since the target can only have 10 possible value. Better option, which would lead to more accurate result, would be Multiple Logistic Regression with 10 classes. "
   ]
  },
  {
   "cell_type": "code",
   "execution_count": 202,
   "metadata": {},
   "outputs": [
    {
     "name": "stdout",
     "output_type": "stream",
     "text": [
      "Ridge Regression Results:\n",
      "RMSE: 0.6739903392682299\n"
     ]
    }
   ],
   "source": [
    "from sklearn.linear_model import Ridge\n",
    "\n",
    "ridge_model = Ridge()\n",
    "\n",
    "ridge_model.fit(red_wine_Xtrain, red_wine_Ytrain)\n",
    "\n",
    "y_pred_ridge = ridge_model.predict(red_wine_Xtest)\n",
    "\n",
    "rmse_ridge = compute_rmse(red_wine_Ytest, y_pred_ridge)\n",
    "\n",
    "print(\"Ridge Regression Results:\")\n",
    "print(f\"RMSE: {rmse_ridge}\")"
   ]
  },
  {
   "cell_type": "markdown",
   "metadata": {},
   "source": [
    "Through the Linear Regression with Grid Search and K-Fold Cross Validation we reach a very similar RMSE to the RMSE of the *sklearn*'s class Ridge. The difference here is that *sklearn* uses closed-form solution. Gradient descent methods approximate the solution of the closed-form method."
   ]
  }
 ],
 "metadata": {
  "kernelspec": {
   "display_name": "Python 3",
   "language": "python",
   "name": "python3"
  },
  "language_info": {
   "codemirror_mode": {
    "name": "ipython",
    "version": 3
   },
   "file_extension": ".py",
   "mimetype": "text/x-python",
   "name": "python",
   "nbconvert_exporter": "python",
   "pygments_lexer": "ipython3",
   "version": "3.6.9"
  }
 },
 "nbformat": 4,
 "nbformat_minor": 2
}
