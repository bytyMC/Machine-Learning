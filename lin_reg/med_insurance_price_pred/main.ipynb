{
 "cells": [
  {
   "cell_type": "markdown",
   "metadata": {},
   "source": [
    "# Medical insurance price prediction using various regression techniques"
   ]
  },
  {
   "cell_type": "code",
   "execution_count": 22,
   "metadata": {},
   "outputs": [],
   "source": [
    "import pandas as pd\n",
    "import seaborn as sns\n",
    "import matplotlib.pyplot as plt\n",
    "from sklearn.model_selection import train_test_split, cross_val_score\n",
    "from sklearn.metrics import r2_score, mean_absolute_error, mean_squared_error\n",
    "from sklearn.linear_model import LinearRegression\n",
    "from sklearn.svm import SVR\n",
    "from sklearn.ensemble import RandomForestRegressor, GradientBoostingRegressor\n",
    "from xgboost import XGBRegressor\n",
    "from sklearn.preprocessing import StandardScaler\n",
    "from pickle import dump\n",
    "from feature_engine.outliers import ArbitraryOutlierCapper\n",
    "import numpy as np"
   ]
  },
  {
   "cell_type": "markdown",
   "metadata": {},
   "source": [
    "Define important functions: for preprocessing of the data, for evaluation and for ploting of features importance"
   ]
  },
  {
   "cell_type": "code",
   "execution_count": 23,
   "metadata": {},
   "outputs": [],
   "source": [
    "# Function to preprocess data\n",
    "def preprocess_data(data):\n",
    "    data.drop_duplicates(inplace=True)\n",
    "    \n",
    "    # Encode categorical features\n",
    "    data['sex'] = data['sex'].map({'male': 0, 'female': 1})\n",
    "    data['smoker'] = data['smoker'].map({'yes': 1, 'no': 0})\n",
    "    data['region'] = data['region'].map({'northwest': 0, 'northeast': 1, 'southeast': 2, 'southwest': 3})\n",
    "\n",
    "    # Outlier handling for 'bmi'\n",
    "    Q1, Q3 = data['bmi'].quantile([0.25, 0.75])\n",
    "    IQR = Q3 - Q1\n",
    "    low_lim, up_lim = Q1 - 1.5 * IQR, Q3 + 1.5 * IQR\n",
    "    arb = ArbitraryOutlierCapper(min_capping_dict={'bmi': low_lim}, max_capping_dict={'bmi': up_lim})\n",
    "    data[['bmi']] = arb.fit_transform(data[['bmi']])\n",
    "    return data\n",
    "\n",
    "# Function to evaluate models\n",
    "def evaluate_model(model, xtrain, xtest, ytrain, ytest, name):\n",
    "    model.fit(xtrain, ytrain)\n",
    "    ypred_train = model.predict(xtrain)\n",
    "    ypred_test = model.predict(xtest)\n",
    "    \n",
    "    # Metrics\n",
    "    metrics = {\n",
    "        \"Train R2\": r2_score(ytrain, ypred_train),\n",
    "        \"Test R2\": r2_score(ytest, ypred_test),\n",
    "        \"MAE\": mean_absolute_error(ytest, ypred_test),\n",
    "        \"RMSE\": np.sqrt(mean_squared_error(ytest, ypred_test)),\n",
    "        \"CV R2\": cross_val_score(model, X, Y, cv=5).mean()\n",
    "    }\n",
    "    print(f\"{name} Metrics:\\n\", metrics)\n",
    "    return metrics\n",
    "\n",
    "# Function to visualize feature importance\n",
    "def plot_feature_importance(model, feature_names, title):\n",
    "    if hasattr(model, 'feature_importances_'):\n",
    "        importance = model.feature_importances_\n",
    "        sns.barplot(x=importance, y=feature_names)\n",
    "        plt.title(title)\n",
    "        plt.show()"
   ]
  },
  {
   "cell_type": "code",
   "execution_count": 24,
   "metadata": {},
   "outputs": [],
   "source": [
    "# Load and preprocess data\n",
    "data = pd.read_csv(\"data/med_insurance.csv\")\n",
    "data.head()\n",
    "data = preprocess_data(data)"
   ]
  },
  {
   "cell_type": "markdown",
   "metadata": {},
   "source": [
    "Normalize and split the data"
   ]
  },
  {
   "cell_type": "code",
   "execution_count": 25,
   "metadata": {},
   "outputs": [],
   "source": [
    "# Split features and target\n",
    "X = data.drop(['charges'], axis=1)\n",
    "Y = data['charges']\n",
    "\n",
    "# Scale numerical features\n",
    "scaler = StandardScaler()\n",
    "X[['age', 'bmi', 'children']] = scaler.fit_transform(X[['age', 'bmi', 'children']])\n",
    "\n",
    "# Split dataset\n",
    "xtrain, xtest, ytrain, ytest = train_test_split(X, Y, test_size=0.2, random_state=42)"
   ]
  },
  {
   "cell_type": "markdown",
   "metadata": {},
   "source": [
    "Define the models"
   ]
  },
  {
   "cell_type": "code",
   "execution_count": 26,
   "metadata": {},
   "outputs": [],
   "source": [
    "# Models and hyperparameter grids\n",
    "models = {\n",
    "    \"Linear Regression\": LinearRegression(),\n",
    "    \"SVR\": SVR(),\n",
    "    \"Random Forest\": RandomForestRegressor(random_state=42, n_estimators=100),\n",
    "    \"Gradient Boosting\": GradientBoostingRegressor(),\n",
    "    \"XGBoost\": XGBRegressor()\n",
    "}"
   ]
  },
  {
   "cell_type": "markdown",
   "metadata": {},
   "source": [
    "Train the models and evaluate them"
   ]
  },
  {
   "cell_type": "code",
   "execution_count": 27,
   "metadata": {},
   "outputs": [
    {
     "name": "stdout",
     "output_type": "stream",
     "text": [
      "\n",
      "Linear Regression:\n",
      "Linear Regression Metrics:\n",
      " {'Train R2': 0.7295415541376445, 'Test R2': 0.8062391115570589, 'MAE': 4190.091643948692, 'RMSE': 5966.970607048556, 'CV R2': 0.7470697972809901}\n",
      "\n",
      "SVR:\n",
      "SVR Metrics:\n",
      " {'Train R2': -0.10047051880833502, 'Test R2': -0.13346366828118073, 'MAE': 9263.777136425862, 'RMSE': 14431.93758360034, 'CV R2': -0.10266187754253217}\n",
      "\n",
      "Random Forest:\n",
      "Random Forest Metrics:\n",
      " {'Train R2': 0.9740257276510202, 'Test R2': 0.880255912392719, 'MAE': 2619.215388400746, 'RMSE': 4690.810402361891, 'CV R2': 0.83707539475551}\n"
     ]
    },
    {
     "data": {
      "image/png": "[encoded data removed]",
      "text/plain": [
       "<Figure size 432x288 with 1 Axes>"
      ]
     },
     "metadata": {
      "needs_background": "light"
     },
     "output_type": "display_data"
    },
    {
     "name": "stdout",
     "output_type": "stream",
     "text": [
      "\n",
      "Gradient Boosting:\n",
      "Gradient Boosting Metrics:\n",
      " {'Train R2': 0.8931345821166041, 'Test R2': 0.9042374023218575, 'MAE': 2428.376438278739, 'RMSE': 4194.872826640492, 'CV R2': 0.8550893452847912}\n"
     ]
    },
    {
     "data": {
      "image/png": "[encoded data removed]",
      "text/plain": [
       "<Figure size 432x288 with 1 Axes>"
      ]
     },
     "metadata": {
      "needs_background": "light"
     },
     "output_type": "display_data"
    },
    {
     "name": "stdout",
     "output_type": "stream",
     "text": [
      "\n",
      "XGBoost:\n",
      "XGBoost Metrics:\n",
      " {'Train R2': 0.9944530188818493, 'Test R2': 0.8608160554081113, 'MAE': 2882.000565894779, 'RMSE': 5057.261495702978, 'CV R2': 0.811322622871731}\n"
     ]
    },
    {
     "data": {
      "image/png": "[encoded data removed]",
      "text/plain": [
       "<Figure size 432x288 with 1 Axes>"
      ]
     },
     "metadata": {
      "needs_background": "light"
     },
     "output_type": "display_data"
    },
    {
     "data": {
      "image/png": "[encoded data removed]",
      "text/plain": [
       "<Figure size 720x432 with 1 Axes>"
      ]
     },
     "metadata": {
      "needs_background": "light"
     },
     "output_type": "display_data"
    }
   ],
   "source": [
    "metrics = {}\n",
    "\n",
    "# Evaluate each model\n",
    "for name, model in models.items():\n",
    "    print(f\"\\n{name}:\")\n",
    "    metrics[name] = evaluate_model(model, xtrain, xtest, ytrain, ytest, name)\n",
    "    if name in [\"Random Forest\", \"Gradient Boosting\", \"XGBoost\"]:\n",
    "        plot_feature_importance(model, X.columns, f\"{name} Feature Importance\")\n",
    "\n",
    "# Save the best model \n",
    "dump(models[\"Gradient Boosting\"], open('insurance_model.pkl', 'wb'))\n",
    "\n",
    "# Visualize overall performance\n",
    "plt.figure(figsize=(10, 6))\n",
    "sns.barplot(x=list(metrics.keys()), y=[m[\"Test R2\"] for m in metrics.values()])\n",
    "plt.title(\"Model Comparison (Test R2)\")\n",
    "plt.ylabel(\"R2 Score\")\n",
    "plt.show()"
   ]
  },
  {
   "cell_type": "markdown",
   "metadata": {},
   "source": [
    "Test how Gradient Boosting performs (best from all models). Gradient Boosting and Random Forest perform best, because all the features are important for their predictions."
   ]
  },
  {
   "cell_type": "code",
   "execution_count": 28,
   "metadata": {},
   "outputs": [
    {
     "name": "stdout",
     "output_type": "stream",
     "text": [
      "Predicted charge for new data: 17756.51390169379\n"
     ]
    }
   ],
   "source": [
    "# Test prediction\n",
    "new_data = pd.DataFrame({'age': 19, 'sex': 0, 'bmi': 27.9, 'children': 0, 'smoker': 1, 'region': 1}, index=[0])\n",
    "new_data[['age', 'bmi', 'children']] = scaler.transform(new_data[['age', 'bmi', 'children']])\n",
    "predicted_charge = models[\"Gradient Boosting\"].predict(new_data)\n",
    "print(f\"Predicted charge for new data: {predicted_charge[0]}\")"
   ]
  }
 ],
 "metadata": {
  "kernelspec": {
   "display_name": "Python 3",
   "language": "python",
   "name": "python3"
  },
  "language_info": {
   "codemirror_mode": {
    "name": "ipython",
    "version": 3
   },
   "file_extension": ".py",
   "mimetype": "text/x-python",
   "name": "python",
   "nbconvert_exporter": "python",
   "pygments_lexer": "ipython3",
   "version": "3.6.9"
  }
 },
 "nbformat": 4,
 "nbformat_minor": 2
}
